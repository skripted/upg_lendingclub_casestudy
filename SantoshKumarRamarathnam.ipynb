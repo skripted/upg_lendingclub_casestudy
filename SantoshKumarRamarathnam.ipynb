{
  "cells": [
    {
      "cell_type": "markdown",
      "metadata": {
        "id": "view-in-github"
      },
      "source": [
        "<a href=\"https://colab.research.google.com/github/skripted/upg_lendingclub_casestudy/blob/main/LC_Santosh.ipynb\" target=\"_parent\"><img src=\"https://colab.research.google.com/assets/colab-badge.svg\" alt=\"Open In Colab\"/></a>"
      ]
    },
    {
      "cell_type": "markdown",
      "metadata": {
        "id": "sL3RWhsvmOuk"
      },
      "source": [
        "# Lending Club Case Study\n",
        "\n",
        "### Group\n",
        "    Vigneshwar\n",
        "    Santosh Kumar Ramarathnam"
      ]
    },
    {
      "cell_type": "markdown",
      "metadata": {
        "id": "WE9LrpOkmOul"
      },
      "source": [
        "## Initializing and reading through data\n",
        "\n",
        "First step is to do basic loading of data and reviewing through what the data looks like. We have 111 columns describing loan data through the time period 2007 to 2011. "
      ]
    },
    {
      "cell_type": "code",
      "source": [
        "import pandas as pd\n",
        "import numpy as np\n",
        "import matplotlib.pyplot as plt\n",
        "from matplotlib import style\n",
        "import seaborn as sns\n",
        "sns.set(style='whitegrid')"
      ],
      "metadata": {
        "id": "Jg3sjigfKHM-"
      },
      "execution_count": 92,
      "outputs": []
    },
    {
      "cell_type": "code",
      "execution_count": 4,
      "metadata": {
        "colab": {
          "base_uri": "https://localhost:8080/"
        },
        "id": "-zZyxQZVmOul",
        "outputId": "c0550d8c-00f1-447c-9ae8-b84543ae60bd"
      },
      "outputs": [
        {
          "output_type": "execute_result",
          "data": {
            "text/plain": [
              "(39717, 111)"
            ]
          },
          "metadata": {},
          "execution_count": 4
        }
      ],
      "source": [
        "loandata = pd.read_csv('/content/drive/My Drive/lendingclub/loan.csv',encoding = \"ISO-8859-1\", low_memory=False)\n",
        "\n",
        "loandata.shape"
      ]
    },
    {
      "cell_type": "code",
      "source": [
        "from google.colab import drive\n",
        "drive.mount('/content/drive')"
      ],
      "metadata": {
        "colab": {
          "base_uri": "https://localhost:8080/"
        },
        "id": "FJS-X-L5mXy6",
        "outputId": "95244497-12fc-46fa-d33b-86f4de378908"
      },
      "execution_count": 5,
      "outputs": [
        {
          "output_type": "stream",
          "name": "stdout",
          "text": [
            "Drive already mounted at /content/drive; to attempt to forcibly remount, call drive.mount(\"/content/drive\", force_remount=True).\n"
          ]
        }
      ]
    },
    {
      "cell_type": "code",
      "execution_count": 6,
      "metadata": {
        "colab": {
          "base_uri": "https://localhost:8080/",
          "height": 390
        },
        "id": "jpME0W2OmOup",
        "outputId": "4158f579-e2ed-479f-ec7c-a759b87e9cec"
      },
      "outputs": [
        {
          "output_type": "execute_result",
          "data": {
            "text/html": [
              "\n",
              "  <div id=\"df-b283162f-4ae5-424f-a2ba-39acfeb8693b\">\n",
              "    <div class=\"colab-df-container\">\n",
              "      <div>\n",
              "<style scoped>\n",
              "    .dataframe tbody tr th:only-of-type {\n",
              "        vertical-align: middle;\n",
              "    }\n",
              "\n",
              "    .dataframe tbody tr th {\n",
              "        vertical-align: top;\n",
              "    }\n",
              "\n",
              "    .dataframe thead th {\n",
              "        text-align: right;\n",
              "    }\n",
              "</style>\n",
              "<table border=\"1\" class=\"dataframe\">\n",
              "  <thead>\n",
              "    <tr style=\"text-align: right;\">\n",
              "      <th></th>\n",
              "      <th>id</th>\n",
              "      <th>member_id</th>\n",
              "      <th>loan_amnt</th>\n",
              "      <th>funded_amnt</th>\n",
              "      <th>funded_amnt_inv</th>\n",
              "      <th>installment</th>\n",
              "      <th>annual_inc</th>\n",
              "      <th>dti</th>\n",
              "      <th>delinq_2yrs</th>\n",
              "      <th>inq_last_6mths</th>\n",
              "      <th>...</th>\n",
              "      <th>num_tl_90g_dpd_24m</th>\n",
              "      <th>num_tl_op_past_12m</th>\n",
              "      <th>pct_tl_nvr_dlq</th>\n",
              "      <th>percent_bc_gt_75</th>\n",
              "      <th>pub_rec_bankruptcies</th>\n",
              "      <th>tax_liens</th>\n",
              "      <th>tot_hi_cred_lim</th>\n",
              "      <th>total_bal_ex_mort</th>\n",
              "      <th>total_bc_limit</th>\n",
              "      <th>total_il_high_credit_limit</th>\n",
              "    </tr>\n",
              "  </thead>\n",
              "  <tbody>\n",
              "    <tr>\n",
              "      <th>count</th>\n",
              "      <td>3.971700e+04</td>\n",
              "      <td>3.971700e+04</td>\n",
              "      <td>39717.000000</td>\n",
              "      <td>39717.000000</td>\n",
              "      <td>39717.000000</td>\n",
              "      <td>39717.000000</td>\n",
              "      <td>3.971700e+04</td>\n",
              "      <td>39717.000000</td>\n",
              "      <td>39717.000000</td>\n",
              "      <td>39717.000000</td>\n",
              "      <td>...</td>\n",
              "      <td>0.0</td>\n",
              "      <td>0.0</td>\n",
              "      <td>0.0</td>\n",
              "      <td>0.0</td>\n",
              "      <td>39020.000000</td>\n",
              "      <td>39678.0</td>\n",
              "      <td>0.0</td>\n",
              "      <td>0.0</td>\n",
              "      <td>0.0</td>\n",
              "      <td>0.0</td>\n",
              "    </tr>\n",
              "    <tr>\n",
              "      <th>mean</th>\n",
              "      <td>6.831319e+05</td>\n",
              "      <td>8.504636e+05</td>\n",
              "      <td>11219.443815</td>\n",
              "      <td>10947.713196</td>\n",
              "      <td>10397.448868</td>\n",
              "      <td>324.561922</td>\n",
              "      <td>6.896893e+04</td>\n",
              "      <td>13.315130</td>\n",
              "      <td>0.146512</td>\n",
              "      <td>0.869200</td>\n",
              "      <td>...</td>\n",
              "      <td>NaN</td>\n",
              "      <td>NaN</td>\n",
              "      <td>NaN</td>\n",
              "      <td>NaN</td>\n",
              "      <td>0.043260</td>\n",
              "      <td>0.0</td>\n",
              "      <td>NaN</td>\n",
              "      <td>NaN</td>\n",
              "      <td>NaN</td>\n",
              "      <td>NaN</td>\n",
              "    </tr>\n",
              "    <tr>\n",
              "      <th>std</th>\n",
              "      <td>2.106941e+05</td>\n",
              "      <td>2.656783e+05</td>\n",
              "      <td>7456.670694</td>\n",
              "      <td>7187.238670</td>\n",
              "      <td>7128.450439</td>\n",
              "      <td>208.874874</td>\n",
              "      <td>6.379377e+04</td>\n",
              "      <td>6.678594</td>\n",
              "      <td>0.491812</td>\n",
              "      <td>1.070219</td>\n",
              "      <td>...</td>\n",
              "      <td>NaN</td>\n",
              "      <td>NaN</td>\n",
              "      <td>NaN</td>\n",
              "      <td>NaN</td>\n",
              "      <td>0.204324</td>\n",
              "      <td>0.0</td>\n",
              "      <td>NaN</td>\n",
              "      <td>NaN</td>\n",
              "      <td>NaN</td>\n",
              "      <td>NaN</td>\n",
              "    </tr>\n",
              "    <tr>\n",
              "      <th>min</th>\n",
              "      <td>5.473400e+04</td>\n",
              "      <td>7.069900e+04</td>\n",
              "      <td>500.000000</td>\n",
              "      <td>500.000000</td>\n",
              "      <td>0.000000</td>\n",
              "      <td>15.690000</td>\n",
              "      <td>4.000000e+03</td>\n",
              "      <td>0.000000</td>\n",
              "      <td>0.000000</td>\n",
              "      <td>0.000000</td>\n",
              "      <td>...</td>\n",
              "      <td>NaN</td>\n",
              "      <td>NaN</td>\n",
              "      <td>NaN</td>\n",
              "      <td>NaN</td>\n",
              "      <td>0.000000</td>\n",
              "      <td>0.0</td>\n",
              "      <td>NaN</td>\n",
              "      <td>NaN</td>\n",
              "      <td>NaN</td>\n",
              "      <td>NaN</td>\n",
              "    </tr>\n",
              "    <tr>\n",
              "      <th>25%</th>\n",
              "      <td>5.162210e+05</td>\n",
              "      <td>6.667800e+05</td>\n",
              "      <td>5500.000000</td>\n",
              "      <td>5400.000000</td>\n",
              "      <td>5000.000000</td>\n",
              "      <td>167.020000</td>\n",
              "      <td>4.040400e+04</td>\n",
              "      <td>8.170000</td>\n",
              "      <td>0.000000</td>\n",
              "      <td>0.000000</td>\n",
              "      <td>...</td>\n",
              "      <td>NaN</td>\n",
              "      <td>NaN</td>\n",
              "      <td>NaN</td>\n",
              "      <td>NaN</td>\n",
              "      <td>0.000000</td>\n",
              "      <td>0.0</td>\n",
              "      <td>NaN</td>\n",
              "      <td>NaN</td>\n",
              "      <td>NaN</td>\n",
              "      <td>NaN</td>\n",
              "    </tr>\n",
              "    <tr>\n",
              "      <th>50%</th>\n",
              "      <td>6.656650e+05</td>\n",
              "      <td>8.508120e+05</td>\n",
              "      <td>10000.000000</td>\n",
              "      <td>9600.000000</td>\n",
              "      <td>8975.000000</td>\n",
              "      <td>280.220000</td>\n",
              "      <td>5.900000e+04</td>\n",
              "      <td>13.400000</td>\n",
              "      <td>0.000000</td>\n",
              "      <td>1.000000</td>\n",
              "      <td>...</td>\n",
              "      <td>NaN</td>\n",
              "      <td>NaN</td>\n",
              "      <td>NaN</td>\n",
              "      <td>NaN</td>\n",
              "      <td>0.000000</td>\n",
              "      <td>0.0</td>\n",
              "      <td>NaN</td>\n",
              "      <td>NaN</td>\n",
              "      <td>NaN</td>\n",
              "      <td>NaN</td>\n",
              "    </tr>\n",
              "    <tr>\n",
              "      <th>75%</th>\n",
              "      <td>8.377550e+05</td>\n",
              "      <td>1.047339e+06</td>\n",
              "      <td>15000.000000</td>\n",
              "      <td>15000.000000</td>\n",
              "      <td>14400.000000</td>\n",
              "      <td>430.780000</td>\n",
              "      <td>8.230000e+04</td>\n",
              "      <td>18.600000</td>\n",
              "      <td>0.000000</td>\n",
              "      <td>1.000000</td>\n",
              "      <td>...</td>\n",
              "      <td>NaN</td>\n",
              "      <td>NaN</td>\n",
              "      <td>NaN</td>\n",
              "      <td>NaN</td>\n",
              "      <td>0.000000</td>\n",
              "      <td>0.0</td>\n",
              "      <td>NaN</td>\n",
              "      <td>NaN</td>\n",
              "      <td>NaN</td>\n",
              "      <td>NaN</td>\n",
              "    </tr>\n",
              "    <tr>\n",
              "      <th>max</th>\n",
              "      <td>1.077501e+06</td>\n",
              "      <td>1.314167e+06</td>\n",
              "      <td>35000.000000</td>\n",
              "      <td>35000.000000</td>\n",
              "      <td>35000.000000</td>\n",
              "      <td>1305.190000</td>\n",
              "      <td>6.000000e+06</td>\n",
              "      <td>29.990000</td>\n",
              "      <td>11.000000</td>\n",
              "      <td>8.000000</td>\n",
              "      <td>...</td>\n",
              "      <td>NaN</td>\n",
              "      <td>NaN</td>\n",
              "      <td>NaN</td>\n",
              "      <td>NaN</td>\n",
              "      <td>2.000000</td>\n",
              "      <td>0.0</td>\n",
              "      <td>NaN</td>\n",
              "      <td>NaN</td>\n",
              "      <td>NaN</td>\n",
              "      <td>NaN</td>\n",
              "    </tr>\n",
              "  </tbody>\n",
              "</table>\n",
              "<p>8 rows × 87 columns</p>\n",
              "</div>\n",
              "      <button class=\"colab-df-convert\" onclick=\"convertToInteractive('df-b283162f-4ae5-424f-a2ba-39acfeb8693b')\"\n",
              "              title=\"Convert this dataframe to an interactive table.\"\n",
              "              style=\"display:none;\">\n",
              "        \n",
              "  <svg xmlns=\"http://www.w3.org/2000/svg\" height=\"24px\"viewBox=\"0 0 24 24\"\n",
              "       width=\"24px\">\n",
              "    <path d=\"M0 0h24v24H0V0z\" fill=\"none\"/>\n",
              "    <path d=\"M18.56 5.44l.94 2.06.94-2.06 2.06-.94-2.06-.94-.94-2.06-.94 2.06-2.06.94zm-11 1L8.5 8.5l.94-2.06 2.06-.94-2.06-.94L8.5 2.5l-.94 2.06-2.06.94zm10 10l.94 2.06.94-2.06 2.06-.94-2.06-.94-.94-2.06-.94 2.06-2.06.94z\"/><path d=\"M17.41 7.96l-1.37-1.37c-.4-.4-.92-.59-1.43-.59-.52 0-1.04.2-1.43.59L10.3 9.45l-7.72 7.72c-.78.78-.78 2.05 0 2.83L4 21.41c.39.39.9.59 1.41.59.51 0 1.02-.2 1.41-.59l7.78-7.78 2.81-2.81c.8-.78.8-2.07 0-2.86zM5.41 20L4 18.59l7.72-7.72 1.47 1.35L5.41 20z\"/>\n",
              "  </svg>\n",
              "      </button>\n",
              "      \n",
              "  <style>\n",
              "    .colab-df-container {\n",
              "      display:flex;\n",
              "      flex-wrap:wrap;\n",
              "      gap: 12px;\n",
              "    }\n",
              "\n",
              "    .colab-df-convert {\n",
              "      background-color: #E8F0FE;\n",
              "      border: none;\n",
              "      border-radius: 50%;\n",
              "      cursor: pointer;\n",
              "      display: none;\n",
              "      fill: #1967D2;\n",
              "      height: 32px;\n",
              "      padding: 0 0 0 0;\n",
              "      width: 32px;\n",
              "    }\n",
              "\n",
              "    .colab-df-convert:hover {\n",
              "      background-color: #E2EBFA;\n",
              "      box-shadow: 0px 1px 2px rgba(60, 64, 67, 0.3), 0px 1px 3px 1px rgba(60, 64, 67, 0.15);\n",
              "      fill: #174EA6;\n",
              "    }\n",
              "\n",
              "    [theme=dark] .colab-df-convert {\n",
              "      background-color: #3B4455;\n",
              "      fill: #D2E3FC;\n",
              "    }\n",
              "\n",
              "    [theme=dark] .colab-df-convert:hover {\n",
              "      background-color: #434B5C;\n",
              "      box-shadow: 0px 1px 3px 1px rgba(0, 0, 0, 0.15);\n",
              "      filter: drop-shadow(0px 1px 2px rgba(0, 0, 0, 0.3));\n",
              "      fill: #FFFFFF;\n",
              "    }\n",
              "  </style>\n",
              "\n",
              "      <script>\n",
              "        const buttonEl =\n",
              "          document.querySelector('#df-b283162f-4ae5-424f-a2ba-39acfeb8693b button.colab-df-convert');\n",
              "        buttonEl.style.display =\n",
              "          google.colab.kernel.accessAllowed ? 'block' : 'none';\n",
              "\n",
              "        async function convertToInteractive(key) {\n",
              "          const element = document.querySelector('#df-b283162f-4ae5-424f-a2ba-39acfeb8693b');\n",
              "          const dataTable =\n",
              "            await google.colab.kernel.invokeFunction('convertToInteractive',\n",
              "                                                     [key], {});\n",
              "          if (!dataTable) return;\n",
              "\n",
              "          const docLinkHtml = 'Like what you see? Visit the ' +\n",
              "            '<a target=\"_blank\" href=https://colab.research.google.com/notebooks/data_table.ipynb>data table notebook</a>'\n",
              "            + ' to learn more about interactive tables.';\n",
              "          element.innerHTML = '';\n",
              "          dataTable['output_type'] = 'display_data';\n",
              "          await google.colab.output.renderOutput(dataTable, element);\n",
              "          const docLink = document.createElement('div');\n",
              "          docLink.innerHTML = docLinkHtml;\n",
              "          element.appendChild(docLink);\n",
              "        }\n",
              "      </script>\n",
              "    </div>\n",
              "  </div>\n",
              "  "
            ],
            "text/plain": [
              "                 id     member_id     loan_amnt   funded_amnt  \\\n",
              "count  3.971700e+04  3.971700e+04  39717.000000  39717.000000   \n",
              "mean   6.831319e+05  8.504636e+05  11219.443815  10947.713196   \n",
              "std    2.106941e+05  2.656783e+05   7456.670694   7187.238670   \n",
              "min    5.473400e+04  7.069900e+04    500.000000    500.000000   \n",
              "25%    5.162210e+05  6.667800e+05   5500.000000   5400.000000   \n",
              "50%    6.656650e+05  8.508120e+05  10000.000000   9600.000000   \n",
              "75%    8.377550e+05  1.047339e+06  15000.000000  15000.000000   \n",
              "max    1.077501e+06  1.314167e+06  35000.000000  35000.000000   \n",
              "\n",
              "       funded_amnt_inv   installment    annual_inc           dti  \\\n",
              "count     39717.000000  39717.000000  3.971700e+04  39717.000000   \n",
              "mean      10397.448868    324.561922  6.896893e+04     13.315130   \n",
              "std        7128.450439    208.874874  6.379377e+04      6.678594   \n",
              "min           0.000000     15.690000  4.000000e+03      0.000000   \n",
              "25%        5000.000000    167.020000  4.040400e+04      8.170000   \n",
              "50%        8975.000000    280.220000  5.900000e+04     13.400000   \n",
              "75%       14400.000000    430.780000  8.230000e+04     18.600000   \n",
              "max       35000.000000   1305.190000  6.000000e+06     29.990000   \n",
              "\n",
              "        delinq_2yrs  inq_last_6mths  ...  num_tl_90g_dpd_24m  \\\n",
              "count  39717.000000    39717.000000  ...                 0.0   \n",
              "mean       0.146512        0.869200  ...                 NaN   \n",
              "std        0.491812        1.070219  ...                 NaN   \n",
              "min        0.000000        0.000000  ...                 NaN   \n",
              "25%        0.000000        0.000000  ...                 NaN   \n",
              "50%        0.000000        1.000000  ...                 NaN   \n",
              "75%        0.000000        1.000000  ...                 NaN   \n",
              "max       11.000000        8.000000  ...                 NaN   \n",
              "\n",
              "       num_tl_op_past_12m  pct_tl_nvr_dlq  percent_bc_gt_75  \\\n",
              "count                 0.0             0.0               0.0   \n",
              "mean                  NaN             NaN               NaN   \n",
              "std                   NaN             NaN               NaN   \n",
              "min                   NaN             NaN               NaN   \n",
              "25%                   NaN             NaN               NaN   \n",
              "50%                   NaN             NaN               NaN   \n",
              "75%                   NaN             NaN               NaN   \n",
              "max                   NaN             NaN               NaN   \n",
              "\n",
              "       pub_rec_bankruptcies  tax_liens  tot_hi_cred_lim  total_bal_ex_mort  \\\n",
              "count          39020.000000    39678.0              0.0                0.0   \n",
              "mean               0.043260        0.0              NaN                NaN   \n",
              "std                0.204324        0.0              NaN                NaN   \n",
              "min                0.000000        0.0              NaN                NaN   \n",
              "25%                0.000000        0.0              NaN                NaN   \n",
              "50%                0.000000        0.0              NaN                NaN   \n",
              "75%                0.000000        0.0              NaN                NaN   \n",
              "max                2.000000        0.0              NaN                NaN   \n",
              "\n",
              "       total_bc_limit  total_il_high_credit_limit  \n",
              "count             0.0                         0.0  \n",
              "mean              NaN                         NaN  \n",
              "std               NaN                         NaN  \n",
              "min               NaN                         NaN  \n",
              "25%               NaN                         NaN  \n",
              "50%               NaN                         NaN  \n",
              "75%               NaN                         NaN  \n",
              "max               NaN                         NaN  \n",
              "\n",
              "[8 rows x 87 columns]"
            ]
          },
          "metadata": {},
          "execution_count": 6
        }
      ],
      "source": [
        "loandata.describe()"
      ]
    },
    {
      "cell_type": "code",
      "execution_count": 7,
      "metadata": {
        "id": "yBOnFFTKmOus"
      },
      "outputs": [],
      "source": [
        "# Configure / set display options\n",
        "pd.set_option('display.max_rows',None)\n",
        "pd.set_option('display.max_columns',None)"
      ]
    },
    {
      "cell_type": "markdown",
      "metadata": {
        "id": "AxTKUMSymOuv"
      },
      "source": [
        "## Cleaning the data\n",
        "\n",
        "Second step, is for us to clean the data: \n",
        "1. Assess columns that we will use for our analysis\n",
        "2. Looking for missing values and identifying replacements\n",
        "3. Clean data type and adjust value precision (currency, date formats,rate percentages)\n",
        "4. Create Useful derived columns"
      ]
    },
    {
      "cell_type": "code",
      "execution_count": 8,
      "metadata": {
        "colab": {
          "base_uri": "https://localhost:8080/"
        },
        "id": "WOIfuhfImOuv",
        "outputId": "aedc1b28-b0e9-47bd-ceb1-3575c823c5cc"
      },
      "outputs": [
        {
          "output_type": "execute_result",
          "data": {
            "text/plain": [
              "emp_title                           6.19\n",
              "emp_length                          2.71\n",
              "desc                               32.58\n",
              "title                               0.03\n",
              "mths_since_last_delinq             64.66\n",
              "mths_since_last_record             92.99\n",
              "revol_util                          0.13\n",
              "last_pymnt_d                        0.18\n",
              "next_pymnt_d                       97.13\n",
              "last_credit_pull_d                  0.01\n",
              "collections_12_mths_ex_med          0.14\n",
              "mths_since_last_major_derog       100.00\n",
              "annual_inc_joint                  100.00\n",
              "dti_joint                         100.00\n",
              "verification_status_joint         100.00\n",
              "tot_coll_amt                      100.00\n",
              "tot_cur_bal                       100.00\n",
              "open_acc_6m                       100.00\n",
              "open_il_6m                        100.00\n",
              "open_il_12m                       100.00\n",
              "open_il_24m                       100.00\n",
              "mths_since_rcnt_il                100.00\n",
              "total_bal_il                      100.00\n",
              "il_util                           100.00\n",
              "open_rv_12m                       100.00\n",
              "open_rv_24m                       100.00\n",
              "max_bal_bc                        100.00\n",
              "all_util                          100.00\n",
              "total_rev_hi_lim                  100.00\n",
              "inq_fi                            100.00\n",
              "total_cu_tl                       100.00\n",
              "inq_last_12m                      100.00\n",
              "acc_open_past_24mths              100.00\n",
              "avg_cur_bal                       100.00\n",
              "bc_open_to_buy                    100.00\n",
              "bc_util                           100.00\n",
              "chargeoff_within_12_mths            0.14\n",
              "mo_sin_old_il_acct                100.00\n",
              "mo_sin_old_rev_tl_op              100.00\n",
              "mo_sin_rcnt_rev_tl_op             100.00\n",
              "mo_sin_rcnt_tl                    100.00\n",
              "mort_acc                          100.00\n",
              "mths_since_recent_bc              100.00\n",
              "mths_since_recent_bc_dlq          100.00\n",
              "mths_since_recent_inq             100.00\n",
              "mths_since_recent_revol_delinq    100.00\n",
              "num_accts_ever_120_pd             100.00\n",
              "num_actv_bc_tl                    100.00\n",
              "num_actv_rev_tl                   100.00\n",
              "num_bc_sats                       100.00\n",
              "num_bc_tl                         100.00\n",
              "num_il_tl                         100.00\n",
              "num_op_rev_tl                     100.00\n",
              "num_rev_accts                     100.00\n",
              "num_rev_tl_bal_gt_0               100.00\n",
              "num_sats                          100.00\n",
              "num_tl_120dpd_2m                  100.00\n",
              "num_tl_30dpd                      100.00\n",
              "num_tl_90g_dpd_24m                100.00\n",
              "num_tl_op_past_12m                100.00\n",
              "pct_tl_nvr_dlq                    100.00\n",
              "percent_bc_gt_75                  100.00\n",
              "pub_rec_bankruptcies                1.75\n",
              "tax_liens                           0.10\n",
              "tot_hi_cred_lim                   100.00\n",
              "total_bal_ex_mort                 100.00\n",
              "total_bc_limit                    100.00\n",
              "total_il_high_credit_limit        100.00\n",
              "dtype: float64"
            ]
          },
          "metadata": {},
          "execution_count": 8
        }
      ],
      "source": [
        "missingdataincolumns = round(100*(loandata.isnull().sum()/len(loandata.id)),2)\n",
        "missingdataincolumns.loc[missingdataincolumns > 0]"
      ]
    },
    {
      "cell_type": "markdown",
      "metadata": {
        "id": "pPtKFYlHmOuw"
      },
      "source": [
        "Let's remove the columns with majority of the data missing (51%) as they would not be useful in our analysis."
      ]
    },
    {
      "cell_type": "code",
      "execution_count": 9,
      "metadata": {
        "colab": {
          "base_uri": "https://localhost:8080/"
        },
        "id": "HwWKwzhYmOuw",
        "outputId": "447cc568-ffca-46d1-8ee9-9fa5bef5b16c"
      },
      "outputs": [
        {
          "output_type": "execute_result",
          "data": {
            "text/plain": [
              "57"
            ]
          },
          "metadata": {},
          "execution_count": 9
        }
      ],
      "source": [
        "cols_missingdata = list(missingdataincolumns[missingdataincolumns >=51].index)\n",
        "len(cols_missingdata)"
      ]
    },
    {
      "cell_type": "markdown",
      "metadata": {
        "id": "G0ZnR4zjmOuw"
      },
      "source": [
        "Dropping these 57 columns will clear the noise. "
      ]
    },
    {
      "cell_type": "code",
      "execution_count": 10,
      "metadata": {
        "colab": {
          "base_uri": "https://localhost:8080/"
        },
        "id": "L29TQ4smmOux",
        "outputId": "7bfc6a28-d78b-4a69-b061-ea678881c7e4"
      },
      "outputs": [
        {
          "output_type": "execute_result",
          "data": {
            "text/plain": [
              "(39717, 54)"
            ]
          },
          "metadata": {},
          "execution_count": 10
        }
      ],
      "source": [
        "loandata = loandata.drop(cols_missingdata,axis=1)\n",
        "loandata.shape"
      ]
    },
    {
      "cell_type": "code",
      "execution_count": 11,
      "metadata": {
        "colab": {
          "base_uri": "https://localhost:8080/"
        },
        "id": "TynwDHFCmOuz",
        "outputId": "085f6574-1626-494e-dd63-9f7867fb3759"
      },
      "outputs": [
        {
          "output_type": "execute_result",
          "data": {
            "text/plain": [
              "emp_title                      6.19\n",
              "emp_length                     2.71\n",
              "desc                          32.58\n",
              "title                          0.03\n",
              "revol_util                     0.13\n",
              "last_pymnt_d                   0.18\n",
              "last_credit_pull_d             0.01\n",
              "collections_12_mths_ex_med     0.14\n",
              "chargeoff_within_12_mths       0.14\n",
              "pub_rec_bankruptcies           1.75\n",
              "tax_liens                      0.10\n",
              "dtype: float64"
            ]
          },
          "metadata": {},
          "execution_count": 11
        }
      ],
      "source": [
        "missingdataincolumns = round(100*(loandata.isnull().sum()/len(loandata.id)),2)\n",
        "missingdataincolumns[missingdataincolumns!=0]"
      ]
    },
    {
      "cell_type": "code",
      "source": [
        "#dropping the desc column since more usable information is captured in other columns\n",
        "loandata = loandata.drop('desc',axis=1)"
      ],
      "metadata": {
        "id": "tDoXh9c6nWTt"
      },
      "execution_count": 12,
      "outputs": []
    },
    {
      "cell_type": "code",
      "source": [
        "loandata.describe()"
      ],
      "metadata": {
        "colab": {
          "base_uri": "https://localhost:8080/",
          "height": 361
        },
        "id": "USXTU7g0nfqe",
        "outputId": "517a5572-1788-424b-d94a-c3c7da8d20eb"
      },
      "execution_count": 13,
      "outputs": [
        {
          "output_type": "execute_result",
          "data": {
            "text/html": [
              "\n",
              "  <div id=\"df-dd5d5a72-5589-4bcf-876e-ba1bd15f2a36\">\n",
              "    <div class=\"colab-df-container\">\n",
              "      <div>\n",
              "<style scoped>\n",
              "    .dataframe tbody tr th:only-of-type {\n",
              "        vertical-align: middle;\n",
              "    }\n",
              "\n",
              "    .dataframe tbody tr th {\n",
              "        vertical-align: top;\n",
              "    }\n",
              "\n",
              "    .dataframe thead th {\n",
              "        text-align: right;\n",
              "    }\n",
              "</style>\n",
              "<table border=\"1\" class=\"dataframe\">\n",
              "  <thead>\n",
              "    <tr style=\"text-align: right;\">\n",
              "      <th></th>\n",
              "      <th>id</th>\n",
              "      <th>member_id</th>\n",
              "      <th>loan_amnt</th>\n",
              "      <th>funded_amnt</th>\n",
              "      <th>funded_amnt_inv</th>\n",
              "      <th>installment</th>\n",
              "      <th>annual_inc</th>\n",
              "      <th>dti</th>\n",
              "      <th>delinq_2yrs</th>\n",
              "      <th>inq_last_6mths</th>\n",
              "      <th>open_acc</th>\n",
              "      <th>pub_rec</th>\n",
              "      <th>revol_bal</th>\n",
              "      <th>total_acc</th>\n",
              "      <th>out_prncp</th>\n",
              "      <th>out_prncp_inv</th>\n",
              "      <th>total_pymnt</th>\n",
              "      <th>total_pymnt_inv</th>\n",
              "      <th>total_rec_prncp</th>\n",
              "      <th>total_rec_int</th>\n",
              "      <th>total_rec_late_fee</th>\n",
              "      <th>recoveries</th>\n",
              "      <th>collection_recovery_fee</th>\n",
              "      <th>last_pymnt_amnt</th>\n",
              "      <th>collections_12_mths_ex_med</th>\n",
              "      <th>policy_code</th>\n",
              "      <th>acc_now_delinq</th>\n",
              "      <th>chargeoff_within_12_mths</th>\n",
              "      <th>delinq_amnt</th>\n",
              "      <th>pub_rec_bankruptcies</th>\n",
              "      <th>tax_liens</th>\n",
              "    </tr>\n",
              "  </thead>\n",
              "  <tbody>\n",
              "    <tr>\n",
              "      <th>count</th>\n",
              "      <td>3.971700e+04</td>\n",
              "      <td>3.971700e+04</td>\n",
              "      <td>39717.000000</td>\n",
              "      <td>39717.000000</td>\n",
              "      <td>39717.000000</td>\n",
              "      <td>39717.000000</td>\n",
              "      <td>3.971700e+04</td>\n",
              "      <td>39717.000000</td>\n",
              "      <td>39717.000000</td>\n",
              "      <td>39717.000000</td>\n",
              "      <td>39717.000000</td>\n",
              "      <td>39717.000000</td>\n",
              "      <td>39717.000000</td>\n",
              "      <td>39717.000000</td>\n",
              "      <td>39717.000000</td>\n",
              "      <td>39717.000000</td>\n",
              "      <td>39717.000000</td>\n",
              "      <td>39717.000000</td>\n",
              "      <td>39717.000000</td>\n",
              "      <td>39717.000000</td>\n",
              "      <td>39717.000000</td>\n",
              "      <td>39717.000000</td>\n",
              "      <td>39717.000000</td>\n",
              "      <td>39717.000000</td>\n",
              "      <td>39661.0</td>\n",
              "      <td>39717.0</td>\n",
              "      <td>39717.0</td>\n",
              "      <td>39661.0</td>\n",
              "      <td>39717.0</td>\n",
              "      <td>39020.000000</td>\n",
              "      <td>39678.0</td>\n",
              "    </tr>\n",
              "    <tr>\n",
              "      <th>mean</th>\n",
              "      <td>6.831319e+05</td>\n",
              "      <td>8.504636e+05</td>\n",
              "      <td>11219.443815</td>\n",
              "      <td>10947.713196</td>\n",
              "      <td>10397.448868</td>\n",
              "      <td>324.561922</td>\n",
              "      <td>6.896893e+04</td>\n",
              "      <td>13.315130</td>\n",
              "      <td>0.146512</td>\n",
              "      <td>0.869200</td>\n",
              "      <td>9.294408</td>\n",
              "      <td>0.055065</td>\n",
              "      <td>13382.528086</td>\n",
              "      <td>22.088828</td>\n",
              "      <td>51.227887</td>\n",
              "      <td>50.989768</td>\n",
              "      <td>12153.596544</td>\n",
              "      <td>11567.149118</td>\n",
              "      <td>9793.348813</td>\n",
              "      <td>2263.663172</td>\n",
              "      <td>1.363015</td>\n",
              "      <td>95.221624</td>\n",
              "      <td>12.406112</td>\n",
              "      <td>2678.826162</td>\n",
              "      <td>0.0</td>\n",
              "      <td>1.0</td>\n",
              "      <td>0.0</td>\n",
              "      <td>0.0</td>\n",
              "      <td>0.0</td>\n",
              "      <td>0.043260</td>\n",
              "      <td>0.0</td>\n",
              "    </tr>\n",
              "    <tr>\n",
              "      <th>std</th>\n",
              "      <td>2.106941e+05</td>\n",
              "      <td>2.656783e+05</td>\n",
              "      <td>7456.670694</td>\n",
              "      <td>7187.238670</td>\n",
              "      <td>7128.450439</td>\n",
              "      <td>208.874874</td>\n",
              "      <td>6.379377e+04</td>\n",
              "      <td>6.678594</td>\n",
              "      <td>0.491812</td>\n",
              "      <td>1.070219</td>\n",
              "      <td>4.400282</td>\n",
              "      <td>0.237200</td>\n",
              "      <td>15885.016641</td>\n",
              "      <td>11.401709</td>\n",
              "      <td>375.172839</td>\n",
              "      <td>373.824457</td>\n",
              "      <td>9042.040766</td>\n",
              "      <td>8942.672613</td>\n",
              "      <td>7065.522127</td>\n",
              "      <td>2608.111964</td>\n",
              "      <td>7.289979</td>\n",
              "      <td>688.744771</td>\n",
              "      <td>148.671593</td>\n",
              "      <td>4447.136012</td>\n",
              "      <td>0.0</td>\n",
              "      <td>0.0</td>\n",
              "      <td>0.0</td>\n",
              "      <td>0.0</td>\n",
              "      <td>0.0</td>\n",
              "      <td>0.204324</td>\n",
              "      <td>0.0</td>\n",
              "    </tr>\n",
              "    <tr>\n",
              "      <th>min</th>\n",
              "      <td>5.473400e+04</td>\n",
              "      <td>7.069900e+04</td>\n",
              "      <td>500.000000</td>\n",
              "      <td>500.000000</td>\n",
              "      <td>0.000000</td>\n",
              "      <td>15.690000</td>\n",
              "      <td>4.000000e+03</td>\n",
              "      <td>0.000000</td>\n",
              "      <td>0.000000</td>\n",
              "      <td>0.000000</td>\n",
              "      <td>2.000000</td>\n",
              "      <td>0.000000</td>\n",
              "      <td>0.000000</td>\n",
              "      <td>2.000000</td>\n",
              "      <td>0.000000</td>\n",
              "      <td>0.000000</td>\n",
              "      <td>0.000000</td>\n",
              "      <td>0.000000</td>\n",
              "      <td>0.000000</td>\n",
              "      <td>0.000000</td>\n",
              "      <td>0.000000</td>\n",
              "      <td>0.000000</td>\n",
              "      <td>0.000000</td>\n",
              "      <td>0.000000</td>\n",
              "      <td>0.0</td>\n",
              "      <td>1.0</td>\n",
              "      <td>0.0</td>\n",
              "      <td>0.0</td>\n",
              "      <td>0.0</td>\n",
              "      <td>0.000000</td>\n",
              "      <td>0.0</td>\n",
              "    </tr>\n",
              "    <tr>\n",
              "      <th>25%</th>\n",
              "      <td>5.162210e+05</td>\n",
              "      <td>6.667800e+05</td>\n",
              "      <td>5500.000000</td>\n",
              "      <td>5400.000000</td>\n",
              "      <td>5000.000000</td>\n",
              "      <td>167.020000</td>\n",
              "      <td>4.040400e+04</td>\n",
              "      <td>8.170000</td>\n",
              "      <td>0.000000</td>\n",
              "      <td>0.000000</td>\n",
              "      <td>6.000000</td>\n",
              "      <td>0.000000</td>\n",
              "      <td>3703.000000</td>\n",
              "      <td>13.000000</td>\n",
              "      <td>0.000000</td>\n",
              "      <td>0.000000</td>\n",
              "      <td>5576.930000</td>\n",
              "      <td>5112.310000</td>\n",
              "      <td>4600.000000</td>\n",
              "      <td>662.180000</td>\n",
              "      <td>0.000000</td>\n",
              "      <td>0.000000</td>\n",
              "      <td>0.000000</td>\n",
              "      <td>218.680000</td>\n",
              "      <td>0.0</td>\n",
              "      <td>1.0</td>\n",
              "      <td>0.0</td>\n",
              "      <td>0.0</td>\n",
              "      <td>0.0</td>\n",
              "      <td>0.000000</td>\n",
              "      <td>0.0</td>\n",
              "    </tr>\n",
              "    <tr>\n",
              "      <th>50%</th>\n",
              "      <td>6.656650e+05</td>\n",
              "      <td>8.508120e+05</td>\n",
              "      <td>10000.000000</td>\n",
              "      <td>9600.000000</td>\n",
              "      <td>8975.000000</td>\n",
              "      <td>280.220000</td>\n",
              "      <td>5.900000e+04</td>\n",
              "      <td>13.400000</td>\n",
              "      <td>0.000000</td>\n",
              "      <td>1.000000</td>\n",
              "      <td>9.000000</td>\n",
              "      <td>0.000000</td>\n",
              "      <td>8850.000000</td>\n",
              "      <td>20.000000</td>\n",
              "      <td>0.000000</td>\n",
              "      <td>0.000000</td>\n",
              "      <td>9899.640319</td>\n",
              "      <td>9287.150000</td>\n",
              "      <td>8000.000000</td>\n",
              "      <td>1348.910000</td>\n",
              "      <td>0.000000</td>\n",
              "      <td>0.000000</td>\n",
              "      <td>0.000000</td>\n",
              "      <td>546.140000</td>\n",
              "      <td>0.0</td>\n",
              "      <td>1.0</td>\n",
              "      <td>0.0</td>\n",
              "      <td>0.0</td>\n",
              "      <td>0.0</td>\n",
              "      <td>0.000000</td>\n",
              "      <td>0.0</td>\n",
              "    </tr>\n",
              "    <tr>\n",
              "      <th>75%</th>\n",
              "      <td>8.377550e+05</td>\n",
              "      <td>1.047339e+06</td>\n",
              "      <td>15000.000000</td>\n",
              "      <td>15000.000000</td>\n",
              "      <td>14400.000000</td>\n",
              "      <td>430.780000</td>\n",
              "      <td>8.230000e+04</td>\n",
              "      <td>18.600000</td>\n",
              "      <td>0.000000</td>\n",
              "      <td>1.000000</td>\n",
              "      <td>12.000000</td>\n",
              "      <td>0.000000</td>\n",
              "      <td>17058.000000</td>\n",
              "      <td>29.000000</td>\n",
              "      <td>0.000000</td>\n",
              "      <td>0.000000</td>\n",
              "      <td>16534.433040</td>\n",
              "      <td>15798.810000</td>\n",
              "      <td>13653.260000</td>\n",
              "      <td>2833.400000</td>\n",
              "      <td>0.000000</td>\n",
              "      <td>0.000000</td>\n",
              "      <td>0.000000</td>\n",
              "      <td>3293.160000</td>\n",
              "      <td>0.0</td>\n",
              "      <td>1.0</td>\n",
              "      <td>0.0</td>\n",
              "      <td>0.0</td>\n",
              "      <td>0.0</td>\n",
              "      <td>0.000000</td>\n",
              "      <td>0.0</td>\n",
              "    </tr>\n",
              "    <tr>\n",
              "      <th>max</th>\n",
              "      <td>1.077501e+06</td>\n",
              "      <td>1.314167e+06</td>\n",
              "      <td>35000.000000</td>\n",
              "      <td>35000.000000</td>\n",
              "      <td>35000.000000</td>\n",
              "      <td>1305.190000</td>\n",
              "      <td>6.000000e+06</td>\n",
              "      <td>29.990000</td>\n",
              "      <td>11.000000</td>\n",
              "      <td>8.000000</td>\n",
              "      <td>44.000000</td>\n",
              "      <td>4.000000</td>\n",
              "      <td>149588.000000</td>\n",
              "      <td>90.000000</td>\n",
              "      <td>6311.470000</td>\n",
              "      <td>6307.370000</td>\n",
              "      <td>58563.679930</td>\n",
              "      <td>58563.680000</td>\n",
              "      <td>35000.020000</td>\n",
              "      <td>23563.680000</td>\n",
              "      <td>180.200000</td>\n",
              "      <td>29623.350000</td>\n",
              "      <td>7002.190000</td>\n",
              "      <td>36115.200000</td>\n",
              "      <td>0.0</td>\n",
              "      <td>1.0</td>\n",
              "      <td>0.0</td>\n",
              "      <td>0.0</td>\n",
              "      <td>0.0</td>\n",
              "      <td>2.000000</td>\n",
              "      <td>0.0</td>\n",
              "    </tr>\n",
              "  </tbody>\n",
              "</table>\n",
              "</div>\n",
              "      <button class=\"colab-df-convert\" onclick=\"convertToInteractive('df-dd5d5a72-5589-4bcf-876e-ba1bd15f2a36')\"\n",
              "              title=\"Convert this dataframe to an interactive table.\"\n",
              "              style=\"display:none;\">\n",
              "        \n",
              "  <svg xmlns=\"http://www.w3.org/2000/svg\" height=\"24px\"viewBox=\"0 0 24 24\"\n",
              "       width=\"24px\">\n",
              "    <path d=\"M0 0h24v24H0V0z\" fill=\"none\"/>\n",
              "    <path d=\"M18.56 5.44l.94 2.06.94-2.06 2.06-.94-2.06-.94-.94-2.06-.94 2.06-2.06.94zm-11 1L8.5 8.5l.94-2.06 2.06-.94-2.06-.94L8.5 2.5l-.94 2.06-2.06.94zm10 10l.94 2.06.94-2.06 2.06-.94-2.06-.94-.94-2.06-.94 2.06-2.06.94z\"/><path d=\"M17.41 7.96l-1.37-1.37c-.4-.4-.92-.59-1.43-.59-.52 0-1.04.2-1.43.59L10.3 9.45l-7.72 7.72c-.78.78-.78 2.05 0 2.83L4 21.41c.39.39.9.59 1.41.59.51 0 1.02-.2 1.41-.59l7.78-7.78 2.81-2.81c.8-.78.8-2.07 0-2.86zM5.41 20L4 18.59l7.72-7.72 1.47 1.35L5.41 20z\"/>\n",
              "  </svg>\n",
              "      </button>\n",
              "      \n",
              "  <style>\n",
              "    .colab-df-container {\n",
              "      display:flex;\n",
              "      flex-wrap:wrap;\n",
              "      gap: 12px;\n",
              "    }\n",
              "\n",
              "    .colab-df-convert {\n",
              "      background-color: #E8F0FE;\n",
              "      border: none;\n",
              "      border-radius: 50%;\n",
              "      cursor: pointer;\n",
              "      display: none;\n",
              "      fill: #1967D2;\n",
              "      height: 32px;\n",
              "      padding: 0 0 0 0;\n",
              "      width: 32px;\n",
              "    }\n",
              "\n",
              "    .colab-df-convert:hover {\n",
              "      background-color: #E2EBFA;\n",
              "      box-shadow: 0px 1px 2px rgba(60, 64, 67, 0.3), 0px 1px 3px 1px rgba(60, 64, 67, 0.15);\n",
              "      fill: #174EA6;\n",
              "    }\n",
              "\n",
              "    [theme=dark] .colab-df-convert {\n",
              "      background-color: #3B4455;\n",
              "      fill: #D2E3FC;\n",
              "    }\n",
              "\n",
              "    [theme=dark] .colab-df-convert:hover {\n",
              "      background-color: #434B5C;\n",
              "      box-shadow: 0px 1px 3px 1px rgba(0, 0, 0, 0.15);\n",
              "      filter: drop-shadow(0px 1px 2px rgba(0, 0, 0, 0.3));\n",
              "      fill: #FFFFFF;\n",
              "    }\n",
              "  </style>\n",
              "\n",
              "      <script>\n",
              "        const buttonEl =\n",
              "          document.querySelector('#df-dd5d5a72-5589-4bcf-876e-ba1bd15f2a36 button.colab-df-convert');\n",
              "        buttonEl.style.display =\n",
              "          google.colab.kernel.accessAllowed ? 'block' : 'none';\n",
              "\n",
              "        async function convertToInteractive(key) {\n",
              "          const element = document.querySelector('#df-dd5d5a72-5589-4bcf-876e-ba1bd15f2a36');\n",
              "          const dataTable =\n",
              "            await google.colab.kernel.invokeFunction('convertToInteractive',\n",
              "                                                     [key], {});\n",
              "          if (!dataTable) return;\n",
              "\n",
              "          const docLinkHtml = 'Like what you see? Visit the ' +\n",
              "            '<a target=\"_blank\" href=https://colab.research.google.com/notebooks/data_table.ipynb>data table notebook</a>'\n",
              "            + ' to learn more about interactive tables.';\n",
              "          element.innerHTML = '';\n",
              "          dataTable['output_type'] = 'display_data';\n",
              "          await google.colab.output.renderOutput(dataTable, element);\n",
              "          const docLink = document.createElement('div');\n",
              "          docLink.innerHTML = docLinkHtml;\n",
              "          element.appendChild(docLink);\n",
              "        }\n",
              "      </script>\n",
              "    </div>\n",
              "  </div>\n",
              "  "
            ],
            "text/plain": [
              "                 id     member_id     loan_amnt   funded_amnt  \\\n",
              "count  3.971700e+04  3.971700e+04  39717.000000  39717.000000   \n",
              "mean   6.831319e+05  8.504636e+05  11219.443815  10947.713196   \n",
              "std    2.106941e+05  2.656783e+05   7456.670694   7187.238670   \n",
              "min    5.473400e+04  7.069900e+04    500.000000    500.000000   \n",
              "25%    5.162210e+05  6.667800e+05   5500.000000   5400.000000   \n",
              "50%    6.656650e+05  8.508120e+05  10000.000000   9600.000000   \n",
              "75%    8.377550e+05  1.047339e+06  15000.000000  15000.000000   \n",
              "max    1.077501e+06  1.314167e+06  35000.000000  35000.000000   \n",
              "\n",
              "       funded_amnt_inv   installment    annual_inc           dti  \\\n",
              "count     39717.000000  39717.000000  3.971700e+04  39717.000000   \n",
              "mean      10397.448868    324.561922  6.896893e+04     13.315130   \n",
              "std        7128.450439    208.874874  6.379377e+04      6.678594   \n",
              "min           0.000000     15.690000  4.000000e+03      0.000000   \n",
              "25%        5000.000000    167.020000  4.040400e+04      8.170000   \n",
              "50%        8975.000000    280.220000  5.900000e+04     13.400000   \n",
              "75%       14400.000000    430.780000  8.230000e+04     18.600000   \n",
              "max       35000.000000   1305.190000  6.000000e+06     29.990000   \n",
              "\n",
              "        delinq_2yrs  inq_last_6mths      open_acc       pub_rec  \\\n",
              "count  39717.000000    39717.000000  39717.000000  39717.000000   \n",
              "mean       0.146512        0.869200      9.294408      0.055065   \n",
              "std        0.491812        1.070219      4.400282      0.237200   \n",
              "min        0.000000        0.000000      2.000000      0.000000   \n",
              "25%        0.000000        0.000000      6.000000      0.000000   \n",
              "50%        0.000000        1.000000      9.000000      0.000000   \n",
              "75%        0.000000        1.000000     12.000000      0.000000   \n",
              "max       11.000000        8.000000     44.000000      4.000000   \n",
              "\n",
              "           revol_bal     total_acc     out_prncp  out_prncp_inv   total_pymnt  \\\n",
              "count   39717.000000  39717.000000  39717.000000   39717.000000  39717.000000   \n",
              "mean    13382.528086     22.088828     51.227887      50.989768  12153.596544   \n",
              "std     15885.016641     11.401709    375.172839     373.824457   9042.040766   \n",
              "min         0.000000      2.000000      0.000000       0.000000      0.000000   \n",
              "25%      3703.000000     13.000000      0.000000       0.000000   5576.930000   \n",
              "50%      8850.000000     20.000000      0.000000       0.000000   9899.640319   \n",
              "75%     17058.000000     29.000000      0.000000       0.000000  16534.433040   \n",
              "max    149588.000000     90.000000   6311.470000    6307.370000  58563.679930   \n",
              "\n",
              "       total_pymnt_inv  total_rec_prncp  total_rec_int  total_rec_late_fee  \\\n",
              "count     39717.000000     39717.000000   39717.000000        39717.000000   \n",
              "mean      11567.149118      9793.348813    2263.663172            1.363015   \n",
              "std        8942.672613      7065.522127    2608.111964            7.289979   \n",
              "min           0.000000         0.000000       0.000000            0.000000   \n",
              "25%        5112.310000      4600.000000     662.180000            0.000000   \n",
              "50%        9287.150000      8000.000000    1348.910000            0.000000   \n",
              "75%       15798.810000     13653.260000    2833.400000            0.000000   \n",
              "max       58563.680000     35000.020000   23563.680000          180.200000   \n",
              "\n",
              "         recoveries  collection_recovery_fee  last_pymnt_amnt  \\\n",
              "count  39717.000000             39717.000000     39717.000000   \n",
              "mean      95.221624                12.406112      2678.826162   \n",
              "std      688.744771               148.671593      4447.136012   \n",
              "min        0.000000                 0.000000         0.000000   \n",
              "25%        0.000000                 0.000000       218.680000   \n",
              "50%        0.000000                 0.000000       546.140000   \n",
              "75%        0.000000                 0.000000      3293.160000   \n",
              "max    29623.350000              7002.190000     36115.200000   \n",
              "\n",
              "       collections_12_mths_ex_med  policy_code  acc_now_delinq  \\\n",
              "count                     39661.0      39717.0         39717.0   \n",
              "mean                          0.0          1.0             0.0   \n",
              "std                           0.0          0.0             0.0   \n",
              "min                           0.0          1.0             0.0   \n",
              "25%                           0.0          1.0             0.0   \n",
              "50%                           0.0          1.0             0.0   \n",
              "75%                           0.0          1.0             0.0   \n",
              "max                           0.0          1.0             0.0   \n",
              "\n",
              "       chargeoff_within_12_mths  delinq_amnt  pub_rec_bankruptcies  tax_liens  \n",
              "count                   39661.0      39717.0          39020.000000    39678.0  \n",
              "mean                        0.0          0.0              0.043260        0.0  \n",
              "std                         0.0          0.0              0.204324        0.0  \n",
              "min                         0.0          0.0              0.000000        0.0  \n",
              "25%                         0.0          0.0              0.000000        0.0  \n",
              "50%                         0.0          0.0              0.000000        0.0  \n",
              "75%                         0.0          0.0              0.000000        0.0  \n",
              "max                         0.0          0.0              2.000000        0.0  "
            ]
          },
          "metadata": {},
          "execution_count": 13
        }
      ]
    },
    {
      "cell_type": "markdown",
      "source": [
        "Let's review the other columns that have missing data"
      ],
      "metadata": {
        "id": "x0c2I-Umn_Oq"
      }
    },
    {
      "cell_type": "code",
      "source": [
        "print(\"unique emp_title : %d\"  % len(loandata.emp_title.unique()))\n",
        "print(\"unique emp_length : %d\"  % len(loandata.emp_length.unique()))\n",
        "print(\"unique title : %d\"  % len(loandata.title.unique()))\n",
        "print(\"unique revol_util : %d\"  % len(loandata.revol_util.unique()))\n",
        "print(\"unique last_pymnt_d : %d\"  % len(loandata.last_pymnt_d.unique()))\n",
        "print(\"unique last_credit_pull_d : %d\"  % len(loandata.last_credit_pull_d.unique()))\n",
        "print(\"unique collections_12_mths_ex_med : %d\"  % len(loandata.collections_12_mths_ex_med.unique()))\n",
        "print(\"unique chargeoff_within_12_mths : %d\"  % len(loandata.chargeoff_within_12_mths.unique()))\n",
        "print(\"unique pub_rec_bankruptcies : %d\"  % len(loandata.pub_rec_bankruptcies.unique()))\n",
        "print(\"unique tax_liens : %d\"  % len(loandata.tax_liens.unique()))"
      ],
      "metadata": {
        "colab": {
          "base_uri": "https://localhost:8080/"
        },
        "id": "VFffgMsdoJVD",
        "outputId": "f013a1a5-42a6-4150-b15c-bea1d655d328"
      },
      "execution_count": 15,
      "outputs": [
        {
          "output_type": "stream",
          "name": "stdout",
          "text": [
            "unique emp_title : 28821\n",
            "unique emp_length : 12\n",
            "unique title : 19616\n",
            "unique revol_util : 1090\n",
            "unique last_pymnt_d : 102\n",
            "unique last_credit_pull_d : 107\n",
            "unique collections_12_mths_ex_med : 2\n",
            "unique chargeoff_within_12_mths : 2\n",
            "unique pub_rec_bankruptcies : 4\n",
            "unique tax_liens : 2\n"
          ]
        }
      ]
    },
    {
      "cell_type": "markdown",
      "source": [
        "Let's review those columns that have single digit unique values and assess if they are useful at all for our analysis."
      ],
      "metadata": {
        "id": "VfAk6PALpI0-"
      }
    },
    {
      "cell_type": "code",
      "source": [
        "loandata.collections_12_mths_ex_med.unique()"
      ],
      "metadata": {
        "colab": {
          "base_uri": "https://localhost:8080/"
        },
        "id": "NRjWY4K6pSmz",
        "outputId": "bf3f76ac-303e-40a7-85ae-e77e9a2a5faa"
      },
      "execution_count": 16,
      "outputs": [
        {
          "output_type": "execute_result",
          "data": {
            "text/plain": [
              "array([ 0., nan])"
            ]
          },
          "metadata": {},
          "execution_count": 16
        }
      ]
    },
    {
      "cell_type": "code",
      "source": [
        "loandata.chargeoff_within_12_mths.unique()"
      ],
      "metadata": {
        "colab": {
          "base_uri": "https://localhost:8080/"
        },
        "id": "jwW_waDWpZIP",
        "outputId": "6515bef3-a54c-4cf1-f5a5-6d50d893273e"
      },
      "execution_count": 17,
      "outputs": [
        {
          "output_type": "execute_result",
          "data": {
            "text/plain": [
              "array([ 0., nan])"
            ]
          },
          "metadata": {},
          "execution_count": 17
        }
      ]
    },
    {
      "cell_type": "code",
      "source": [
        "loandata.pub_rec_bankruptcies.unique()"
      ],
      "metadata": {
        "colab": {
          "base_uri": "https://localhost:8080/"
        },
        "id": "J1f0IrEwpeT4",
        "outputId": "6df67caa-b665-4060-a7ce-b354c150aa49"
      },
      "execution_count": 18,
      "outputs": [
        {
          "output_type": "execute_result",
          "data": {
            "text/plain": [
              "array([ 0.,  1.,  2., nan])"
            ]
          },
          "metadata": {},
          "execution_count": 18
        }
      ]
    },
    {
      "cell_type": "code",
      "source": [
        "loandata.tax_liens.unique()"
      ],
      "metadata": {
        "colab": {
          "base_uri": "https://localhost:8080/"
        },
        "id": "2tqf4jAdpkeW",
        "outputId": "81e76b49-b54d-42f9-e0e9-f2f9351ee6e7"
      },
      "execution_count": 19,
      "outputs": [
        {
          "output_type": "execute_result",
          "data": {
            "text/plain": [
              "array([ 0., nan])"
            ]
          },
          "metadata": {},
          "execution_count": 19
        }
      ]
    },
    {
      "cell_type": "markdown",
      "source": [
        "It's clear that those columns with 0 or NaN values aren't going to be much useful. "
      ],
      "metadata": {
        "id": "ZjztkkfBpp2C"
      }
    },
    {
      "cell_type": "code",
      "source": [
        "#dropping those columns with 0 or NaN values\n",
        "dropcols = ['collections_12_mths_ex_med','chargeoff_within_12_mths','tax_liens']\n",
        "loandata = loandata.drop(dropcols,axis=1)"
      ],
      "metadata": {
        "id": "AXQpfauFp3Lx"
      },
      "execution_count": 20,
      "outputs": []
    },
    {
      "cell_type": "code",
      "source": [
        "loandata.describe()"
      ],
      "metadata": {
        "colab": {
          "base_uri": "https://localhost:8080/",
          "height": 361
        },
        "id": "wxErW3jpqTYk",
        "outputId": "d07fb77b-3f0d-4649-e0ca-95c540cf9739"
      },
      "execution_count": 21,
      "outputs": [
        {
          "output_type": "execute_result",
          "data": {
            "text/html": [
              "\n",
              "  <div id=\"df-e79b6ca5-48dd-47f4-9002-5799a3bac5d9\">\n",
              "    <div class=\"colab-df-container\">\n",
              "      <div>\n",
              "<style scoped>\n",
              "    .dataframe tbody tr th:only-of-type {\n",
              "        vertical-align: middle;\n",
              "    }\n",
              "\n",
              "    .dataframe tbody tr th {\n",
              "        vertical-align: top;\n",
              "    }\n",
              "\n",
              "    .dataframe thead th {\n",
              "        text-align: right;\n",
              "    }\n",
              "</style>\n",
              "<table border=\"1\" class=\"dataframe\">\n",
              "  <thead>\n",
              "    <tr style=\"text-align: right;\">\n",
              "      <th></th>\n",
              "      <th>id</th>\n",
              "      <th>member_id</th>\n",
              "      <th>loan_amnt</th>\n",
              "      <th>funded_amnt</th>\n",
              "      <th>funded_amnt_inv</th>\n",
              "      <th>installment</th>\n",
              "      <th>annual_inc</th>\n",
              "      <th>dti</th>\n",
              "      <th>delinq_2yrs</th>\n",
              "      <th>inq_last_6mths</th>\n",
              "      <th>open_acc</th>\n",
              "      <th>pub_rec</th>\n",
              "      <th>revol_bal</th>\n",
              "      <th>total_acc</th>\n",
              "      <th>out_prncp</th>\n",
              "      <th>out_prncp_inv</th>\n",
              "      <th>total_pymnt</th>\n",
              "      <th>total_pymnt_inv</th>\n",
              "      <th>total_rec_prncp</th>\n",
              "      <th>total_rec_int</th>\n",
              "      <th>total_rec_late_fee</th>\n",
              "      <th>recoveries</th>\n",
              "      <th>collection_recovery_fee</th>\n",
              "      <th>last_pymnt_amnt</th>\n",
              "      <th>policy_code</th>\n",
              "      <th>acc_now_delinq</th>\n",
              "      <th>delinq_amnt</th>\n",
              "      <th>pub_rec_bankruptcies</th>\n",
              "    </tr>\n",
              "  </thead>\n",
              "  <tbody>\n",
              "    <tr>\n",
              "      <th>count</th>\n",
              "      <td>3.971700e+04</td>\n",
              "      <td>3.971700e+04</td>\n",
              "      <td>39717.000000</td>\n",
              "      <td>39717.000000</td>\n",
              "      <td>39717.000000</td>\n",
              "      <td>39717.000000</td>\n",
              "      <td>3.971700e+04</td>\n",
              "      <td>39717.000000</td>\n",
              "      <td>39717.000000</td>\n",
              "      <td>39717.000000</td>\n",
              "      <td>39717.000000</td>\n",
              "      <td>39717.000000</td>\n",
              "      <td>39717.000000</td>\n",
              "      <td>39717.000000</td>\n",
              "      <td>39717.000000</td>\n",
              "      <td>39717.000000</td>\n",
              "      <td>39717.000000</td>\n",
              "      <td>39717.000000</td>\n",
              "      <td>39717.000000</td>\n",
              "      <td>39717.000000</td>\n",
              "      <td>39717.000000</td>\n",
              "      <td>39717.000000</td>\n",
              "      <td>39717.000000</td>\n",
              "      <td>39717.000000</td>\n",
              "      <td>39717.0</td>\n",
              "      <td>39717.0</td>\n",
              "      <td>39717.0</td>\n",
              "      <td>39020.000000</td>\n",
              "    </tr>\n",
              "    <tr>\n",
              "      <th>mean</th>\n",
              "      <td>6.831319e+05</td>\n",
              "      <td>8.504636e+05</td>\n",
              "      <td>11219.443815</td>\n",
              "      <td>10947.713196</td>\n",
              "      <td>10397.448868</td>\n",
              "      <td>324.561922</td>\n",
              "      <td>6.896893e+04</td>\n",
              "      <td>13.315130</td>\n",
              "      <td>0.146512</td>\n",
              "      <td>0.869200</td>\n",
              "      <td>9.294408</td>\n",
              "      <td>0.055065</td>\n",
              "      <td>13382.528086</td>\n",
              "      <td>22.088828</td>\n",
              "      <td>51.227887</td>\n",
              "      <td>50.989768</td>\n",
              "      <td>12153.596544</td>\n",
              "      <td>11567.149118</td>\n",
              "      <td>9793.348813</td>\n",
              "      <td>2263.663172</td>\n",
              "      <td>1.363015</td>\n",
              "      <td>95.221624</td>\n",
              "      <td>12.406112</td>\n",
              "      <td>2678.826162</td>\n",
              "      <td>1.0</td>\n",
              "      <td>0.0</td>\n",
              "      <td>0.0</td>\n",
              "      <td>0.043260</td>\n",
              "    </tr>\n",
              "    <tr>\n",
              "      <th>std</th>\n",
              "      <td>2.106941e+05</td>\n",
              "      <td>2.656783e+05</td>\n",
              "      <td>7456.670694</td>\n",
              "      <td>7187.238670</td>\n",
              "      <td>7128.450439</td>\n",
              "      <td>208.874874</td>\n",
              "      <td>6.379377e+04</td>\n",
              "      <td>6.678594</td>\n",
              "      <td>0.491812</td>\n",
              "      <td>1.070219</td>\n",
              "      <td>4.400282</td>\n",
              "      <td>0.237200</td>\n",
              "      <td>15885.016641</td>\n",
              "      <td>11.401709</td>\n",
              "      <td>375.172839</td>\n",
              "      <td>373.824457</td>\n",
              "      <td>9042.040766</td>\n",
              "      <td>8942.672613</td>\n",
              "      <td>7065.522127</td>\n",
              "      <td>2608.111964</td>\n",
              "      <td>7.289979</td>\n",
              "      <td>688.744771</td>\n",
              "      <td>148.671593</td>\n",
              "      <td>4447.136012</td>\n",
              "      <td>0.0</td>\n",
              "      <td>0.0</td>\n",
              "      <td>0.0</td>\n",
              "      <td>0.204324</td>\n",
              "    </tr>\n",
              "    <tr>\n",
              "      <th>min</th>\n",
              "      <td>5.473400e+04</td>\n",
              "      <td>7.069900e+04</td>\n",
              "      <td>500.000000</td>\n",
              "      <td>500.000000</td>\n",
              "      <td>0.000000</td>\n",
              "      <td>15.690000</td>\n",
              "      <td>4.000000e+03</td>\n",
              "      <td>0.000000</td>\n",
              "      <td>0.000000</td>\n",
              "      <td>0.000000</td>\n",
              "      <td>2.000000</td>\n",
              "      <td>0.000000</td>\n",
              "      <td>0.000000</td>\n",
              "      <td>2.000000</td>\n",
              "      <td>0.000000</td>\n",
              "      <td>0.000000</td>\n",
              "      <td>0.000000</td>\n",
              "      <td>0.000000</td>\n",
              "      <td>0.000000</td>\n",
              "      <td>0.000000</td>\n",
              "      <td>0.000000</td>\n",
              "      <td>0.000000</td>\n",
              "      <td>0.000000</td>\n",
              "      <td>0.000000</td>\n",
              "      <td>1.0</td>\n",
              "      <td>0.0</td>\n",
              "      <td>0.0</td>\n",
              "      <td>0.000000</td>\n",
              "    </tr>\n",
              "    <tr>\n",
              "      <th>25%</th>\n",
              "      <td>5.162210e+05</td>\n",
              "      <td>6.667800e+05</td>\n",
              "      <td>5500.000000</td>\n",
              "      <td>5400.000000</td>\n",
              "      <td>5000.000000</td>\n",
              "      <td>167.020000</td>\n",
              "      <td>4.040400e+04</td>\n",
              "      <td>8.170000</td>\n",
              "      <td>0.000000</td>\n",
              "      <td>0.000000</td>\n",
              "      <td>6.000000</td>\n",
              "      <td>0.000000</td>\n",
              "      <td>3703.000000</td>\n",
              "      <td>13.000000</td>\n",
              "      <td>0.000000</td>\n",
              "      <td>0.000000</td>\n",
              "      <td>5576.930000</td>\n",
              "      <td>5112.310000</td>\n",
              "      <td>4600.000000</td>\n",
              "      <td>662.180000</td>\n",
              "      <td>0.000000</td>\n",
              "      <td>0.000000</td>\n",
              "      <td>0.000000</td>\n",
              "      <td>218.680000</td>\n",
              "      <td>1.0</td>\n",
              "      <td>0.0</td>\n",
              "      <td>0.0</td>\n",
              "      <td>0.000000</td>\n",
              "    </tr>\n",
              "    <tr>\n",
              "      <th>50%</th>\n",
              "      <td>6.656650e+05</td>\n",
              "      <td>8.508120e+05</td>\n",
              "      <td>10000.000000</td>\n",
              "      <td>9600.000000</td>\n",
              "      <td>8975.000000</td>\n",
              "      <td>280.220000</td>\n",
              "      <td>5.900000e+04</td>\n",
              "      <td>13.400000</td>\n",
              "      <td>0.000000</td>\n",
              "      <td>1.000000</td>\n",
              "      <td>9.000000</td>\n",
              "      <td>0.000000</td>\n",
              "      <td>8850.000000</td>\n",
              "      <td>20.000000</td>\n",
              "      <td>0.000000</td>\n",
              "      <td>0.000000</td>\n",
              "      <td>9899.640319</td>\n",
              "      <td>9287.150000</td>\n",
              "      <td>8000.000000</td>\n",
              "      <td>1348.910000</td>\n",
              "      <td>0.000000</td>\n",
              "      <td>0.000000</td>\n",
              "      <td>0.000000</td>\n",
              "      <td>546.140000</td>\n",
              "      <td>1.0</td>\n",
              "      <td>0.0</td>\n",
              "      <td>0.0</td>\n",
              "      <td>0.000000</td>\n",
              "    </tr>\n",
              "    <tr>\n",
              "      <th>75%</th>\n",
              "      <td>8.377550e+05</td>\n",
              "      <td>1.047339e+06</td>\n",
              "      <td>15000.000000</td>\n",
              "      <td>15000.000000</td>\n",
              "      <td>14400.000000</td>\n",
              "      <td>430.780000</td>\n",
              "      <td>8.230000e+04</td>\n",
              "      <td>18.600000</td>\n",
              "      <td>0.000000</td>\n",
              "      <td>1.000000</td>\n",
              "      <td>12.000000</td>\n",
              "      <td>0.000000</td>\n",
              "      <td>17058.000000</td>\n",
              "      <td>29.000000</td>\n",
              "      <td>0.000000</td>\n",
              "      <td>0.000000</td>\n",
              "      <td>16534.433040</td>\n",
              "      <td>15798.810000</td>\n",
              "      <td>13653.260000</td>\n",
              "      <td>2833.400000</td>\n",
              "      <td>0.000000</td>\n",
              "      <td>0.000000</td>\n",
              "      <td>0.000000</td>\n",
              "      <td>3293.160000</td>\n",
              "      <td>1.0</td>\n",
              "      <td>0.0</td>\n",
              "      <td>0.0</td>\n",
              "      <td>0.000000</td>\n",
              "    </tr>\n",
              "    <tr>\n",
              "      <th>max</th>\n",
              "      <td>1.077501e+06</td>\n",
              "      <td>1.314167e+06</td>\n",
              "      <td>35000.000000</td>\n",
              "      <td>35000.000000</td>\n",
              "      <td>35000.000000</td>\n",
              "      <td>1305.190000</td>\n",
              "      <td>6.000000e+06</td>\n",
              "      <td>29.990000</td>\n",
              "      <td>11.000000</td>\n",
              "      <td>8.000000</td>\n",
              "      <td>44.000000</td>\n",
              "      <td>4.000000</td>\n",
              "      <td>149588.000000</td>\n",
              "      <td>90.000000</td>\n",
              "      <td>6311.470000</td>\n",
              "      <td>6307.370000</td>\n",
              "      <td>58563.679930</td>\n",
              "      <td>58563.680000</td>\n",
              "      <td>35000.020000</td>\n",
              "      <td>23563.680000</td>\n",
              "      <td>180.200000</td>\n",
              "      <td>29623.350000</td>\n",
              "      <td>7002.190000</td>\n",
              "      <td>36115.200000</td>\n",
              "      <td>1.0</td>\n",
              "      <td>0.0</td>\n",
              "      <td>0.0</td>\n",
              "      <td>2.000000</td>\n",
              "    </tr>\n",
              "  </tbody>\n",
              "</table>\n",
              "</div>\n",
              "      <button class=\"colab-df-convert\" onclick=\"convertToInteractive('df-e79b6ca5-48dd-47f4-9002-5799a3bac5d9')\"\n",
              "              title=\"Convert this dataframe to an interactive table.\"\n",
              "              style=\"display:none;\">\n",
              "        \n",
              "  <svg xmlns=\"http://www.w3.org/2000/svg\" height=\"24px\"viewBox=\"0 0 24 24\"\n",
              "       width=\"24px\">\n",
              "    <path d=\"M0 0h24v24H0V0z\" fill=\"none\"/>\n",
              "    <path d=\"M18.56 5.44l.94 2.06.94-2.06 2.06-.94-2.06-.94-.94-2.06-.94 2.06-2.06.94zm-11 1L8.5 8.5l.94-2.06 2.06-.94-2.06-.94L8.5 2.5l-.94 2.06-2.06.94zm10 10l.94 2.06.94-2.06 2.06-.94-2.06-.94-.94-2.06-.94 2.06-2.06.94z\"/><path d=\"M17.41 7.96l-1.37-1.37c-.4-.4-.92-.59-1.43-.59-.52 0-1.04.2-1.43.59L10.3 9.45l-7.72 7.72c-.78.78-.78 2.05 0 2.83L4 21.41c.39.39.9.59 1.41.59.51 0 1.02-.2 1.41-.59l7.78-7.78 2.81-2.81c.8-.78.8-2.07 0-2.86zM5.41 20L4 18.59l7.72-7.72 1.47 1.35L5.41 20z\"/>\n",
              "  </svg>\n",
              "      </button>\n",
              "      \n",
              "  <style>\n",
              "    .colab-df-container {\n",
              "      display:flex;\n",
              "      flex-wrap:wrap;\n",
              "      gap: 12px;\n",
              "    }\n",
              "\n",
              "    .colab-df-convert {\n",
              "      background-color: #E8F0FE;\n",
              "      border: none;\n",
              "      border-radius: 50%;\n",
              "      cursor: pointer;\n",
              "      display: none;\n",
              "      fill: #1967D2;\n",
              "      height: 32px;\n",
              "      padding: 0 0 0 0;\n",
              "      width: 32px;\n",
              "    }\n",
              "\n",
              "    .colab-df-convert:hover {\n",
              "      background-color: #E2EBFA;\n",
              "      box-shadow: 0px 1px 2px rgba(60, 64, 67, 0.3), 0px 1px 3px 1px rgba(60, 64, 67, 0.15);\n",
              "      fill: #174EA6;\n",
              "    }\n",
              "\n",
              "    [theme=dark] .colab-df-convert {\n",
              "      background-color: #3B4455;\n",
              "      fill: #D2E3FC;\n",
              "    }\n",
              "\n",
              "    [theme=dark] .colab-df-convert:hover {\n",
              "      background-color: #434B5C;\n",
              "      box-shadow: 0px 1px 3px 1px rgba(0, 0, 0, 0.15);\n",
              "      filter: drop-shadow(0px 1px 2px rgba(0, 0, 0, 0.3));\n",
              "      fill: #FFFFFF;\n",
              "    }\n",
              "  </style>\n",
              "\n",
              "      <script>\n",
              "        const buttonEl =\n",
              "          document.querySelector('#df-e79b6ca5-48dd-47f4-9002-5799a3bac5d9 button.colab-df-convert');\n",
              "        buttonEl.style.display =\n",
              "          google.colab.kernel.accessAllowed ? 'block' : 'none';\n",
              "\n",
              "        async function convertToInteractive(key) {\n",
              "          const element = document.querySelector('#df-e79b6ca5-48dd-47f4-9002-5799a3bac5d9');\n",
              "          const dataTable =\n",
              "            await google.colab.kernel.invokeFunction('convertToInteractive',\n",
              "                                                     [key], {});\n",
              "          if (!dataTable) return;\n",
              "\n",
              "          const docLinkHtml = 'Like what you see? Visit the ' +\n",
              "            '<a target=\"_blank\" href=https://colab.research.google.com/notebooks/data_table.ipynb>data table notebook</a>'\n",
              "            + ' to learn more about interactive tables.';\n",
              "          element.innerHTML = '';\n",
              "          dataTable['output_type'] = 'display_data';\n",
              "          await google.colab.output.renderOutput(dataTable, element);\n",
              "          const docLink = document.createElement('div');\n",
              "          docLink.innerHTML = docLinkHtml;\n",
              "          element.appendChild(docLink);\n",
              "        }\n",
              "      </script>\n",
              "    </div>\n",
              "  </div>\n",
              "  "
            ],
            "text/plain": [
              "                 id     member_id     loan_amnt   funded_amnt  \\\n",
              "count  3.971700e+04  3.971700e+04  39717.000000  39717.000000   \n",
              "mean   6.831319e+05  8.504636e+05  11219.443815  10947.713196   \n",
              "std    2.106941e+05  2.656783e+05   7456.670694   7187.238670   \n",
              "min    5.473400e+04  7.069900e+04    500.000000    500.000000   \n",
              "25%    5.162210e+05  6.667800e+05   5500.000000   5400.000000   \n",
              "50%    6.656650e+05  8.508120e+05  10000.000000   9600.000000   \n",
              "75%    8.377550e+05  1.047339e+06  15000.000000  15000.000000   \n",
              "max    1.077501e+06  1.314167e+06  35000.000000  35000.000000   \n",
              "\n",
              "       funded_amnt_inv   installment    annual_inc           dti  \\\n",
              "count     39717.000000  39717.000000  3.971700e+04  39717.000000   \n",
              "mean      10397.448868    324.561922  6.896893e+04     13.315130   \n",
              "std        7128.450439    208.874874  6.379377e+04      6.678594   \n",
              "min           0.000000     15.690000  4.000000e+03      0.000000   \n",
              "25%        5000.000000    167.020000  4.040400e+04      8.170000   \n",
              "50%        8975.000000    280.220000  5.900000e+04     13.400000   \n",
              "75%       14400.000000    430.780000  8.230000e+04     18.600000   \n",
              "max       35000.000000   1305.190000  6.000000e+06     29.990000   \n",
              "\n",
              "        delinq_2yrs  inq_last_6mths      open_acc       pub_rec  \\\n",
              "count  39717.000000    39717.000000  39717.000000  39717.000000   \n",
              "mean       0.146512        0.869200      9.294408      0.055065   \n",
              "std        0.491812        1.070219      4.400282      0.237200   \n",
              "min        0.000000        0.000000      2.000000      0.000000   \n",
              "25%        0.000000        0.000000      6.000000      0.000000   \n",
              "50%        0.000000        1.000000      9.000000      0.000000   \n",
              "75%        0.000000        1.000000     12.000000      0.000000   \n",
              "max       11.000000        8.000000     44.000000      4.000000   \n",
              "\n",
              "           revol_bal     total_acc     out_prncp  out_prncp_inv   total_pymnt  \\\n",
              "count   39717.000000  39717.000000  39717.000000   39717.000000  39717.000000   \n",
              "mean    13382.528086     22.088828     51.227887      50.989768  12153.596544   \n",
              "std     15885.016641     11.401709    375.172839     373.824457   9042.040766   \n",
              "min         0.000000      2.000000      0.000000       0.000000      0.000000   \n",
              "25%      3703.000000     13.000000      0.000000       0.000000   5576.930000   \n",
              "50%      8850.000000     20.000000      0.000000       0.000000   9899.640319   \n",
              "75%     17058.000000     29.000000      0.000000       0.000000  16534.433040   \n",
              "max    149588.000000     90.000000   6311.470000    6307.370000  58563.679930   \n",
              "\n",
              "       total_pymnt_inv  total_rec_prncp  total_rec_int  total_rec_late_fee  \\\n",
              "count     39717.000000     39717.000000   39717.000000        39717.000000   \n",
              "mean      11567.149118      9793.348813    2263.663172            1.363015   \n",
              "std        8942.672613      7065.522127    2608.111964            7.289979   \n",
              "min           0.000000         0.000000       0.000000            0.000000   \n",
              "25%        5112.310000      4600.000000     662.180000            0.000000   \n",
              "50%        9287.150000      8000.000000    1348.910000            0.000000   \n",
              "75%       15798.810000     13653.260000    2833.400000            0.000000   \n",
              "max       58563.680000     35000.020000   23563.680000          180.200000   \n",
              "\n",
              "         recoveries  collection_recovery_fee  last_pymnt_amnt  policy_code  \\\n",
              "count  39717.000000             39717.000000     39717.000000      39717.0   \n",
              "mean      95.221624                12.406112      2678.826162          1.0   \n",
              "std      688.744771               148.671593      4447.136012          0.0   \n",
              "min        0.000000                 0.000000         0.000000          1.0   \n",
              "25%        0.000000                 0.000000       218.680000          1.0   \n",
              "50%        0.000000                 0.000000       546.140000          1.0   \n",
              "75%        0.000000                 0.000000      3293.160000          1.0   \n",
              "max    29623.350000              7002.190000     36115.200000          1.0   \n",
              "\n",
              "       acc_now_delinq  delinq_amnt  pub_rec_bankruptcies  \n",
              "count         39717.0      39717.0          39020.000000  \n",
              "mean              0.0          0.0              0.043260  \n",
              "std               0.0          0.0              0.204324  \n",
              "min               0.0          0.0              0.000000  \n",
              "25%               0.0          0.0              0.000000  \n",
              "50%               0.0          0.0              0.000000  \n",
              "75%               0.0          0.0              0.000000  \n",
              "max               0.0          0.0              2.000000  "
            ]
          },
          "metadata": {},
          "execution_count": 21
        }
      ]
    },
    {
      "cell_type": "code",
      "source": [
        "loandata.shape"
      ],
      "metadata": {
        "colab": {
          "base_uri": "https://localhost:8080/"
        },
        "id": "eSX0y8RFqlpW",
        "outputId": "8074c2e4-b86c-41a0-8208-45f8d759e7d7"
      },
      "execution_count": 22,
      "outputs": [
        {
          "output_type": "execute_result",
          "data": {
            "text/plain": [
              "(39717, 50)"
            ]
          },
          "metadata": {},
          "execution_count": 22
        }
      ]
    },
    {
      "cell_type": "markdown",
      "source": [
        "We still need to review pub_rec_bankruptcies column further."
      ],
      "metadata": {
        "id": "gGx3YmncqqVA"
      }
    },
    {
      "cell_type": "code",
      "source": [
        "loandata.pub_rec_bankruptcies.value_counts()"
      ],
      "metadata": {
        "colab": {
          "base_uri": "https://localhost:8080/"
        },
        "id": "p5LzKsXcrBa7",
        "outputId": "f397dd3c-8d11-40f5-aaa4-3dfbcdfb2183"
      },
      "execution_count": 31,
      "outputs": [
        {
          "output_type": "execute_result",
          "data": {
            "text/plain": [
              "0.0    37339\n",
              "1.0     1674\n",
              "2.0        7\n",
              "Name: pub_rec_bankruptcies, dtype: int64"
            ]
          },
          "metadata": {},
          "execution_count": 31
        }
      ]
    },
    {
      "cell_type": "code",
      "source": [
        "loandata['pub_rec_bankruptcies'].isnull().sum()"
      ],
      "metadata": {
        "colab": {
          "base_uri": "https://localhost:8080/"
        },
        "id": "zqV13b5usCif",
        "outputId": "a0dd8ee3-bf89-4aa2-ce61-f958aab9940f"
      },
      "execution_count": 32,
      "outputs": [
        {
          "output_type": "execute_result",
          "data": {
            "text/plain": [
              "697"
            ]
          },
          "metadata": {},
          "execution_count": 32
        }
      ]
    },
    {
      "cell_type": "markdown",
      "source": [
        "There are 697 rows where pub_rec_bankruptcies are null, this represents about 1.7% of the total number of rows and we will just drop those rows."
      ],
      "metadata": {
        "id": "cNFVmqs9sPiP"
      }
    },
    {
      "cell_type": "code",
      "source": [
        "loandata = loandata[-loandata.pub_rec_bankruptcies.isnull()]"
      ],
      "metadata": {
        "id": "1tGBttok4Ckb"
      },
      "execution_count": 46,
      "outputs": []
    },
    {
      "cell_type": "code",
      "source": [
        "loandata.shape"
      ],
      "metadata": {
        "colab": {
          "base_uri": "https://localhost:8080/"
        },
        "id": "wizFVTbo4Qvx",
        "outputId": "96e17b59-033a-4809-a553-ac9b7f9feeb5"
      },
      "execution_count": 47,
      "outputs": [
        {
          "output_type": "execute_result",
          "data": {
            "text/plain": [
              "(39020, 50)"
            ]
          },
          "metadata": {},
          "execution_count": 47
        }
      ]
    },
    {
      "cell_type": "code",
      "source": [
        "missingdataincolumns = round(100*(loandata.isnull().sum()/len(loandata.id)),2)\n",
        "missingdataincolumns[missingdataincolumns!=0]"
      ],
      "metadata": {
        "colab": {
          "base_uri": "https://localhost:8080/"
        },
        "id": "YyQRuJKS4gHh",
        "outputId": "f26854dc-e918-4a37-8bca-4c85ebac45d7"
      },
      "execution_count": 48,
      "outputs": [
        {
          "output_type": "execute_result",
          "data": {
            "text/plain": [
              "emp_title       6.19\n",
              "emp_length      2.75\n",
              "title           0.03\n",
              "revol_util      0.13\n",
              "last_pymnt_d    0.18\n",
              "dtype: float64"
            ]
          },
          "metadata": {},
          "execution_count": 48
        }
      ]
    },
    {
      "cell_type": "code",
      "source": [
        "loandata.emp_title.nunique()"
      ],
      "metadata": {
        "colab": {
          "base_uri": "https://localhost:8080/"
        },
        "id": "zHtwVWsc5czM",
        "outputId": "29a7fbf6-7e5d-4f61-874b-3a1b41f1da8d"
      },
      "execution_count": 51,
      "outputs": [
        {
          "output_type": "execute_result",
          "data": {
            "text/plain": [
              "28344"
            ]
          },
          "metadata": {},
          "execution_count": 51
        }
      ]
    },
    {
      "cell_type": "markdown",
      "source": [
        "72% of the values in emp_title column is unique - and therefore isn't much use in our analysis. We will drop that column. "
      ],
      "metadata": {
        "id": "Ca1JCC6b6LID"
      }
    },
    {
      "cell_type": "code",
      "source": [
        "loandata = loandata.drop('emp_title',axis=1)"
      ],
      "metadata": {
        "id": "4HB2N4NK6ce0"
      },
      "execution_count": 52,
      "outputs": []
    },
    {
      "cell_type": "markdown",
      "source": [
        "Let's look at emp_length, title, revol_util, last_pymnt_d columns with missing data. Since the % rows are limited we will simply ignore those rows. "
      ],
      "metadata": {
        "id": "eMelx2V06kkJ"
      }
    },
    {
      "cell_type": "code",
      "source": [
        "loandata = loandata[-loandata.emp_length.isnull()]\n",
        "loandata = loandata[-loandata.title.isnull()]\n",
        "loandata = loandata[-loandata.revol_util.isnull()]\n",
        "loandata = loandata[-loandata.last_pymnt_d.isnull()]"
      ],
      "metadata": {
        "id": "bqWBm0Dd61Mh"
      },
      "execution_count": 53,
      "outputs": []
    },
    {
      "cell_type": "code",
      "source": [
        "loandata.shape"
      ],
      "metadata": {
        "colab": {
          "base_uri": "https://localhost:8080/"
        },
        "id": "rj4uDkey7Qo_",
        "outputId": "f568f76a-ec77-45df-d187-a7ae2c6581d2"
      },
      "execution_count": 54,
      "outputs": [
        {
          "output_type": "execute_result",
          "data": {
            "text/plain": [
              "(37826, 49)"
            ]
          },
          "metadata": {},
          "execution_count": 54
        }
      ]
    },
    {
      "cell_type": "code",
      "source": [
        "missingdataincolumns = round(100*(loandata.isnull().sum()/len(loandata.id)),2)\n",
        "missingdataincolumns[missingdataincolumns!=0]"
      ],
      "metadata": {
        "colab": {
          "base_uri": "https://localhost:8080/"
        },
        "id": "NG42GHQz7XFA",
        "outputId": "dd5d0670-fe37-4f46-da64-54d193ffb467"
      },
      "execution_count": 55,
      "outputs": [
        {
          "output_type": "execute_result",
          "data": {
            "text/plain": [
              "Series([], dtype: float64)"
            ]
          },
          "metadata": {},
          "execution_count": 55
        }
      ]
    },
    {
      "cell_type": "markdown",
      "source": [
        "There is no more missing data in the dataframe. Let's now look at columns that's useless because they are the same value across the entire dataframe."
      ],
      "metadata": {
        "id": "8flGoP2g7Yr5"
      }
    },
    {
      "cell_type": "code",
      "source": [
        "loandata.nunique().sort_values()"
      ],
      "metadata": {
        "colab": {
          "base_uri": "https://localhost:8080/"
        },
        "id": "yY3F1Q577jG7",
        "outputId": "ef8ca87f-cbd5-4cd9-9127-86cbc12d37f1"
      },
      "execution_count": 56,
      "outputs": [
        {
          "output_type": "execute_result",
          "data": {
            "text/plain": [
              "initial_list_status            1\n",
              "pymnt_plan                     1\n",
              "policy_code                    1\n",
              "delinq_amnt                    1\n",
              "application_type               1\n",
              "acc_now_delinq                 1\n",
              "term                           2\n",
              "pub_rec_bankruptcies           3\n",
              "verification_status            3\n",
              "loan_status                    3\n",
              "home_ownership                 4\n",
              "pub_rec                        5\n",
              "grade                          7\n",
              "inq_last_6mths                 9\n",
              "emp_length                    11\n",
              "delinq_2yrs                   11\n",
              "purpose                       14\n",
              "sub_grade                     35\n",
              "open_acc                      38\n",
              "addr_state                    49\n",
              "issue_d                       52\n",
              "total_acc                     81\n",
              "last_pymnt_d                  97\n",
              "last_credit_pull_d            97\n",
              "int_rate                     337\n",
              "earliest_cr_line             514\n",
              "zip_code                     809\n",
              "loan_amnt                    869\n",
              "funded_amnt                 1031\n",
              "revol_util                  1087\n",
              "out_prncp                   1096\n",
              "out_prncp_inv               1097\n",
              "total_rec_late_fee          1274\n",
              "collection_recovery_fee     2488\n",
              "dti                         2863\n",
              "recoveries                  3781\n",
              "annual_inc                  5026\n",
              "total_rec_prncp             7563\n",
              "funded_amnt_inv             7745\n",
              "installment                14717\n",
              "title                      18678\n",
              "revol_bal                  21197\n",
              "last_pymnt_amnt            33546\n",
              "total_rec_int              33657\n",
              "total_pymnt_inv            35791\n",
              "total_pymnt                36099\n",
              "url                        37826\n",
              "member_id                  37826\n",
              "id                         37826\n",
              "dtype: int64"
            ]
          },
          "metadata": {},
          "execution_count": 56
        }
      ]
    },
    {
      "cell_type": "markdown",
      "source": [
        "There are two sets of columns that can be further dropped. Those that have 1 value across the dataframe and those that have unique values for each row. url, member_id and id are columns with entirely unique values. We will drop url and member_id. We will keep the id column in case we need it in the future. initial_list_status, pymnt_plan, policy_code, delinq_amnt, application_type, acc_now_delinq are useless because they have just one value across the entire data set."
      ],
      "metadata": {
        "id": "3yuEUDC87uh6"
      }
    },
    {
      "cell_type": "code",
      "source": [
        "dropcols = ['member_id','url','initial_list_status', 'pymnt_plan', 'policy_code', 'delinq_amnt', 'application_type', 'acc_now_delinq']\n",
        "loandata = loandata.drop(dropcols,axis=1)"
      ],
      "metadata": {
        "id": "XCZTdDBK7t-e"
      },
      "execution_count": 57,
      "outputs": []
    },
    {
      "cell_type": "code",
      "source": [
        "loandata.shape"
      ],
      "metadata": {
        "colab": {
          "base_uri": "https://localhost:8080/"
        },
        "id": "fT997xOI9Ot_",
        "outputId": "59be447c-091a-4984-c414-7650ce4bffb7"
      },
      "execution_count": 58,
      "outputs": [
        {
          "output_type": "execute_result",
          "data": {
            "text/plain": [
              "(37826, 41)"
            ]
          },
          "metadata": {},
          "execution_count": 58
        }
      ]
    },
    {
      "cell_type": "code",
      "source": [
        "loandata.head()"
      ],
      "metadata": {
        "colab": {
          "base_uri": "https://localhost:8080/",
          "height": 370
        },
        "id": "-G0gRcyp-GB8",
        "outputId": "454e0a61-7f7f-4335-a299-2311c320ef03"
      },
      "execution_count": 59,
      "outputs": [
        {
          "output_type": "execute_result",
          "data": {
            "text/html": [
              "\n",
              "  <div id=\"df-e2d8cfa5-c6de-4e3d-b00d-dda80e68f680\">\n",
              "    <div class=\"colab-df-container\">\n",
              "      <div>\n",
              "<style scoped>\n",
              "    .dataframe tbody tr th:only-of-type {\n",
              "        vertical-align: middle;\n",
              "    }\n",
              "\n",
              "    .dataframe tbody tr th {\n",
              "        vertical-align: top;\n",
              "    }\n",
              "\n",
              "    .dataframe thead th {\n",
              "        text-align: right;\n",
              "    }\n",
              "</style>\n",
              "<table border=\"1\" class=\"dataframe\">\n",
              "  <thead>\n",
              "    <tr style=\"text-align: right;\">\n",
              "      <th></th>\n",
              "      <th>id</th>\n",
              "      <th>loan_amnt</th>\n",
              "      <th>funded_amnt</th>\n",
              "      <th>funded_amnt_inv</th>\n",
              "      <th>term</th>\n",
              "      <th>int_rate</th>\n",
              "      <th>installment</th>\n",
              "      <th>grade</th>\n",
              "      <th>sub_grade</th>\n",
              "      <th>emp_length</th>\n",
              "      <th>home_ownership</th>\n",
              "      <th>annual_inc</th>\n",
              "      <th>verification_status</th>\n",
              "      <th>issue_d</th>\n",
              "      <th>loan_status</th>\n",
              "      <th>purpose</th>\n",
              "      <th>title</th>\n",
              "      <th>zip_code</th>\n",
              "      <th>addr_state</th>\n",
              "      <th>dti</th>\n",
              "      <th>delinq_2yrs</th>\n",
              "      <th>earliest_cr_line</th>\n",
              "      <th>inq_last_6mths</th>\n",
              "      <th>open_acc</th>\n",
              "      <th>pub_rec</th>\n",
              "      <th>revol_bal</th>\n",
              "      <th>revol_util</th>\n",
              "      <th>total_acc</th>\n",
              "      <th>out_prncp</th>\n",
              "      <th>out_prncp_inv</th>\n",
              "      <th>total_pymnt</th>\n",
              "      <th>total_pymnt_inv</th>\n",
              "      <th>total_rec_prncp</th>\n",
              "      <th>total_rec_int</th>\n",
              "      <th>total_rec_late_fee</th>\n",
              "      <th>recoveries</th>\n",
              "      <th>collection_recovery_fee</th>\n",
              "      <th>last_pymnt_d</th>\n",
              "      <th>last_pymnt_amnt</th>\n",
              "      <th>last_credit_pull_d</th>\n",
              "      <th>pub_rec_bankruptcies</th>\n",
              "    </tr>\n",
              "  </thead>\n",
              "  <tbody>\n",
              "    <tr>\n",
              "      <th>0</th>\n",
              "      <td>1077501</td>\n",
              "      <td>5000</td>\n",
              "      <td>5000</td>\n",
              "      <td>4975.0</td>\n",
              "      <td>36 months</td>\n",
              "      <td>10.65%</td>\n",
              "      <td>162.87</td>\n",
              "      <td>B</td>\n",
              "      <td>B2</td>\n",
              "      <td>10+ years</td>\n",
              "      <td>RENT</td>\n",
              "      <td>24000.0</td>\n",
              "      <td>Verified</td>\n",
              "      <td>Dec-11</td>\n",
              "      <td>Fully Paid</td>\n",
              "      <td>credit_card</td>\n",
              "      <td>Computer</td>\n",
              "      <td>860xx</td>\n",
              "      <td>AZ</td>\n",
              "      <td>27.65</td>\n",
              "      <td>0</td>\n",
              "      <td>Jan-85</td>\n",
              "      <td>1</td>\n",
              "      <td>3</td>\n",
              "      <td>0</td>\n",
              "      <td>13648</td>\n",
              "      <td>83.70%</td>\n",
              "      <td>9</td>\n",
              "      <td>0.00</td>\n",
              "      <td>0.00</td>\n",
              "      <td>5863.155187</td>\n",
              "      <td>5833.84</td>\n",
              "      <td>5000.00</td>\n",
              "      <td>863.16</td>\n",
              "      <td>0.00</td>\n",
              "      <td>0.00</td>\n",
              "      <td>0.00</td>\n",
              "      <td>Jan-15</td>\n",
              "      <td>171.62</td>\n",
              "      <td>May-16</td>\n",
              "      <td>0.0</td>\n",
              "    </tr>\n",
              "    <tr>\n",
              "      <th>1</th>\n",
              "      <td>1077430</td>\n",
              "      <td>2500</td>\n",
              "      <td>2500</td>\n",
              "      <td>2500.0</td>\n",
              "      <td>60 months</td>\n",
              "      <td>15.27%</td>\n",
              "      <td>59.83</td>\n",
              "      <td>C</td>\n",
              "      <td>C4</td>\n",
              "      <td>&lt; 1 year</td>\n",
              "      <td>RENT</td>\n",
              "      <td>30000.0</td>\n",
              "      <td>Source Verified</td>\n",
              "      <td>Dec-11</td>\n",
              "      <td>Charged Off</td>\n",
              "      <td>car</td>\n",
              "      <td>bike</td>\n",
              "      <td>309xx</td>\n",
              "      <td>GA</td>\n",
              "      <td>1.00</td>\n",
              "      <td>0</td>\n",
              "      <td>Apr-99</td>\n",
              "      <td>5</td>\n",
              "      <td>3</td>\n",
              "      <td>0</td>\n",
              "      <td>1687</td>\n",
              "      <td>9.40%</td>\n",
              "      <td>4</td>\n",
              "      <td>0.00</td>\n",
              "      <td>0.00</td>\n",
              "      <td>1008.710000</td>\n",
              "      <td>1008.71</td>\n",
              "      <td>456.46</td>\n",
              "      <td>435.17</td>\n",
              "      <td>0.00</td>\n",
              "      <td>117.08</td>\n",
              "      <td>1.11</td>\n",
              "      <td>Apr-13</td>\n",
              "      <td>119.66</td>\n",
              "      <td>Sep-13</td>\n",
              "      <td>0.0</td>\n",
              "    </tr>\n",
              "    <tr>\n",
              "      <th>2</th>\n",
              "      <td>1077175</td>\n",
              "      <td>2400</td>\n",
              "      <td>2400</td>\n",
              "      <td>2400.0</td>\n",
              "      <td>36 months</td>\n",
              "      <td>15.96%</td>\n",
              "      <td>84.33</td>\n",
              "      <td>C</td>\n",
              "      <td>C5</td>\n",
              "      <td>10+ years</td>\n",
              "      <td>RENT</td>\n",
              "      <td>12252.0</td>\n",
              "      <td>Not Verified</td>\n",
              "      <td>Dec-11</td>\n",
              "      <td>Fully Paid</td>\n",
              "      <td>small_business</td>\n",
              "      <td>real estate business</td>\n",
              "      <td>606xx</td>\n",
              "      <td>IL</td>\n",
              "      <td>8.72</td>\n",
              "      <td>0</td>\n",
              "      <td>Nov-01</td>\n",
              "      <td>2</td>\n",
              "      <td>2</td>\n",
              "      <td>0</td>\n",
              "      <td>2956</td>\n",
              "      <td>98.50%</td>\n",
              "      <td>10</td>\n",
              "      <td>0.00</td>\n",
              "      <td>0.00</td>\n",
              "      <td>3005.666844</td>\n",
              "      <td>3005.67</td>\n",
              "      <td>2400.00</td>\n",
              "      <td>605.67</td>\n",
              "      <td>0.00</td>\n",
              "      <td>0.00</td>\n",
              "      <td>0.00</td>\n",
              "      <td>Jun-14</td>\n",
              "      <td>649.91</td>\n",
              "      <td>May-16</td>\n",
              "      <td>0.0</td>\n",
              "    </tr>\n",
              "    <tr>\n",
              "      <th>3</th>\n",
              "      <td>1076863</td>\n",
              "      <td>10000</td>\n",
              "      <td>10000</td>\n",
              "      <td>10000.0</td>\n",
              "      <td>36 months</td>\n",
              "      <td>13.49%</td>\n",
              "      <td>339.31</td>\n",
              "      <td>C</td>\n",
              "      <td>C1</td>\n",
              "      <td>10+ years</td>\n",
              "      <td>RENT</td>\n",
              "      <td>49200.0</td>\n",
              "      <td>Source Verified</td>\n",
              "      <td>Dec-11</td>\n",
              "      <td>Fully Paid</td>\n",
              "      <td>other</td>\n",
              "      <td>personel</td>\n",
              "      <td>917xx</td>\n",
              "      <td>CA</td>\n",
              "      <td>20.00</td>\n",
              "      <td>0</td>\n",
              "      <td>Feb-96</td>\n",
              "      <td>1</td>\n",
              "      <td>10</td>\n",
              "      <td>0</td>\n",
              "      <td>5598</td>\n",
              "      <td>21%</td>\n",
              "      <td>37</td>\n",
              "      <td>0.00</td>\n",
              "      <td>0.00</td>\n",
              "      <td>12231.890000</td>\n",
              "      <td>12231.89</td>\n",
              "      <td>10000.00</td>\n",
              "      <td>2214.92</td>\n",
              "      <td>16.97</td>\n",
              "      <td>0.00</td>\n",
              "      <td>0.00</td>\n",
              "      <td>Jan-15</td>\n",
              "      <td>357.48</td>\n",
              "      <td>Apr-16</td>\n",
              "      <td>0.0</td>\n",
              "    </tr>\n",
              "    <tr>\n",
              "      <th>4</th>\n",
              "      <td>1075358</td>\n",
              "      <td>3000</td>\n",
              "      <td>3000</td>\n",
              "      <td>3000.0</td>\n",
              "      <td>60 months</td>\n",
              "      <td>12.69%</td>\n",
              "      <td>67.79</td>\n",
              "      <td>B</td>\n",
              "      <td>B5</td>\n",
              "      <td>1 year</td>\n",
              "      <td>RENT</td>\n",
              "      <td>80000.0</td>\n",
              "      <td>Source Verified</td>\n",
              "      <td>Dec-11</td>\n",
              "      <td>Current</td>\n",
              "      <td>other</td>\n",
              "      <td>Personal</td>\n",
              "      <td>972xx</td>\n",
              "      <td>OR</td>\n",
              "      <td>17.94</td>\n",
              "      <td>0</td>\n",
              "      <td>Jan-96</td>\n",
              "      <td>0</td>\n",
              "      <td>15</td>\n",
              "      <td>0</td>\n",
              "      <td>27783</td>\n",
              "      <td>53.90%</td>\n",
              "      <td>38</td>\n",
              "      <td>524.06</td>\n",
              "      <td>524.06</td>\n",
              "      <td>3513.330000</td>\n",
              "      <td>3513.33</td>\n",
              "      <td>2475.94</td>\n",
              "      <td>1037.39</td>\n",
              "      <td>0.00</td>\n",
              "      <td>0.00</td>\n",
              "      <td>0.00</td>\n",
              "      <td>May-16</td>\n",
              "      <td>67.79</td>\n",
              "      <td>May-16</td>\n",
              "      <td>0.0</td>\n",
              "    </tr>\n",
              "  </tbody>\n",
              "</table>\n",
              "</div>\n",
              "      <button class=\"colab-df-convert\" onclick=\"convertToInteractive('df-e2d8cfa5-c6de-4e3d-b00d-dda80e68f680')\"\n",
              "              title=\"Convert this dataframe to an interactive table.\"\n",
              "              style=\"display:none;\">\n",
              "        \n",
              "  <svg xmlns=\"http://www.w3.org/2000/svg\" height=\"24px\"viewBox=\"0 0 24 24\"\n",
              "       width=\"24px\">\n",
              "    <path d=\"M0 0h24v24H0V0z\" fill=\"none\"/>\n",
              "    <path d=\"M18.56 5.44l.94 2.06.94-2.06 2.06-.94-2.06-.94-.94-2.06-.94 2.06-2.06.94zm-11 1L8.5 8.5l.94-2.06 2.06-.94-2.06-.94L8.5 2.5l-.94 2.06-2.06.94zm10 10l.94 2.06.94-2.06 2.06-.94-2.06-.94-.94-2.06-.94 2.06-2.06.94z\"/><path d=\"M17.41 7.96l-1.37-1.37c-.4-.4-.92-.59-1.43-.59-.52 0-1.04.2-1.43.59L10.3 9.45l-7.72 7.72c-.78.78-.78 2.05 0 2.83L4 21.41c.39.39.9.59 1.41.59.51 0 1.02-.2 1.41-.59l7.78-7.78 2.81-2.81c.8-.78.8-2.07 0-2.86zM5.41 20L4 18.59l7.72-7.72 1.47 1.35L5.41 20z\"/>\n",
              "  </svg>\n",
              "      </button>\n",
              "      \n",
              "  <style>\n",
              "    .colab-df-container {\n",
              "      display:flex;\n",
              "      flex-wrap:wrap;\n",
              "      gap: 12px;\n",
              "    }\n",
              "\n",
              "    .colab-df-convert {\n",
              "      background-color: #E8F0FE;\n",
              "      border: none;\n",
              "      border-radius: 50%;\n",
              "      cursor: pointer;\n",
              "      display: none;\n",
              "      fill: #1967D2;\n",
              "      height: 32px;\n",
              "      padding: 0 0 0 0;\n",
              "      width: 32px;\n",
              "    }\n",
              "\n",
              "    .colab-df-convert:hover {\n",
              "      background-color: #E2EBFA;\n",
              "      box-shadow: 0px 1px 2px rgba(60, 64, 67, 0.3), 0px 1px 3px 1px rgba(60, 64, 67, 0.15);\n",
              "      fill: #174EA6;\n",
              "    }\n",
              "\n",
              "    [theme=dark] .colab-df-convert {\n",
              "      background-color: #3B4455;\n",
              "      fill: #D2E3FC;\n",
              "    }\n",
              "\n",
              "    [theme=dark] .colab-df-convert:hover {\n",
              "      background-color: #434B5C;\n",
              "      box-shadow: 0px 1px 3px 1px rgba(0, 0, 0, 0.15);\n",
              "      filter: drop-shadow(0px 1px 2px rgba(0, 0, 0, 0.3));\n",
              "      fill: #FFFFFF;\n",
              "    }\n",
              "  </style>\n",
              "\n",
              "      <script>\n",
              "        const buttonEl =\n",
              "          document.querySelector('#df-e2d8cfa5-c6de-4e3d-b00d-dda80e68f680 button.colab-df-convert');\n",
              "        buttonEl.style.display =\n",
              "          google.colab.kernel.accessAllowed ? 'block' : 'none';\n",
              "\n",
              "        async function convertToInteractive(key) {\n",
              "          const element = document.querySelector('#df-e2d8cfa5-c6de-4e3d-b00d-dda80e68f680');\n",
              "          const dataTable =\n",
              "            await google.colab.kernel.invokeFunction('convertToInteractive',\n",
              "                                                     [key], {});\n",
              "          if (!dataTable) return;\n",
              "\n",
              "          const docLinkHtml = 'Like what you see? Visit the ' +\n",
              "            '<a target=\"_blank\" href=https://colab.research.google.com/notebooks/data_table.ipynb>data table notebook</a>'\n",
              "            + ' to learn more about interactive tables.';\n",
              "          element.innerHTML = '';\n",
              "          dataTable['output_type'] = 'display_data';\n",
              "          await google.colab.output.renderOutput(dataTable, element);\n",
              "          const docLink = document.createElement('div');\n",
              "          docLink.innerHTML = docLinkHtml;\n",
              "          element.appendChild(docLink);\n",
              "        }\n",
              "      </script>\n",
              "    </div>\n",
              "  </div>\n",
              "  "
            ],
            "text/plain": [
              "        id  loan_amnt  funded_amnt  funded_amnt_inv        term int_rate  \\\n",
              "0  1077501       5000         5000           4975.0   36 months   10.65%   \n",
              "1  1077430       2500         2500           2500.0   60 months   15.27%   \n",
              "2  1077175       2400         2400           2400.0   36 months   15.96%   \n",
              "3  1076863      10000        10000          10000.0   36 months   13.49%   \n",
              "4  1075358       3000         3000           3000.0   60 months   12.69%   \n",
              "\n",
              "   installment grade sub_grade emp_length home_ownership  annual_inc  \\\n",
              "0       162.87     B        B2  10+ years           RENT     24000.0   \n",
              "1        59.83     C        C4   < 1 year           RENT     30000.0   \n",
              "2        84.33     C        C5  10+ years           RENT     12252.0   \n",
              "3       339.31     C        C1  10+ years           RENT     49200.0   \n",
              "4        67.79     B        B5     1 year           RENT     80000.0   \n",
              "\n",
              "  verification_status issue_d  loan_status         purpose  \\\n",
              "0            Verified  Dec-11   Fully Paid     credit_card   \n",
              "1     Source Verified  Dec-11  Charged Off             car   \n",
              "2        Not Verified  Dec-11   Fully Paid  small_business   \n",
              "3     Source Verified  Dec-11   Fully Paid           other   \n",
              "4     Source Verified  Dec-11      Current           other   \n",
              "\n",
              "                  title zip_code addr_state    dti  delinq_2yrs  \\\n",
              "0              Computer    860xx         AZ  27.65            0   \n",
              "1                  bike    309xx         GA   1.00            0   \n",
              "2  real estate business    606xx         IL   8.72            0   \n",
              "3              personel    917xx         CA  20.00            0   \n",
              "4              Personal    972xx         OR  17.94            0   \n",
              "\n",
              "  earliest_cr_line  inq_last_6mths  open_acc  pub_rec  revol_bal revol_util  \\\n",
              "0           Jan-85               1         3        0      13648     83.70%   \n",
              "1           Apr-99               5         3        0       1687      9.40%   \n",
              "2           Nov-01               2         2        0       2956     98.50%   \n",
              "3           Feb-96               1        10        0       5598        21%   \n",
              "4           Jan-96               0        15        0      27783     53.90%   \n",
              "\n",
              "   total_acc  out_prncp  out_prncp_inv   total_pymnt  total_pymnt_inv  \\\n",
              "0          9       0.00           0.00   5863.155187          5833.84   \n",
              "1          4       0.00           0.00   1008.710000          1008.71   \n",
              "2         10       0.00           0.00   3005.666844          3005.67   \n",
              "3         37       0.00           0.00  12231.890000         12231.89   \n",
              "4         38     524.06         524.06   3513.330000          3513.33   \n",
              "\n",
              "   total_rec_prncp  total_rec_int  total_rec_late_fee  recoveries  \\\n",
              "0          5000.00         863.16                0.00        0.00   \n",
              "1           456.46         435.17                0.00      117.08   \n",
              "2          2400.00         605.67                0.00        0.00   \n",
              "3         10000.00        2214.92               16.97        0.00   \n",
              "4          2475.94        1037.39                0.00        0.00   \n",
              "\n",
              "   collection_recovery_fee last_pymnt_d  last_pymnt_amnt last_credit_pull_d  \\\n",
              "0                     0.00       Jan-15           171.62             May-16   \n",
              "1                     1.11       Apr-13           119.66             Sep-13   \n",
              "2                     0.00       Jun-14           649.91             May-16   \n",
              "3                     0.00       Jan-15           357.48             Apr-16   \n",
              "4                     0.00       May-16            67.79             May-16   \n",
              "\n",
              "   pub_rec_bankruptcies  \n",
              "0                   0.0  \n",
              "1                   0.0  \n",
              "2                   0.0  \n",
              "3                   0.0  \n",
              "4                   0.0  "
            ]
          },
          "metadata": {},
          "execution_count": 59
        }
      ]
    },
    {
      "cell_type": "markdown",
      "source": [
        "Let's take a look at all the currency amount and standardize format."
      ],
      "metadata": {
        "id": "6cHFqvM--tNC"
      }
    },
    {
      "cell_type": "code",
      "source": [
        "loandata.loan_amnt.value_counts().tail()"
      ],
      "metadata": {
        "colab": {
          "base_uri": "https://localhost:8080/"
        },
        "id": "MPbhsX28_PEA",
        "outputId": "95360549-e765-43b9-8266-d0869fdf3880"
      },
      "execution_count": 61,
      "outputs": [
        {
          "output_type": "execute_result",
          "data": {
            "text/plain": [
              "19725    1\n",
              "19550    1\n",
              "22875    1\n",
              "8175     1\n",
              "23575    1\n",
              "Name: loan_amnt, dtype: int64"
            ]
          },
          "metadata": {},
          "execution_count": 61
        }
      ]
    },
    {
      "cell_type": "code",
      "source": [
        "loandata.funded_amnt.value_counts().tail()"
      ],
      "metadata": {
        "colab": {
          "base_uri": "https://localhost:8080/"
        },
        "id": "CD8kYUu0_bwg",
        "outputId": "d004b210-c206-4923-ba4f-9a04028de044"
      },
      "execution_count": 62,
      "outputs": [
        {
          "output_type": "execute_result",
          "data": {
            "text/plain": [
              "21425    1\n",
              "26300    1\n",
              "25150    1\n",
              "27750    1\n",
              "725      1\n",
              "Name: funded_amnt, dtype: int64"
            ]
          },
          "metadata": {},
          "execution_count": 62
        }
      ]
    },
    {
      "cell_type": "code",
      "source": [
        "loandata.funded_amnt_inv.value_counts().tail()"
      ],
      "metadata": {
        "colab": {
          "base_uri": "https://localhost:8080/"
        },
        "id": "Za4_M0CZ_gm4",
        "outputId": "68d160c5-7449-4274-e282-a818ee6ff426"
      },
      "execution_count": 63,
      "outputs": [
        {
          "output_type": "execute_result",
          "data": {
            "text/plain": [
              "13743.698460    1\n",
              "7993.631739     1\n",
              "16545.291260    1\n",
              "18069.055090    1\n",
              "525.000000      1\n",
              "Name: funded_amnt_inv, dtype: int64"
            ]
          },
          "metadata": {},
          "execution_count": 63
        }
      ]
    },
    {
      "cell_type": "code",
      "source": [
        "# total_pymnt\ttotal_pymnt_inv\ttotal_rec_prncp\ttotal_rec_int\ttotal_rec_late_fee\trecoveries\tcollection_recovery_fee\n",
        "loandata.total_pymnt.value_counts().tail()"
      ],
      "metadata": {
        "colab": {
          "base_uri": "https://localhost:8080/"
        },
        "id": "xwo0Ummk_vin",
        "outputId": "0f95ff6c-d8b4-457b-d4cb-004b5ab9a033"
      },
      "execution_count": 65,
      "outputs": [
        {
          "output_type": "execute_result",
          "data": {
            "text/plain": [
              "12993.946870    1\n",
              "52956.260000    1\n",
              "3612.068565     1\n",
              "2180.090000     1\n",
              "3579.662273     1\n",
              "Name: total_pymnt, dtype: int64"
            ]
          },
          "metadata": {},
          "execution_count": 65
        }
      ]
    },
    {
      "cell_type": "code",
      "source": [
        "loandata.total_pymnt_inv.value_counts().tail()"
      ],
      "metadata": {
        "colab": {
          "base_uri": "https://localhost:8080/"
        },
        "id": "fnWo6YwvACle",
        "outputId": "23cdd6c3-44dc-4462-c372-68e95eb4938f"
      },
      "execution_count": 66,
      "outputs": [
        {
          "output_type": "execute_result",
          "data": {
            "text/plain": [
              "2180.09     1\n",
              "8306.56     1\n",
              "4668.68     1\n",
              "19884.28    1\n",
              "626.44      1\n",
              "Name: total_pymnt_inv, dtype: int64"
            ]
          },
          "metadata": {},
          "execution_count": 66
        }
      ]
    },
    {
      "cell_type": "code",
      "source": [
        "loandata.total_rec_prncp.value_counts().tail()"
      ],
      "metadata": {
        "colab": {
          "base_uri": "https://localhost:8080/"
        },
        "id": "m6F7aj-RAFgV",
        "outputId": "b8ba1a9c-9d51-4a3c-f4d4-b96c4af4361f"
      },
      "execution_count": 67,
      "outputs": [
        {
          "output_type": "execute_result",
          "data": {
            "text/plain": [
              "3325.28     1\n",
              "9192.73     1\n",
              "2575.27     1\n",
              "19174.44    1\n",
              "8688.59     1\n",
              "Name: total_rec_prncp, dtype: int64"
            ]
          },
          "metadata": {},
          "execution_count": 67
        }
      ]
    },
    {
      "cell_type": "code",
      "source": [
        "loandata.total_rec_int.value_counts().tail()\n"
      ],
      "metadata": {
        "colab": {
          "base_uri": "https://localhost:8080/"
        },
        "id": "EcCbthYgAIFJ",
        "outputId": "1fe7c8a1-96ff-4038-e83e-e767ecdf7ec6"
      },
      "execution_count": 68,
      "outputs": [
        {
          "output_type": "execute_result",
          "data": {
            "text/plain": [
              "67.87       1\n",
              "10453.68    1\n",
              "1662.43     1\n",
              "2923.11     1\n",
              "579.66      1\n",
              "Name: total_rec_int, dtype: int64"
            ]
          },
          "metadata": {},
          "execution_count": 68
        }
      ]
    },
    {
      "cell_type": "code",
      "source": [
        "loandata.total_rec_late_fee.value_counts().tail()"
      ],
      "metadata": {
        "colab": {
          "base_uri": "https://localhost:8080/"
        },
        "id": "WbGbsPvKAKOE",
        "outputId": "ecd22038-35b7-483f-8524-fb00a4503b49"
      },
      "execution_count": 69,
      "outputs": [
        {
          "output_type": "execute_result",
          "data": {
            "text/plain": [
              "25.530000    1\n",
              "14.987132    1\n",
              "14.939392    1\n",
              "23.960000    1\n",
              "52.262227    1\n",
              "Name: total_rec_late_fee, dtype: int64"
            ]
          },
          "metadata": {},
          "execution_count": 69
        }
      ]
    },
    {
      "cell_type": "code",
      "source": [
        "loandata.recoveries.value_counts().tail()"
      ],
      "metadata": {
        "colab": {
          "base_uri": "https://localhost:8080/"
        },
        "id": "7XWUe9FAAMi5",
        "outputId": "e170d584-36d6-466c-e85c-a0c43892b318"
      },
      "execution_count": 70,
      "outputs": [
        {
          "output_type": "execute_result",
          "data": {
            "text/plain": [
              "329.77    1\n",
              "224.00    1\n",
              "608.44    1\n",
              "11.07     1\n",
              "304.20    1\n",
              "Name: recoveries, dtype: int64"
            ]
          },
          "metadata": {},
          "execution_count": 70
        }
      ]
    },
    {
      "cell_type": "code",
      "source": [
        "loandata.collection_recovery_fee.value_counts().tail()"
      ],
      "metadata": {
        "colab": {
          "base_uri": "https://localhost:8080/"
        },
        "id": "KjfjF8R8AOsB",
        "outputId": "de196ef1-4a0a-45ed-9fd2-e40e425816c2"
      },
      "execution_count": 71,
      "outputs": [
        {
          "output_type": "execute_result",
          "data": {
            "text/plain": [
              "408.1176    1\n",
              "4.0957      1\n",
              "16.5800     1\n",
              "250.6104    1\n",
              "668.3600    1\n",
              "Name: collection_recovery_fee, dtype: int64"
            ]
          },
          "metadata": {},
          "execution_count": 71
        }
      ]
    },
    {
      "cell_type": "markdown",
      "source": [
        "From the above funded_amnt_inv, total_pymnt, total_rec_late_fee, collection_recovery_fee need to be adjusted."
      ],
      "metadata": {
        "id": "Yv0eTJ0tAQM6"
      }
    },
    {
      "cell_type": "code",
      "source": [
        "loandata.funded_amnt_inv = round(loandata.funded_amnt_inv,2)\n",
        "loandata.total_pymnt =round(loandata.total_pymnt,2)\n",
        "loandata.total_rec_late_fee = round(loandata.total_rec_late_fee,2)\n",
        "loandata.collection_recovery_fee = round(loandata.collection_recovery_fee,2)"
      ],
      "metadata": {
        "id": "BG8RZCGtAmXm"
      },
      "execution_count": 72,
      "outputs": []
    },
    {
      "cell_type": "markdown",
      "source": [
        "Next is to look at those columns with date/month info and the corresponding datatype in the dataframe."
      ],
      "metadata": {
        "id": "q2NCjwepBXjx"
      }
    },
    {
      "cell_type": "code",
      "source": [
        "loandata.head()"
      ],
      "metadata": {
        "colab": {
          "base_uri": "https://localhost:8080/",
          "height": 370
        },
        "id": "v3w7cWuHCced",
        "outputId": "72f5304a-6f76-4658-c9cc-5c4a4273ac4a"
      },
      "execution_count": 73,
      "outputs": [
        {
          "output_type": "execute_result",
          "data": {
            "text/html": [
              "\n",
              "  <div id=\"df-9bb2e4f8-f4fe-491a-bac7-2a3fd3dc0701\">\n",
              "    <div class=\"colab-df-container\">\n",
              "      <div>\n",
              "<style scoped>\n",
              "    .dataframe tbody tr th:only-of-type {\n",
              "        vertical-align: middle;\n",
              "    }\n",
              "\n",
              "    .dataframe tbody tr th {\n",
              "        vertical-align: top;\n",
              "    }\n",
              "\n",
              "    .dataframe thead th {\n",
              "        text-align: right;\n",
              "    }\n",
              "</style>\n",
              "<table border=\"1\" class=\"dataframe\">\n",
              "  <thead>\n",
              "    <tr style=\"text-align: right;\">\n",
              "      <th></th>\n",
              "      <th>id</th>\n",
              "      <th>loan_amnt</th>\n",
              "      <th>funded_amnt</th>\n",
              "      <th>funded_amnt_inv</th>\n",
              "      <th>term</th>\n",
              "      <th>int_rate</th>\n",
              "      <th>installment</th>\n",
              "      <th>grade</th>\n",
              "      <th>sub_grade</th>\n",
              "      <th>emp_length</th>\n",
              "      <th>home_ownership</th>\n",
              "      <th>annual_inc</th>\n",
              "      <th>verification_status</th>\n",
              "      <th>issue_d</th>\n",
              "      <th>loan_status</th>\n",
              "      <th>purpose</th>\n",
              "      <th>title</th>\n",
              "      <th>zip_code</th>\n",
              "      <th>addr_state</th>\n",
              "      <th>dti</th>\n",
              "      <th>delinq_2yrs</th>\n",
              "      <th>earliest_cr_line</th>\n",
              "      <th>inq_last_6mths</th>\n",
              "      <th>open_acc</th>\n",
              "      <th>pub_rec</th>\n",
              "      <th>revol_bal</th>\n",
              "      <th>revol_util</th>\n",
              "      <th>total_acc</th>\n",
              "      <th>out_prncp</th>\n",
              "      <th>out_prncp_inv</th>\n",
              "      <th>total_pymnt</th>\n",
              "      <th>total_pymnt_inv</th>\n",
              "      <th>total_rec_prncp</th>\n",
              "      <th>total_rec_int</th>\n",
              "      <th>total_rec_late_fee</th>\n",
              "      <th>recoveries</th>\n",
              "      <th>collection_recovery_fee</th>\n",
              "      <th>last_pymnt_d</th>\n",
              "      <th>last_pymnt_amnt</th>\n",
              "      <th>last_credit_pull_d</th>\n",
              "      <th>pub_rec_bankruptcies</th>\n",
              "    </tr>\n",
              "  </thead>\n",
              "  <tbody>\n",
              "    <tr>\n",
              "      <th>0</th>\n",
              "      <td>1077501</td>\n",
              "      <td>5000</td>\n",
              "      <td>5000</td>\n",
              "      <td>4975.0</td>\n",
              "      <td>36 months</td>\n",
              "      <td>10.65%</td>\n",
              "      <td>162.87</td>\n",
              "      <td>B</td>\n",
              "      <td>B2</td>\n",
              "      <td>10+ years</td>\n",
              "      <td>RENT</td>\n",
              "      <td>24000.0</td>\n",
              "      <td>Verified</td>\n",
              "      <td>Dec-11</td>\n",
              "      <td>Fully Paid</td>\n",
              "      <td>credit_card</td>\n",
              "      <td>Computer</td>\n",
              "      <td>860xx</td>\n",
              "      <td>AZ</td>\n",
              "      <td>27.65</td>\n",
              "      <td>0</td>\n",
              "      <td>Jan-85</td>\n",
              "      <td>1</td>\n",
              "      <td>3</td>\n",
              "      <td>0</td>\n",
              "      <td>13648</td>\n",
              "      <td>83.70%</td>\n",
              "      <td>9</td>\n",
              "      <td>0.00</td>\n",
              "      <td>0.00</td>\n",
              "      <td>5863.16</td>\n",
              "      <td>5833.84</td>\n",
              "      <td>5000.00</td>\n",
              "      <td>863.16</td>\n",
              "      <td>0.00</td>\n",
              "      <td>0.00</td>\n",
              "      <td>0.00</td>\n",
              "      <td>Jan-15</td>\n",
              "      <td>171.62</td>\n",
              "      <td>May-16</td>\n",
              "      <td>0.0</td>\n",
              "    </tr>\n",
              "    <tr>\n",
              "      <th>1</th>\n",
              "      <td>1077430</td>\n",
              "      <td>2500</td>\n",
              "      <td>2500</td>\n",
              "      <td>2500.0</td>\n",
              "      <td>60 months</td>\n",
              "      <td>15.27%</td>\n",
              "      <td>59.83</td>\n",
              "      <td>C</td>\n",
              "      <td>C4</td>\n",
              "      <td>&lt; 1 year</td>\n",
              "      <td>RENT</td>\n",
              "      <td>30000.0</td>\n",
              "      <td>Source Verified</td>\n",
              "      <td>Dec-11</td>\n",
              "      <td>Charged Off</td>\n",
              "      <td>car</td>\n",
              "      <td>bike</td>\n",
              "      <td>309xx</td>\n",
              "      <td>GA</td>\n",
              "      <td>1.00</td>\n",
              "      <td>0</td>\n",
              "      <td>Apr-99</td>\n",
              "      <td>5</td>\n",
              "      <td>3</td>\n",
              "      <td>0</td>\n",
              "      <td>1687</td>\n",
              "      <td>9.40%</td>\n",
              "      <td>4</td>\n",
              "      <td>0.00</td>\n",
              "      <td>0.00</td>\n",
              "      <td>1008.71</td>\n",
              "      <td>1008.71</td>\n",
              "      <td>456.46</td>\n",
              "      <td>435.17</td>\n",
              "      <td>0.00</td>\n",
              "      <td>117.08</td>\n",
              "      <td>1.11</td>\n",
              "      <td>Apr-13</td>\n",
              "      <td>119.66</td>\n",
              "      <td>Sep-13</td>\n",
              "      <td>0.0</td>\n",
              "    </tr>\n",
              "    <tr>\n",
              "      <th>2</th>\n",
              "      <td>1077175</td>\n",
              "      <td>2400</td>\n",
              "      <td>2400</td>\n",
              "      <td>2400.0</td>\n",
              "      <td>36 months</td>\n",
              "      <td>15.96%</td>\n",
              "      <td>84.33</td>\n",
              "      <td>C</td>\n",
              "      <td>C5</td>\n",
              "      <td>10+ years</td>\n",
              "      <td>RENT</td>\n",
              "      <td>12252.0</td>\n",
              "      <td>Not Verified</td>\n",
              "      <td>Dec-11</td>\n",
              "      <td>Fully Paid</td>\n",
              "      <td>small_business</td>\n",
              "      <td>real estate business</td>\n",
              "      <td>606xx</td>\n",
              "      <td>IL</td>\n",
              "      <td>8.72</td>\n",
              "      <td>0</td>\n",
              "      <td>Nov-01</td>\n",
              "      <td>2</td>\n",
              "      <td>2</td>\n",
              "      <td>0</td>\n",
              "      <td>2956</td>\n",
              "      <td>98.50%</td>\n",
              "      <td>10</td>\n",
              "      <td>0.00</td>\n",
              "      <td>0.00</td>\n",
              "      <td>3005.67</td>\n",
              "      <td>3005.67</td>\n",
              "      <td>2400.00</td>\n",
              "      <td>605.67</td>\n",
              "      <td>0.00</td>\n",
              "      <td>0.00</td>\n",
              "      <td>0.00</td>\n",
              "      <td>Jun-14</td>\n",
              "      <td>649.91</td>\n",
              "      <td>May-16</td>\n",
              "      <td>0.0</td>\n",
              "    </tr>\n",
              "    <tr>\n",
              "      <th>3</th>\n",
              "      <td>1076863</td>\n",
              "      <td>10000</td>\n",
              "      <td>10000</td>\n",
              "      <td>10000.0</td>\n",
              "      <td>36 months</td>\n",
              "      <td>13.49%</td>\n",
              "      <td>339.31</td>\n",
              "      <td>C</td>\n",
              "      <td>C1</td>\n",
              "      <td>10+ years</td>\n",
              "      <td>RENT</td>\n",
              "      <td>49200.0</td>\n",
              "      <td>Source Verified</td>\n",
              "      <td>Dec-11</td>\n",
              "      <td>Fully Paid</td>\n",
              "      <td>other</td>\n",
              "      <td>personel</td>\n",
              "      <td>917xx</td>\n",
              "      <td>CA</td>\n",
              "      <td>20.00</td>\n",
              "      <td>0</td>\n",
              "      <td>Feb-96</td>\n",
              "      <td>1</td>\n",
              "      <td>10</td>\n",
              "      <td>0</td>\n",
              "      <td>5598</td>\n",
              "      <td>21%</td>\n",
              "      <td>37</td>\n",
              "      <td>0.00</td>\n",
              "      <td>0.00</td>\n",
              "      <td>12231.89</td>\n",
              "      <td>12231.89</td>\n",
              "      <td>10000.00</td>\n",
              "      <td>2214.92</td>\n",
              "      <td>16.97</td>\n",
              "      <td>0.00</td>\n",
              "      <td>0.00</td>\n",
              "      <td>Jan-15</td>\n",
              "      <td>357.48</td>\n",
              "      <td>Apr-16</td>\n",
              "      <td>0.0</td>\n",
              "    </tr>\n",
              "    <tr>\n",
              "      <th>4</th>\n",
              "      <td>1075358</td>\n",
              "      <td>3000</td>\n",
              "      <td>3000</td>\n",
              "      <td>3000.0</td>\n",
              "      <td>60 months</td>\n",
              "      <td>12.69%</td>\n",
              "      <td>67.79</td>\n",
              "      <td>B</td>\n",
              "      <td>B5</td>\n",
              "      <td>1 year</td>\n",
              "      <td>RENT</td>\n",
              "      <td>80000.0</td>\n",
              "      <td>Source Verified</td>\n",
              "      <td>Dec-11</td>\n",
              "      <td>Current</td>\n",
              "      <td>other</td>\n",
              "      <td>Personal</td>\n",
              "      <td>972xx</td>\n",
              "      <td>OR</td>\n",
              "      <td>17.94</td>\n",
              "      <td>0</td>\n",
              "      <td>Jan-96</td>\n",
              "      <td>0</td>\n",
              "      <td>15</td>\n",
              "      <td>0</td>\n",
              "      <td>27783</td>\n",
              "      <td>53.90%</td>\n",
              "      <td>38</td>\n",
              "      <td>524.06</td>\n",
              "      <td>524.06</td>\n",
              "      <td>3513.33</td>\n",
              "      <td>3513.33</td>\n",
              "      <td>2475.94</td>\n",
              "      <td>1037.39</td>\n",
              "      <td>0.00</td>\n",
              "      <td>0.00</td>\n",
              "      <td>0.00</td>\n",
              "      <td>May-16</td>\n",
              "      <td>67.79</td>\n",
              "      <td>May-16</td>\n",
              "      <td>0.0</td>\n",
              "    </tr>\n",
              "  </tbody>\n",
              "</table>\n",
              "</div>\n",
              "      <button class=\"colab-df-convert\" onclick=\"convertToInteractive('df-9bb2e4f8-f4fe-491a-bac7-2a3fd3dc0701')\"\n",
              "              title=\"Convert this dataframe to an interactive table.\"\n",
              "              style=\"display:none;\">\n",
              "        \n",
              "  <svg xmlns=\"http://www.w3.org/2000/svg\" height=\"24px\"viewBox=\"0 0 24 24\"\n",
              "       width=\"24px\">\n",
              "    <path d=\"M0 0h24v24H0V0z\" fill=\"none\"/>\n",
              "    <path d=\"M18.56 5.44l.94 2.06.94-2.06 2.06-.94-2.06-.94-.94-2.06-.94 2.06-2.06.94zm-11 1L8.5 8.5l.94-2.06 2.06-.94-2.06-.94L8.5 2.5l-.94 2.06-2.06.94zm10 10l.94 2.06.94-2.06 2.06-.94-2.06-.94-.94-2.06-.94 2.06-2.06.94z\"/><path d=\"M17.41 7.96l-1.37-1.37c-.4-.4-.92-.59-1.43-.59-.52 0-1.04.2-1.43.59L10.3 9.45l-7.72 7.72c-.78.78-.78 2.05 0 2.83L4 21.41c.39.39.9.59 1.41.59.51 0 1.02-.2 1.41-.59l7.78-7.78 2.81-2.81c.8-.78.8-2.07 0-2.86zM5.41 20L4 18.59l7.72-7.72 1.47 1.35L5.41 20z\"/>\n",
              "  </svg>\n",
              "      </button>\n",
              "      \n",
              "  <style>\n",
              "    .colab-df-container {\n",
              "      display:flex;\n",
              "      flex-wrap:wrap;\n",
              "      gap: 12px;\n",
              "    }\n",
              "\n",
              "    .colab-df-convert {\n",
              "      background-color: #E8F0FE;\n",
              "      border: none;\n",
              "      border-radius: 50%;\n",
              "      cursor: pointer;\n",
              "      display: none;\n",
              "      fill: #1967D2;\n",
              "      height: 32px;\n",
              "      padding: 0 0 0 0;\n",
              "      width: 32px;\n",
              "    }\n",
              "\n",
              "    .colab-df-convert:hover {\n",
              "      background-color: #E2EBFA;\n",
              "      box-shadow: 0px 1px 2px rgba(60, 64, 67, 0.3), 0px 1px 3px 1px rgba(60, 64, 67, 0.15);\n",
              "      fill: #174EA6;\n",
              "    }\n",
              "\n",
              "    [theme=dark] .colab-df-convert {\n",
              "      background-color: #3B4455;\n",
              "      fill: #D2E3FC;\n",
              "    }\n",
              "\n",
              "    [theme=dark] .colab-df-convert:hover {\n",
              "      background-color: #434B5C;\n",
              "      box-shadow: 0px 1px 3px 1px rgba(0, 0, 0, 0.15);\n",
              "      filter: drop-shadow(0px 1px 2px rgba(0, 0, 0, 0.3));\n",
              "      fill: #FFFFFF;\n",
              "    }\n",
              "  </style>\n",
              "\n",
              "      <script>\n",
              "        const buttonEl =\n",
              "          document.querySelector('#df-9bb2e4f8-f4fe-491a-bac7-2a3fd3dc0701 button.colab-df-convert');\n",
              "        buttonEl.style.display =\n",
              "          google.colab.kernel.accessAllowed ? 'block' : 'none';\n",
              "\n",
              "        async function convertToInteractive(key) {\n",
              "          const element = document.querySelector('#df-9bb2e4f8-f4fe-491a-bac7-2a3fd3dc0701');\n",
              "          const dataTable =\n",
              "            await google.colab.kernel.invokeFunction('convertToInteractive',\n",
              "                                                     [key], {});\n",
              "          if (!dataTable) return;\n",
              "\n",
              "          const docLinkHtml = 'Like what you see? Visit the ' +\n",
              "            '<a target=\"_blank\" href=https://colab.research.google.com/notebooks/data_table.ipynb>data table notebook</a>'\n",
              "            + ' to learn more about interactive tables.';\n",
              "          element.innerHTML = '';\n",
              "          dataTable['output_type'] = 'display_data';\n",
              "          await google.colab.output.renderOutput(dataTable, element);\n",
              "          const docLink = document.createElement('div');\n",
              "          docLink.innerHTML = docLinkHtml;\n",
              "          element.appendChild(docLink);\n",
              "        }\n",
              "      </script>\n",
              "    </div>\n",
              "  </div>\n",
              "  "
            ],
            "text/plain": [
              "        id  loan_amnt  funded_amnt  funded_amnt_inv        term int_rate  \\\n",
              "0  1077501       5000         5000           4975.0   36 months   10.65%   \n",
              "1  1077430       2500         2500           2500.0   60 months   15.27%   \n",
              "2  1077175       2400         2400           2400.0   36 months   15.96%   \n",
              "3  1076863      10000        10000          10000.0   36 months   13.49%   \n",
              "4  1075358       3000         3000           3000.0   60 months   12.69%   \n",
              "\n",
              "   installment grade sub_grade emp_length home_ownership  annual_inc  \\\n",
              "0       162.87     B        B2  10+ years           RENT     24000.0   \n",
              "1        59.83     C        C4   < 1 year           RENT     30000.0   \n",
              "2        84.33     C        C5  10+ years           RENT     12252.0   \n",
              "3       339.31     C        C1  10+ years           RENT     49200.0   \n",
              "4        67.79     B        B5     1 year           RENT     80000.0   \n",
              "\n",
              "  verification_status issue_d  loan_status         purpose  \\\n",
              "0            Verified  Dec-11   Fully Paid     credit_card   \n",
              "1     Source Verified  Dec-11  Charged Off             car   \n",
              "2        Not Verified  Dec-11   Fully Paid  small_business   \n",
              "3     Source Verified  Dec-11   Fully Paid           other   \n",
              "4     Source Verified  Dec-11      Current           other   \n",
              "\n",
              "                  title zip_code addr_state    dti  delinq_2yrs  \\\n",
              "0              Computer    860xx         AZ  27.65            0   \n",
              "1                  bike    309xx         GA   1.00            0   \n",
              "2  real estate business    606xx         IL   8.72            0   \n",
              "3              personel    917xx         CA  20.00            0   \n",
              "4              Personal    972xx         OR  17.94            0   \n",
              "\n",
              "  earliest_cr_line  inq_last_6mths  open_acc  pub_rec  revol_bal revol_util  \\\n",
              "0           Jan-85               1         3        0      13648     83.70%   \n",
              "1           Apr-99               5         3        0       1687      9.40%   \n",
              "2           Nov-01               2         2        0       2956     98.50%   \n",
              "3           Feb-96               1        10        0       5598        21%   \n",
              "4           Jan-96               0        15        0      27783     53.90%   \n",
              "\n",
              "   total_acc  out_prncp  out_prncp_inv  total_pymnt  total_pymnt_inv  \\\n",
              "0          9       0.00           0.00      5863.16          5833.84   \n",
              "1          4       0.00           0.00      1008.71          1008.71   \n",
              "2         10       0.00           0.00      3005.67          3005.67   \n",
              "3         37       0.00           0.00     12231.89         12231.89   \n",
              "4         38     524.06         524.06      3513.33          3513.33   \n",
              "\n",
              "   total_rec_prncp  total_rec_int  total_rec_late_fee  recoveries  \\\n",
              "0          5000.00         863.16                0.00        0.00   \n",
              "1           456.46         435.17                0.00      117.08   \n",
              "2          2400.00         605.67                0.00        0.00   \n",
              "3         10000.00        2214.92               16.97        0.00   \n",
              "4          2475.94        1037.39                0.00        0.00   \n",
              "\n",
              "   collection_recovery_fee last_pymnt_d  last_pymnt_amnt last_credit_pull_d  \\\n",
              "0                     0.00       Jan-15           171.62             May-16   \n",
              "1                     1.11       Apr-13           119.66             Sep-13   \n",
              "2                     0.00       Jun-14           649.91             May-16   \n",
              "3                     0.00       Jan-15           357.48             Apr-16   \n",
              "4                     0.00       May-16            67.79             May-16   \n",
              "\n",
              "   pub_rec_bankruptcies  \n",
              "0                   0.0  \n",
              "1                   0.0  \n",
              "2                   0.0  \n",
              "3                   0.0  \n",
              "4                   0.0  "
            ]
          },
          "metadata": {},
          "execution_count": 73
        }
      ]
    },
    {
      "cell_type": "markdown",
      "source": [
        "There are 4 columns - \n",
        "1. issue_d\n",
        "2. earliest_cr_line\n",
        "3. last_pymnt_d\n",
        "4. last_credit_pull_d"
      ],
      "metadata": {
        "id": "dGE-AaIEClHU"
      }
    },
    {
      "cell_type": "code",
      "source": [
        "monthcols = ['issue_d','earliest_cr_line','last_pymnt_d','last_credit_pull_d']\n",
        "loandata[monthcols].info()"
      ],
      "metadata": {
        "colab": {
          "base_uri": "https://localhost:8080/"
        },
        "id": "v5AMqb6sCvce",
        "outputId": "40637f8c-0064-4f64-ba9d-4c1e584fb74b"
      },
      "execution_count": 74,
      "outputs": [
        {
          "output_type": "stream",
          "name": "stdout",
          "text": [
            "<class 'pandas.core.frame.DataFrame'>\n",
            "Int64Index: 37826 entries, 0 to 39680\n",
            "Data columns (total 4 columns):\n",
            " #   Column              Non-Null Count  Dtype \n",
            "---  ------              --------------  ----- \n",
            " 0   issue_d             37826 non-null  object\n",
            " 1   earliest_cr_line    37826 non-null  object\n",
            " 2   last_pymnt_d        37826 non-null  object\n",
            " 3   last_credit_pull_d  37825 non-null  object\n",
            "dtypes: object(4)\n",
            "memory usage: 1.4+ MB\n"
          ]
        }
      ]
    },
    {
      "cell_type": "markdown",
      "source": [
        "Converting these datatypes from object to datetime"
      ],
      "metadata": {
        "id": "3EOa9a7lDFgk"
      }
    },
    {
      "cell_type": "code",
      "source": [
        "loandata.issue_d = pd.to_datetime(loandata.issue_d, format='%b-%y')\n",
        "loandata.earliest_cr_line = pd.to_datetime(loandata.earliest_cr_line, format='%b-%y')\n",
        "loandata.last_pymnt_d = pd.to_datetime(loandata.last_pymnt_d, format='%b-%y')\n",
        "loandata.last_credit_pull_d = pd.to_datetime(loandata.last_credit_pull_d, format='%b-%y')"
      ],
      "metadata": {
        "id": "Y-VJjqYnDJI-"
      },
      "execution_count": 76,
      "outputs": []
    },
    {
      "cell_type": "code",
      "source": [
        "loandata[monthcols].info()"
      ],
      "metadata": {
        "colab": {
          "base_uri": "https://localhost:8080/"
        },
        "id": "t8BsENQ5Drzp",
        "outputId": "58f11a46-9d93-4f00-83ea-f6833e85a343"
      },
      "execution_count": 77,
      "outputs": [
        {
          "output_type": "stream",
          "name": "stdout",
          "text": [
            "<class 'pandas.core.frame.DataFrame'>\n",
            "Int64Index: 37826 entries, 0 to 39680\n",
            "Data columns (total 4 columns):\n",
            " #   Column              Non-Null Count  Dtype         \n",
            "---  ------              --------------  -----         \n",
            " 0   issue_d             37826 non-null  datetime64[ns]\n",
            " 1   earliest_cr_line    37826 non-null  datetime64[ns]\n",
            " 2   last_pymnt_d        37826 non-null  datetime64[ns]\n",
            " 3   last_credit_pull_d  37825 non-null  datetime64[ns]\n",
            "dtypes: datetime64[ns](4)\n",
            "memory usage: 1.4 MB\n"
          ]
        }
      ]
    },
    {
      "cell_type": "code",
      "source": [
        "loandata.head()"
      ],
      "metadata": {
        "colab": {
          "base_uri": "https://localhost:8080/",
          "height": 370
        },
        "id": "573uSY76D4NP",
        "outputId": "059b6ec6-56c9-47e0-c5ab-3c70433ad8ce"
      },
      "execution_count": 78,
      "outputs": [
        {
          "output_type": "execute_result",
          "data": {
            "text/html": [
              "\n",
              "  <div id=\"df-e2f074cd-e883-4781-a7b7-3205937ffe92\">\n",
              "    <div class=\"colab-df-container\">\n",
              "      <div>\n",
              "<style scoped>\n",
              "    .dataframe tbody tr th:only-of-type {\n",
              "        vertical-align: middle;\n",
              "    }\n",
              "\n",
              "    .dataframe tbody tr th {\n",
              "        vertical-align: top;\n",
              "    }\n",
              "\n",
              "    .dataframe thead th {\n",
              "        text-align: right;\n",
              "    }\n",
              "</style>\n",
              "<table border=\"1\" class=\"dataframe\">\n",
              "  <thead>\n",
              "    <tr style=\"text-align: right;\">\n",
              "      <th></th>\n",
              "      <th>id</th>\n",
              "      <th>loan_amnt</th>\n",
              "      <th>funded_amnt</th>\n",
              "      <th>funded_amnt_inv</th>\n",
              "      <th>term</th>\n",
              "      <th>int_rate</th>\n",
              "      <th>installment</th>\n",
              "      <th>grade</th>\n",
              "      <th>sub_grade</th>\n",
              "      <th>emp_length</th>\n",
              "      <th>home_ownership</th>\n",
              "      <th>annual_inc</th>\n",
              "      <th>verification_status</th>\n",
              "      <th>issue_d</th>\n",
              "      <th>loan_status</th>\n",
              "      <th>purpose</th>\n",
              "      <th>title</th>\n",
              "      <th>zip_code</th>\n",
              "      <th>addr_state</th>\n",
              "      <th>dti</th>\n",
              "      <th>delinq_2yrs</th>\n",
              "      <th>earliest_cr_line</th>\n",
              "      <th>inq_last_6mths</th>\n",
              "      <th>open_acc</th>\n",
              "      <th>pub_rec</th>\n",
              "      <th>revol_bal</th>\n",
              "      <th>revol_util</th>\n",
              "      <th>total_acc</th>\n",
              "      <th>out_prncp</th>\n",
              "      <th>out_prncp_inv</th>\n",
              "      <th>total_pymnt</th>\n",
              "      <th>total_pymnt_inv</th>\n",
              "      <th>total_rec_prncp</th>\n",
              "      <th>total_rec_int</th>\n",
              "      <th>total_rec_late_fee</th>\n",
              "      <th>recoveries</th>\n",
              "      <th>collection_recovery_fee</th>\n",
              "      <th>last_pymnt_d</th>\n",
              "      <th>last_pymnt_amnt</th>\n",
              "      <th>last_credit_pull_d</th>\n",
              "      <th>pub_rec_bankruptcies</th>\n",
              "    </tr>\n",
              "  </thead>\n",
              "  <tbody>\n",
              "    <tr>\n",
              "      <th>0</th>\n",
              "      <td>1077501</td>\n",
              "      <td>5000</td>\n",
              "      <td>5000</td>\n",
              "      <td>4975.0</td>\n",
              "      <td>36 months</td>\n",
              "      <td>10.65%</td>\n",
              "      <td>162.87</td>\n",
              "      <td>B</td>\n",
              "      <td>B2</td>\n",
              "      <td>10+ years</td>\n",
              "      <td>RENT</td>\n",
              "      <td>24000.0</td>\n",
              "      <td>Verified</td>\n",
              "      <td>2011-12-01</td>\n",
              "      <td>Fully Paid</td>\n",
              "      <td>credit_card</td>\n",
              "      <td>Computer</td>\n",
              "      <td>860xx</td>\n",
              "      <td>AZ</td>\n",
              "      <td>27.65</td>\n",
              "      <td>0</td>\n",
              "      <td>1985-01-01</td>\n",
              "      <td>1</td>\n",
              "      <td>3</td>\n",
              "      <td>0</td>\n",
              "      <td>13648</td>\n",
              "      <td>83.70%</td>\n",
              "      <td>9</td>\n",
              "      <td>0.00</td>\n",
              "      <td>0.00</td>\n",
              "      <td>5863.16</td>\n",
              "      <td>5833.84</td>\n",
              "      <td>5000.00</td>\n",
              "      <td>863.16</td>\n",
              "      <td>0.00</td>\n",
              "      <td>0.00</td>\n",
              "      <td>0.00</td>\n",
              "      <td>2015-01-01</td>\n",
              "      <td>171.62</td>\n",
              "      <td>2016-05-01</td>\n",
              "      <td>0.0</td>\n",
              "    </tr>\n",
              "    <tr>\n",
              "      <th>1</th>\n",
              "      <td>1077430</td>\n",
              "      <td>2500</td>\n",
              "      <td>2500</td>\n",
              "      <td>2500.0</td>\n",
              "      <td>60 months</td>\n",
              "      <td>15.27%</td>\n",
              "      <td>59.83</td>\n",
              "      <td>C</td>\n",
              "      <td>C4</td>\n",
              "      <td>&lt; 1 year</td>\n",
              "      <td>RENT</td>\n",
              "      <td>30000.0</td>\n",
              "      <td>Source Verified</td>\n",
              "      <td>2011-12-01</td>\n",
              "      <td>Charged Off</td>\n",
              "      <td>car</td>\n",
              "      <td>bike</td>\n",
              "      <td>309xx</td>\n",
              "      <td>GA</td>\n",
              "      <td>1.00</td>\n",
              "      <td>0</td>\n",
              "      <td>1999-04-01</td>\n",
              "      <td>5</td>\n",
              "      <td>3</td>\n",
              "      <td>0</td>\n",
              "      <td>1687</td>\n",
              "      <td>9.40%</td>\n",
              "      <td>4</td>\n",
              "      <td>0.00</td>\n",
              "      <td>0.00</td>\n",
              "      <td>1008.71</td>\n",
              "      <td>1008.71</td>\n",
              "      <td>456.46</td>\n",
              "      <td>435.17</td>\n",
              "      <td>0.00</td>\n",
              "      <td>117.08</td>\n",
              "      <td>1.11</td>\n",
              "      <td>2013-04-01</td>\n",
              "      <td>119.66</td>\n",
              "      <td>2013-09-01</td>\n",
              "      <td>0.0</td>\n",
              "    </tr>\n",
              "    <tr>\n",
              "      <th>2</th>\n",
              "      <td>1077175</td>\n",
              "      <td>2400</td>\n",
              "      <td>2400</td>\n",
              "      <td>2400.0</td>\n",
              "      <td>36 months</td>\n",
              "      <td>15.96%</td>\n",
              "      <td>84.33</td>\n",
              "      <td>C</td>\n",
              "      <td>C5</td>\n",
              "      <td>10+ years</td>\n",
              "      <td>RENT</td>\n",
              "      <td>12252.0</td>\n",
              "      <td>Not Verified</td>\n",
              "      <td>2011-12-01</td>\n",
              "      <td>Fully Paid</td>\n",
              "      <td>small_business</td>\n",
              "      <td>real estate business</td>\n",
              "      <td>606xx</td>\n",
              "      <td>IL</td>\n",
              "      <td>8.72</td>\n",
              "      <td>0</td>\n",
              "      <td>2001-11-01</td>\n",
              "      <td>2</td>\n",
              "      <td>2</td>\n",
              "      <td>0</td>\n",
              "      <td>2956</td>\n",
              "      <td>98.50%</td>\n",
              "      <td>10</td>\n",
              "      <td>0.00</td>\n",
              "      <td>0.00</td>\n",
              "      <td>3005.67</td>\n",
              "      <td>3005.67</td>\n",
              "      <td>2400.00</td>\n",
              "      <td>605.67</td>\n",
              "      <td>0.00</td>\n",
              "      <td>0.00</td>\n",
              "      <td>0.00</td>\n",
              "      <td>2014-06-01</td>\n",
              "      <td>649.91</td>\n",
              "      <td>2016-05-01</td>\n",
              "      <td>0.0</td>\n",
              "    </tr>\n",
              "    <tr>\n",
              "      <th>3</th>\n",
              "      <td>1076863</td>\n",
              "      <td>10000</td>\n",
              "      <td>10000</td>\n",
              "      <td>10000.0</td>\n",
              "      <td>36 months</td>\n",
              "      <td>13.49%</td>\n",
              "      <td>339.31</td>\n",
              "      <td>C</td>\n",
              "      <td>C1</td>\n",
              "      <td>10+ years</td>\n",
              "      <td>RENT</td>\n",
              "      <td>49200.0</td>\n",
              "      <td>Source Verified</td>\n",
              "      <td>2011-12-01</td>\n",
              "      <td>Fully Paid</td>\n",
              "      <td>other</td>\n",
              "      <td>personel</td>\n",
              "      <td>917xx</td>\n",
              "      <td>CA</td>\n",
              "      <td>20.00</td>\n",
              "      <td>0</td>\n",
              "      <td>1996-02-01</td>\n",
              "      <td>1</td>\n",
              "      <td>10</td>\n",
              "      <td>0</td>\n",
              "      <td>5598</td>\n",
              "      <td>21%</td>\n",
              "      <td>37</td>\n",
              "      <td>0.00</td>\n",
              "      <td>0.00</td>\n",
              "      <td>12231.89</td>\n",
              "      <td>12231.89</td>\n",
              "      <td>10000.00</td>\n",
              "      <td>2214.92</td>\n",
              "      <td>16.97</td>\n",
              "      <td>0.00</td>\n",
              "      <td>0.00</td>\n",
              "      <td>2015-01-01</td>\n",
              "      <td>357.48</td>\n",
              "      <td>2016-04-01</td>\n",
              "      <td>0.0</td>\n",
              "    </tr>\n",
              "    <tr>\n",
              "      <th>4</th>\n",
              "      <td>1075358</td>\n",
              "      <td>3000</td>\n",
              "      <td>3000</td>\n",
              "      <td>3000.0</td>\n",
              "      <td>60 months</td>\n",
              "      <td>12.69%</td>\n",
              "      <td>67.79</td>\n",
              "      <td>B</td>\n",
              "      <td>B5</td>\n",
              "      <td>1 year</td>\n",
              "      <td>RENT</td>\n",
              "      <td>80000.0</td>\n",
              "      <td>Source Verified</td>\n",
              "      <td>2011-12-01</td>\n",
              "      <td>Current</td>\n",
              "      <td>other</td>\n",
              "      <td>Personal</td>\n",
              "      <td>972xx</td>\n",
              "      <td>OR</td>\n",
              "      <td>17.94</td>\n",
              "      <td>0</td>\n",
              "      <td>1996-01-01</td>\n",
              "      <td>0</td>\n",
              "      <td>15</td>\n",
              "      <td>0</td>\n",
              "      <td>27783</td>\n",
              "      <td>53.90%</td>\n",
              "      <td>38</td>\n",
              "      <td>524.06</td>\n",
              "      <td>524.06</td>\n",
              "      <td>3513.33</td>\n",
              "      <td>3513.33</td>\n",
              "      <td>2475.94</td>\n",
              "      <td>1037.39</td>\n",
              "      <td>0.00</td>\n",
              "      <td>0.00</td>\n",
              "      <td>0.00</td>\n",
              "      <td>2016-05-01</td>\n",
              "      <td>67.79</td>\n",
              "      <td>2016-05-01</td>\n",
              "      <td>0.0</td>\n",
              "    </tr>\n",
              "  </tbody>\n",
              "</table>\n",
              "</div>\n",
              "      <button class=\"colab-df-convert\" onclick=\"convertToInteractive('df-e2f074cd-e883-4781-a7b7-3205937ffe92')\"\n",
              "              title=\"Convert this dataframe to an interactive table.\"\n",
              "              style=\"display:none;\">\n",
              "        \n",
              "  <svg xmlns=\"http://www.w3.org/2000/svg\" height=\"24px\"viewBox=\"0 0 24 24\"\n",
              "       width=\"24px\">\n",
              "    <path d=\"M0 0h24v24H0V0z\" fill=\"none\"/>\n",
              "    <path d=\"M18.56 5.44l.94 2.06.94-2.06 2.06-.94-2.06-.94-.94-2.06-.94 2.06-2.06.94zm-11 1L8.5 8.5l.94-2.06 2.06-.94-2.06-.94L8.5 2.5l-.94 2.06-2.06.94zm10 10l.94 2.06.94-2.06 2.06-.94-2.06-.94-.94-2.06-.94 2.06-2.06.94z\"/><path d=\"M17.41 7.96l-1.37-1.37c-.4-.4-.92-.59-1.43-.59-.52 0-1.04.2-1.43.59L10.3 9.45l-7.72 7.72c-.78.78-.78 2.05 0 2.83L4 21.41c.39.39.9.59 1.41.59.51 0 1.02-.2 1.41-.59l7.78-7.78 2.81-2.81c.8-.78.8-2.07 0-2.86zM5.41 20L4 18.59l7.72-7.72 1.47 1.35L5.41 20z\"/>\n",
              "  </svg>\n",
              "      </button>\n",
              "      \n",
              "  <style>\n",
              "    .colab-df-container {\n",
              "      display:flex;\n",
              "      flex-wrap:wrap;\n",
              "      gap: 12px;\n",
              "    }\n",
              "\n",
              "    .colab-df-convert {\n",
              "      background-color: #E8F0FE;\n",
              "      border: none;\n",
              "      border-radius: 50%;\n",
              "      cursor: pointer;\n",
              "      display: none;\n",
              "      fill: #1967D2;\n",
              "      height: 32px;\n",
              "      padding: 0 0 0 0;\n",
              "      width: 32px;\n",
              "    }\n",
              "\n",
              "    .colab-df-convert:hover {\n",
              "      background-color: #E2EBFA;\n",
              "      box-shadow: 0px 1px 2px rgba(60, 64, 67, 0.3), 0px 1px 3px 1px rgba(60, 64, 67, 0.15);\n",
              "      fill: #174EA6;\n",
              "    }\n",
              "\n",
              "    [theme=dark] .colab-df-convert {\n",
              "      background-color: #3B4455;\n",
              "      fill: #D2E3FC;\n",
              "    }\n",
              "\n",
              "    [theme=dark] .colab-df-convert:hover {\n",
              "      background-color: #434B5C;\n",
              "      box-shadow: 0px 1px 3px 1px rgba(0, 0, 0, 0.15);\n",
              "      filter: drop-shadow(0px 1px 2px rgba(0, 0, 0, 0.3));\n",
              "      fill: #FFFFFF;\n",
              "    }\n",
              "  </style>\n",
              "\n",
              "      <script>\n",
              "        const buttonEl =\n",
              "          document.querySelector('#df-e2f074cd-e883-4781-a7b7-3205937ffe92 button.colab-df-convert');\n",
              "        buttonEl.style.display =\n",
              "          google.colab.kernel.accessAllowed ? 'block' : 'none';\n",
              "\n",
              "        async function convertToInteractive(key) {\n",
              "          const element = document.querySelector('#df-e2f074cd-e883-4781-a7b7-3205937ffe92');\n",
              "          const dataTable =\n",
              "            await google.colab.kernel.invokeFunction('convertToInteractive',\n",
              "                                                     [key], {});\n",
              "          if (!dataTable) return;\n",
              "\n",
              "          const docLinkHtml = 'Like what you see? Visit the ' +\n",
              "            '<a target=\"_blank\" href=https://colab.research.google.com/notebooks/data_table.ipynb>data table notebook</a>'\n",
              "            + ' to learn more about interactive tables.';\n",
              "          element.innerHTML = '';\n",
              "          dataTable['output_type'] = 'display_data';\n",
              "          await google.colab.output.renderOutput(dataTable, element);\n",
              "          const docLink = document.createElement('div');\n",
              "          docLink.innerHTML = docLinkHtml;\n",
              "          element.appendChild(docLink);\n",
              "        }\n",
              "      </script>\n",
              "    </div>\n",
              "  </div>\n",
              "  "
            ],
            "text/plain": [
              "        id  loan_amnt  funded_amnt  funded_amnt_inv        term int_rate  \\\n",
              "0  1077501       5000         5000           4975.0   36 months   10.65%   \n",
              "1  1077430       2500         2500           2500.0   60 months   15.27%   \n",
              "2  1077175       2400         2400           2400.0   36 months   15.96%   \n",
              "3  1076863      10000        10000          10000.0   36 months   13.49%   \n",
              "4  1075358       3000         3000           3000.0   60 months   12.69%   \n",
              "\n",
              "   installment grade sub_grade emp_length home_ownership  annual_inc  \\\n",
              "0       162.87     B        B2  10+ years           RENT     24000.0   \n",
              "1        59.83     C        C4   < 1 year           RENT     30000.0   \n",
              "2        84.33     C        C5  10+ years           RENT     12252.0   \n",
              "3       339.31     C        C1  10+ years           RENT     49200.0   \n",
              "4        67.79     B        B5     1 year           RENT     80000.0   \n",
              "\n",
              "  verification_status    issue_d  loan_status         purpose  \\\n",
              "0            Verified 2011-12-01   Fully Paid     credit_card   \n",
              "1     Source Verified 2011-12-01  Charged Off             car   \n",
              "2        Not Verified 2011-12-01   Fully Paid  small_business   \n",
              "3     Source Verified 2011-12-01   Fully Paid           other   \n",
              "4     Source Verified 2011-12-01      Current           other   \n",
              "\n",
              "                  title zip_code addr_state    dti  delinq_2yrs  \\\n",
              "0              Computer    860xx         AZ  27.65            0   \n",
              "1                  bike    309xx         GA   1.00            0   \n",
              "2  real estate business    606xx         IL   8.72            0   \n",
              "3              personel    917xx         CA  20.00            0   \n",
              "4              Personal    972xx         OR  17.94            0   \n",
              "\n",
              "  earliest_cr_line  inq_last_6mths  open_acc  pub_rec  revol_bal revol_util  \\\n",
              "0       1985-01-01               1         3        0      13648     83.70%   \n",
              "1       1999-04-01               5         3        0       1687      9.40%   \n",
              "2       2001-11-01               2         2        0       2956     98.50%   \n",
              "3       1996-02-01               1        10        0       5598        21%   \n",
              "4       1996-01-01               0        15        0      27783     53.90%   \n",
              "\n",
              "   total_acc  out_prncp  out_prncp_inv  total_pymnt  total_pymnt_inv  \\\n",
              "0          9       0.00           0.00      5863.16          5833.84   \n",
              "1          4       0.00           0.00      1008.71          1008.71   \n",
              "2         10       0.00           0.00      3005.67          3005.67   \n",
              "3         37       0.00           0.00     12231.89         12231.89   \n",
              "4         38     524.06         524.06      3513.33          3513.33   \n",
              "\n",
              "   total_rec_prncp  total_rec_int  total_rec_late_fee  recoveries  \\\n",
              "0          5000.00         863.16                0.00        0.00   \n",
              "1           456.46         435.17                0.00      117.08   \n",
              "2          2400.00         605.67                0.00        0.00   \n",
              "3         10000.00        2214.92               16.97        0.00   \n",
              "4          2475.94        1037.39                0.00        0.00   \n",
              "\n",
              "   collection_recovery_fee last_pymnt_d  last_pymnt_amnt last_credit_pull_d  \\\n",
              "0                     0.00   2015-01-01           171.62         2016-05-01   \n",
              "1                     1.11   2013-04-01           119.66         2013-09-01   \n",
              "2                     0.00   2014-06-01           649.91         2016-05-01   \n",
              "3                     0.00   2015-01-01           357.48         2016-04-01   \n",
              "4                     0.00   2016-05-01            67.79         2016-05-01   \n",
              "\n",
              "   pub_rec_bankruptcies  \n",
              "0                   0.0  \n",
              "1                   0.0  \n",
              "2                   0.0  \n",
              "3                   0.0  \n",
              "4                   0.0  "
            ]
          },
          "metadata": {},
          "execution_count": 78
        }
      ]
    },
    {
      "cell_type": "markdown",
      "source": [
        "The columns int_rate can be modified to remove the % symbol and the column term can be modified to remove the \"months\". Let's review these before making the changes."
      ],
      "metadata": {
        "id": "Xqrr7n1lD95-"
      }
    },
    {
      "cell_type": "code",
      "source": [
        "loandata.term.value_counts()"
      ],
      "metadata": {
        "colab": {
          "base_uri": "https://localhost:8080/"
        },
        "id": "d4JLPiD0EL60",
        "outputId": "3ce19517-f114-4b7c-caf2-5874fe5e59e7"
      },
      "execution_count": 80,
      "outputs": [
        {
          "output_type": "execute_result",
          "data": {
            "text/plain": [
              " 36 months    27492\n",
              " 60 months    10334\n",
              "Name: term, dtype: int64"
            ]
          },
          "metadata": {},
          "execution_count": 80
        }
      ]
    },
    {
      "cell_type": "code",
      "source": [
        "loandata['term'] = loandata.term.apply(lambda x:x.split()[0])"
      ],
      "metadata": {
        "id": "n2dJ_mEdEUrW"
      },
      "execution_count": 81,
      "outputs": []
    },
    {
      "cell_type": "code",
      "source": [
        "loandata.term.value_counts()"
      ],
      "metadata": {
        "colab": {
          "base_uri": "https://localhost:8080/"
        },
        "id": "hcCmSF_XEhC5",
        "outputId": "6ada347d-f44c-4772-f150-2f861ff011c2"
      },
      "execution_count": 82,
      "outputs": [
        {
          "output_type": "execute_result",
          "data": {
            "text/plain": [
              "36    27492\n",
              "60    10334\n",
              "Name: term, dtype: int64"
            ]
          },
          "metadata": {},
          "execution_count": 82
        }
      ]
    },
    {
      "cell_type": "code",
      "source": [
        "loandata['int_rate'] = loandata['int_rate'].str.strip('%').astype('float')\n",
        "# also applying this to revol_util since it's similar column\n",
        "loandata['revol_util'] = loandata['revol_util'].str.strip('%').astype('float')"
      ],
      "metadata": {
        "id": "hmKhKk8mE4lf"
      },
      "execution_count": 83,
      "outputs": []
    },
    {
      "cell_type": "markdown",
      "source": [
        "Now let's refocus on our month columns. It has two useful pieces of info - month and year. We will create derived columns from issue_d. Other month columns aren't as useful to be split up."
      ],
      "metadata": {
        "id": "um5v0zbDFh2V"
      }
    },
    {
      "cell_type": "code",
      "source": [
        "loandata['issue_d_mon'] = loandata['issue_d'].dt.month\n",
        "loandata['issue_d_year'] = loandata['issue_d'].dt.year"
      ],
      "metadata": {
        "id": "Uww3zk09F_L0"
      },
      "execution_count": 84,
      "outputs": []
    },
    {
      "cell_type": "code",
      "source": [
        "loandata.head()"
      ],
      "metadata": {
        "colab": {
          "base_uri": "https://localhost:8080/",
          "height": 370
        },
        "id": "0VG5vnStGQvc",
        "outputId": "0a2e917a-bf7f-4181-a01c-19b5ca8d1555"
      },
      "execution_count": 85,
      "outputs": [
        {
          "output_type": "execute_result",
          "data": {
            "text/html": [
              "\n",
              "  <div id=\"df-41578399-cf20-412b-be06-57650f018af2\">\n",
              "    <div class=\"colab-df-container\">\n",
              "      <div>\n",
              "<style scoped>\n",
              "    .dataframe tbody tr th:only-of-type {\n",
              "        vertical-align: middle;\n",
              "    }\n",
              "\n",
              "    .dataframe tbody tr th {\n",
              "        vertical-align: top;\n",
              "    }\n",
              "\n",
              "    .dataframe thead th {\n",
              "        text-align: right;\n",
              "    }\n",
              "</style>\n",
              "<table border=\"1\" class=\"dataframe\">\n",
              "  <thead>\n",
              "    <tr style=\"text-align: right;\">\n",
              "      <th></th>\n",
              "      <th>id</th>\n",
              "      <th>loan_amnt</th>\n",
              "      <th>funded_amnt</th>\n",
              "      <th>funded_amnt_inv</th>\n",
              "      <th>term</th>\n",
              "      <th>int_rate</th>\n",
              "      <th>installment</th>\n",
              "      <th>grade</th>\n",
              "      <th>sub_grade</th>\n",
              "      <th>emp_length</th>\n",
              "      <th>home_ownership</th>\n",
              "      <th>annual_inc</th>\n",
              "      <th>verification_status</th>\n",
              "      <th>issue_d</th>\n",
              "      <th>loan_status</th>\n",
              "      <th>purpose</th>\n",
              "      <th>title</th>\n",
              "      <th>zip_code</th>\n",
              "      <th>addr_state</th>\n",
              "      <th>dti</th>\n",
              "      <th>delinq_2yrs</th>\n",
              "      <th>earliest_cr_line</th>\n",
              "      <th>inq_last_6mths</th>\n",
              "      <th>open_acc</th>\n",
              "      <th>pub_rec</th>\n",
              "      <th>revol_bal</th>\n",
              "      <th>revol_util</th>\n",
              "      <th>total_acc</th>\n",
              "      <th>out_prncp</th>\n",
              "      <th>out_prncp_inv</th>\n",
              "      <th>total_pymnt</th>\n",
              "      <th>total_pymnt_inv</th>\n",
              "      <th>total_rec_prncp</th>\n",
              "      <th>total_rec_int</th>\n",
              "      <th>total_rec_late_fee</th>\n",
              "      <th>recoveries</th>\n",
              "      <th>collection_recovery_fee</th>\n",
              "      <th>last_pymnt_d</th>\n",
              "      <th>last_pymnt_amnt</th>\n",
              "      <th>last_credit_pull_d</th>\n",
              "      <th>pub_rec_bankruptcies</th>\n",
              "      <th>issue_d_mon</th>\n",
              "      <th>issue_d_year</th>\n",
              "    </tr>\n",
              "  </thead>\n",
              "  <tbody>\n",
              "    <tr>\n",
              "      <th>0</th>\n",
              "      <td>1077501</td>\n",
              "      <td>5000</td>\n",
              "      <td>5000</td>\n",
              "      <td>4975.0</td>\n",
              "      <td>36</td>\n",
              "      <td>10.65</td>\n",
              "      <td>162.87</td>\n",
              "      <td>B</td>\n",
              "      <td>B2</td>\n",
              "      <td>10+ years</td>\n",
              "      <td>RENT</td>\n",
              "      <td>24000.0</td>\n",
              "      <td>Verified</td>\n",
              "      <td>2011-12-01</td>\n",
              "      <td>Fully Paid</td>\n",
              "      <td>credit_card</td>\n",
              "      <td>Computer</td>\n",
              "      <td>860xx</td>\n",
              "      <td>AZ</td>\n",
              "      <td>27.65</td>\n",
              "      <td>0</td>\n",
              "      <td>1985-01-01</td>\n",
              "      <td>1</td>\n",
              "      <td>3</td>\n",
              "      <td>0</td>\n",
              "      <td>13648</td>\n",
              "      <td>83.7</td>\n",
              "      <td>9</td>\n",
              "      <td>0.00</td>\n",
              "      <td>0.00</td>\n",
              "      <td>5863.16</td>\n",
              "      <td>5833.84</td>\n",
              "      <td>5000.00</td>\n",
              "      <td>863.16</td>\n",
              "      <td>0.00</td>\n",
              "      <td>0.00</td>\n",
              "      <td>0.00</td>\n",
              "      <td>2015-01-01</td>\n",
              "      <td>171.62</td>\n",
              "      <td>2016-05-01</td>\n",
              "      <td>0.0</td>\n",
              "      <td>12</td>\n",
              "      <td>2011</td>\n",
              "    </tr>\n",
              "    <tr>\n",
              "      <th>1</th>\n",
              "      <td>1077430</td>\n",
              "      <td>2500</td>\n",
              "      <td>2500</td>\n",
              "      <td>2500.0</td>\n",
              "      <td>60</td>\n",
              "      <td>15.27</td>\n",
              "      <td>59.83</td>\n",
              "      <td>C</td>\n",
              "      <td>C4</td>\n",
              "      <td>&lt; 1 year</td>\n",
              "      <td>RENT</td>\n",
              "      <td>30000.0</td>\n",
              "      <td>Source Verified</td>\n",
              "      <td>2011-12-01</td>\n",
              "      <td>Charged Off</td>\n",
              "      <td>car</td>\n",
              "      <td>bike</td>\n",
              "      <td>309xx</td>\n",
              "      <td>GA</td>\n",
              "      <td>1.00</td>\n",
              "      <td>0</td>\n",
              "      <td>1999-04-01</td>\n",
              "      <td>5</td>\n",
              "      <td>3</td>\n",
              "      <td>0</td>\n",
              "      <td>1687</td>\n",
              "      <td>9.4</td>\n",
              "      <td>4</td>\n",
              "      <td>0.00</td>\n",
              "      <td>0.00</td>\n",
              "      <td>1008.71</td>\n",
              "      <td>1008.71</td>\n",
              "      <td>456.46</td>\n",
              "      <td>435.17</td>\n",
              "      <td>0.00</td>\n",
              "      <td>117.08</td>\n",
              "      <td>1.11</td>\n",
              "      <td>2013-04-01</td>\n",
              "      <td>119.66</td>\n",
              "      <td>2013-09-01</td>\n",
              "      <td>0.0</td>\n",
              "      <td>12</td>\n",
              "      <td>2011</td>\n",
              "    </tr>\n",
              "    <tr>\n",
              "      <th>2</th>\n",
              "      <td>1077175</td>\n",
              "      <td>2400</td>\n",
              "      <td>2400</td>\n",
              "      <td>2400.0</td>\n",
              "      <td>36</td>\n",
              "      <td>15.96</td>\n",
              "      <td>84.33</td>\n",
              "      <td>C</td>\n",
              "      <td>C5</td>\n",
              "      <td>10+ years</td>\n",
              "      <td>RENT</td>\n",
              "      <td>12252.0</td>\n",
              "      <td>Not Verified</td>\n",
              "      <td>2011-12-01</td>\n",
              "      <td>Fully Paid</td>\n",
              "      <td>small_business</td>\n",
              "      <td>real estate business</td>\n",
              "      <td>606xx</td>\n",
              "      <td>IL</td>\n",
              "      <td>8.72</td>\n",
              "      <td>0</td>\n",
              "      <td>2001-11-01</td>\n",
              "      <td>2</td>\n",
              "      <td>2</td>\n",
              "      <td>0</td>\n",
              "      <td>2956</td>\n",
              "      <td>98.5</td>\n",
              "      <td>10</td>\n",
              "      <td>0.00</td>\n",
              "      <td>0.00</td>\n",
              "      <td>3005.67</td>\n",
              "      <td>3005.67</td>\n",
              "      <td>2400.00</td>\n",
              "      <td>605.67</td>\n",
              "      <td>0.00</td>\n",
              "      <td>0.00</td>\n",
              "      <td>0.00</td>\n",
              "      <td>2014-06-01</td>\n",
              "      <td>649.91</td>\n",
              "      <td>2016-05-01</td>\n",
              "      <td>0.0</td>\n",
              "      <td>12</td>\n",
              "      <td>2011</td>\n",
              "    </tr>\n",
              "    <tr>\n",
              "      <th>3</th>\n",
              "      <td>1076863</td>\n",
              "      <td>10000</td>\n",
              "      <td>10000</td>\n",
              "      <td>10000.0</td>\n",
              "      <td>36</td>\n",
              "      <td>13.49</td>\n",
              "      <td>339.31</td>\n",
              "      <td>C</td>\n",
              "      <td>C1</td>\n",
              "      <td>10+ years</td>\n",
              "      <td>RENT</td>\n",
              "      <td>49200.0</td>\n",
              "      <td>Source Verified</td>\n",
              "      <td>2011-12-01</td>\n",
              "      <td>Fully Paid</td>\n",
              "      <td>other</td>\n",
              "      <td>personel</td>\n",
              "      <td>917xx</td>\n",
              "      <td>CA</td>\n",
              "      <td>20.00</td>\n",
              "      <td>0</td>\n",
              "      <td>1996-02-01</td>\n",
              "      <td>1</td>\n",
              "      <td>10</td>\n",
              "      <td>0</td>\n",
              "      <td>5598</td>\n",
              "      <td>21.0</td>\n",
              "      <td>37</td>\n",
              "      <td>0.00</td>\n",
              "      <td>0.00</td>\n",
              "      <td>12231.89</td>\n",
              "      <td>12231.89</td>\n",
              "      <td>10000.00</td>\n",
              "      <td>2214.92</td>\n",
              "      <td>16.97</td>\n",
              "      <td>0.00</td>\n",
              "      <td>0.00</td>\n",
              "      <td>2015-01-01</td>\n",
              "      <td>357.48</td>\n",
              "      <td>2016-04-01</td>\n",
              "      <td>0.0</td>\n",
              "      <td>12</td>\n",
              "      <td>2011</td>\n",
              "    </tr>\n",
              "    <tr>\n",
              "      <th>4</th>\n",
              "      <td>1075358</td>\n",
              "      <td>3000</td>\n",
              "      <td>3000</td>\n",
              "      <td>3000.0</td>\n",
              "      <td>60</td>\n",
              "      <td>12.69</td>\n",
              "      <td>67.79</td>\n",
              "      <td>B</td>\n",
              "      <td>B5</td>\n",
              "      <td>1 year</td>\n",
              "      <td>RENT</td>\n",
              "      <td>80000.0</td>\n",
              "      <td>Source Verified</td>\n",
              "      <td>2011-12-01</td>\n",
              "      <td>Current</td>\n",
              "      <td>other</td>\n",
              "      <td>Personal</td>\n",
              "      <td>972xx</td>\n",
              "      <td>OR</td>\n",
              "      <td>17.94</td>\n",
              "      <td>0</td>\n",
              "      <td>1996-01-01</td>\n",
              "      <td>0</td>\n",
              "      <td>15</td>\n",
              "      <td>0</td>\n",
              "      <td>27783</td>\n",
              "      <td>53.9</td>\n",
              "      <td>38</td>\n",
              "      <td>524.06</td>\n",
              "      <td>524.06</td>\n",
              "      <td>3513.33</td>\n",
              "      <td>3513.33</td>\n",
              "      <td>2475.94</td>\n",
              "      <td>1037.39</td>\n",
              "      <td>0.00</td>\n",
              "      <td>0.00</td>\n",
              "      <td>0.00</td>\n",
              "      <td>2016-05-01</td>\n",
              "      <td>67.79</td>\n",
              "      <td>2016-05-01</td>\n",
              "      <td>0.0</td>\n",
              "      <td>12</td>\n",
              "      <td>2011</td>\n",
              "    </tr>\n",
              "  </tbody>\n",
              "</table>\n",
              "</div>\n",
              "      <button class=\"colab-df-convert\" onclick=\"convertToInteractive('df-41578399-cf20-412b-be06-57650f018af2')\"\n",
              "              title=\"Convert this dataframe to an interactive table.\"\n",
              "              style=\"display:none;\">\n",
              "        \n",
              "  <svg xmlns=\"http://www.w3.org/2000/svg\" height=\"24px\"viewBox=\"0 0 24 24\"\n",
              "       width=\"24px\">\n",
              "    <path d=\"M0 0h24v24H0V0z\" fill=\"none\"/>\n",
              "    <path d=\"M18.56 5.44l.94 2.06.94-2.06 2.06-.94-2.06-.94-.94-2.06-.94 2.06-2.06.94zm-11 1L8.5 8.5l.94-2.06 2.06-.94-2.06-.94L8.5 2.5l-.94 2.06-2.06.94zm10 10l.94 2.06.94-2.06 2.06-.94-2.06-.94-.94-2.06-.94 2.06-2.06.94z\"/><path d=\"M17.41 7.96l-1.37-1.37c-.4-.4-.92-.59-1.43-.59-.52 0-1.04.2-1.43.59L10.3 9.45l-7.72 7.72c-.78.78-.78 2.05 0 2.83L4 21.41c.39.39.9.59 1.41.59.51 0 1.02-.2 1.41-.59l7.78-7.78 2.81-2.81c.8-.78.8-2.07 0-2.86zM5.41 20L4 18.59l7.72-7.72 1.47 1.35L5.41 20z\"/>\n",
              "  </svg>\n",
              "      </button>\n",
              "      \n",
              "  <style>\n",
              "    .colab-df-container {\n",
              "      display:flex;\n",
              "      flex-wrap:wrap;\n",
              "      gap: 12px;\n",
              "    }\n",
              "\n",
              "    .colab-df-convert {\n",
              "      background-color: #E8F0FE;\n",
              "      border: none;\n",
              "      border-radius: 50%;\n",
              "      cursor: pointer;\n",
              "      display: none;\n",
              "      fill: #1967D2;\n",
              "      height: 32px;\n",
              "      padding: 0 0 0 0;\n",
              "      width: 32px;\n",
              "    }\n",
              "\n",
              "    .colab-df-convert:hover {\n",
              "      background-color: #E2EBFA;\n",
              "      box-shadow: 0px 1px 2px rgba(60, 64, 67, 0.3), 0px 1px 3px 1px rgba(60, 64, 67, 0.15);\n",
              "      fill: #174EA6;\n",
              "    }\n",
              "\n",
              "    [theme=dark] .colab-df-convert {\n",
              "      background-color: #3B4455;\n",
              "      fill: #D2E3FC;\n",
              "    }\n",
              "\n",
              "    [theme=dark] .colab-df-convert:hover {\n",
              "      background-color: #434B5C;\n",
              "      box-shadow: 0px 1px 3px 1px rgba(0, 0, 0, 0.15);\n",
              "      filter: drop-shadow(0px 1px 2px rgba(0, 0, 0, 0.3));\n",
              "      fill: #FFFFFF;\n",
              "    }\n",
              "  </style>\n",
              "\n",
              "      <script>\n",
              "        const buttonEl =\n",
              "          document.querySelector('#df-41578399-cf20-412b-be06-57650f018af2 button.colab-df-convert');\n",
              "        buttonEl.style.display =\n",
              "          google.colab.kernel.accessAllowed ? 'block' : 'none';\n",
              "\n",
              "        async function convertToInteractive(key) {\n",
              "          const element = document.querySelector('#df-41578399-cf20-412b-be06-57650f018af2');\n",
              "          const dataTable =\n",
              "            await google.colab.kernel.invokeFunction('convertToInteractive',\n",
              "                                                     [key], {});\n",
              "          if (!dataTable) return;\n",
              "\n",
              "          const docLinkHtml = 'Like what you see? Visit the ' +\n",
              "            '<a target=\"_blank\" href=https://colab.research.google.com/notebooks/data_table.ipynb>data table notebook</a>'\n",
              "            + ' to learn more about interactive tables.';\n",
              "          element.innerHTML = '';\n",
              "          dataTable['output_type'] = 'display_data';\n",
              "          await google.colab.output.renderOutput(dataTable, element);\n",
              "          const docLink = document.createElement('div');\n",
              "          docLink.innerHTML = docLinkHtml;\n",
              "          element.appendChild(docLink);\n",
              "        }\n",
              "      </script>\n",
              "    </div>\n",
              "  </div>\n",
              "  "
            ],
            "text/plain": [
              "        id  loan_amnt  funded_amnt  funded_amnt_inv term  int_rate  \\\n",
              "0  1077501       5000         5000           4975.0   36     10.65   \n",
              "1  1077430       2500         2500           2500.0   60     15.27   \n",
              "2  1077175       2400         2400           2400.0   36     15.96   \n",
              "3  1076863      10000        10000          10000.0   36     13.49   \n",
              "4  1075358       3000         3000           3000.0   60     12.69   \n",
              "\n",
              "   installment grade sub_grade emp_length home_ownership  annual_inc  \\\n",
              "0       162.87     B        B2  10+ years           RENT     24000.0   \n",
              "1        59.83     C        C4   < 1 year           RENT     30000.0   \n",
              "2        84.33     C        C5  10+ years           RENT     12252.0   \n",
              "3       339.31     C        C1  10+ years           RENT     49200.0   \n",
              "4        67.79     B        B5     1 year           RENT     80000.0   \n",
              "\n",
              "  verification_status    issue_d  loan_status         purpose  \\\n",
              "0            Verified 2011-12-01   Fully Paid     credit_card   \n",
              "1     Source Verified 2011-12-01  Charged Off             car   \n",
              "2        Not Verified 2011-12-01   Fully Paid  small_business   \n",
              "3     Source Verified 2011-12-01   Fully Paid           other   \n",
              "4     Source Verified 2011-12-01      Current           other   \n",
              "\n",
              "                  title zip_code addr_state    dti  delinq_2yrs  \\\n",
              "0              Computer    860xx         AZ  27.65            0   \n",
              "1                  bike    309xx         GA   1.00            0   \n",
              "2  real estate business    606xx         IL   8.72            0   \n",
              "3              personel    917xx         CA  20.00            0   \n",
              "4              Personal    972xx         OR  17.94            0   \n",
              "\n",
              "  earliest_cr_line  inq_last_6mths  open_acc  pub_rec  revol_bal  revol_util  \\\n",
              "0       1985-01-01               1         3        0      13648        83.7   \n",
              "1       1999-04-01               5         3        0       1687         9.4   \n",
              "2       2001-11-01               2         2        0       2956        98.5   \n",
              "3       1996-02-01               1        10        0       5598        21.0   \n",
              "4       1996-01-01               0        15        0      27783        53.9   \n",
              "\n",
              "   total_acc  out_prncp  out_prncp_inv  total_pymnt  total_pymnt_inv  \\\n",
              "0          9       0.00           0.00      5863.16          5833.84   \n",
              "1          4       0.00           0.00      1008.71          1008.71   \n",
              "2         10       0.00           0.00      3005.67          3005.67   \n",
              "3         37       0.00           0.00     12231.89         12231.89   \n",
              "4         38     524.06         524.06      3513.33          3513.33   \n",
              "\n",
              "   total_rec_prncp  total_rec_int  total_rec_late_fee  recoveries  \\\n",
              "0          5000.00         863.16                0.00        0.00   \n",
              "1           456.46         435.17                0.00      117.08   \n",
              "2          2400.00         605.67                0.00        0.00   \n",
              "3         10000.00        2214.92               16.97        0.00   \n",
              "4          2475.94        1037.39                0.00        0.00   \n",
              "\n",
              "   collection_recovery_fee last_pymnt_d  last_pymnt_amnt last_credit_pull_d  \\\n",
              "0                     0.00   2015-01-01           171.62         2016-05-01   \n",
              "1                     1.11   2013-04-01           119.66         2013-09-01   \n",
              "2                     0.00   2014-06-01           649.91         2016-05-01   \n",
              "3                     0.00   2015-01-01           357.48         2016-04-01   \n",
              "4                     0.00   2016-05-01            67.79         2016-05-01   \n",
              "\n",
              "   pub_rec_bankruptcies  issue_d_mon  issue_d_year  \n",
              "0                   0.0           12          2011  \n",
              "1                   0.0           12          2011  \n",
              "2                   0.0           12          2011  \n",
              "3                   0.0           12          2011  \n",
              "4                   0.0           12          2011  "
            ]
          },
          "metadata": {},
          "execution_count": 85
        }
      ]
    },
    {
      "cell_type": "code",
      "source": [
        "loandata.groupby('issue_d_year').id.count()"
      ],
      "metadata": {
        "colab": {
          "base_uri": "https://localhost:8080/"
        },
        "id": "QXVfn1mNGVo1",
        "outputId": "d1aedef3-1904-4ced-ff7e-88377640dcb8"
      },
      "execution_count": 86,
      "outputs": [
        {
          "output_type": "execute_result",
          "data": {
            "text/plain": [
              "issue_d_year\n",
              "2007        7\n",
              "2008     1104\n",
              "2009     4687\n",
              "2010    11171\n",
              "2011    20857\n",
              "Name: id, dtype: int64"
            ]
          },
          "metadata": {},
          "execution_count": 86
        }
      ]
    },
    {
      "cell_type": "code",
      "source": [
        "loandata.to_csv('/content/drive/My Drive/lendingclub/procsd_loandata.csv', encoding='utf-8', index=False)"
      ],
      "metadata": {
        "id": "srB-qrokGmwK"
      },
      "execution_count": 87,
      "outputs": []
    },
    {
      "cell_type": "markdown",
      "source": [
        "## Analyze Data\n",
        "\n",
        "Now that we have reasonably cleaned data, it is time for us to start analyzing the data we have. \n",
        "We will start with univariate and segmented univariate analysis. "
      ],
      "metadata": {
        "id": "kU1Mvr9PHZVx"
      }
    },
    {
      "cell_type": "code",
      "source": [
        "ploandata = loandata[:]\n",
        "# can also read from earlier loaded file."
      ],
      "metadata": {
        "id": "HMfoWxjoHnju"
      },
      "execution_count": 88,
      "outputs": []
    },
    {
      "cell_type": "markdown",
      "source": [
        "Let's start with basics ... \n",
        "1. How many loans were issued on which year.\n",
        "2. What's the loan status for these loans."
      ],
      "metadata": {
        "id": "jNx4gkXpH4r0"
      }
    },
    {
      "cell_type": "code",
      "source": [
        "ploandata.groupby('issue_d_year').id.count()"
      ],
      "metadata": {
        "colab": {
          "base_uri": "https://localhost:8080/"
        },
        "id": "ahyQCaDCH2kM",
        "outputId": "ac3ca823-51d1-4d11-c3fe-6b8ff6b61764"
      },
      "execution_count": 89,
      "outputs": [
        {
          "output_type": "execute_result",
          "data": {
            "text/plain": [
              "issue_d_year\n",
              "2007        7\n",
              "2008     1104\n",
              "2009     4687\n",
              "2010    11171\n",
              "2011    20857\n",
              "Name: id, dtype: int64"
            ]
          },
          "metadata": {},
          "execution_count": 89
        }
      ]
    },
    {
      "cell_type": "markdown",
      "source": [
        "Progressively, we have increased loan issuance from 2007 to 2011. We have nearly doubled in 2011 (YoY increase) and nearly tripled in 2010 (YoY increase from 2009). "
      ],
      "metadata": {
        "id": "rj5NBkubIS93"
      }
    },
    {
      "cell_type": "code",
      "source": [
        "ploandata.loan_status.value_counts()"
      ],
      "metadata": {
        "colab": {
          "base_uri": "https://localhost:8080/"
        },
        "id": "1En_m4jSIojA",
        "outputId": "8044b343-4380-459a-84b5-4c870f8c6daa"
      },
      "execution_count": 90,
      "outputs": [
        {
          "output_type": "execute_result",
          "data": {
            "text/plain": [
              "Fully Paid     31525\n",
              "Charged Off     5203\n",
              "Current         1098\n",
              "Name: loan_status, dtype: int64"
            ]
          },
          "metadata": {},
          "execution_count": 90
        }
      ]
    },
    {
      "cell_type": "markdown",
      "source": [
        "36728 loans are either fully paid or charged off. About a 1100 loans are current. Current loans are difficult to analyze since their behavior could change one way or the other. We can simplify for now to exclude them from our analysis."
      ],
      "metadata": {
        "id": "OVbs-PWsIxdE"
      }
    },
    {
      "cell_type": "code",
      "source": [
        "ploandata = ploandata[ploandata['loan_status'].isin(['Fully Paid','Charged Off'])]\n",
        "ploandata.shape"
      ],
      "metadata": {
        "colab": {
          "base_uri": "https://localhost:8080/"
        },
        "id": "S6jiQZ81JJHE",
        "outputId": "2c1f84dc-8fb3-4b85-c77e-c5530d832255"
      },
      "execution_count": 91,
      "outputs": [
        {
          "output_type": "execute_result",
          "data": {
            "text/plain": [
              "(36728, 43)"
            ]
          },
          "metadata": {},
          "execution_count": 91
        }
      ]
    },
    {
      "cell_type": "markdown",
      "source": [
        "Let's dive into loan status a little more. "
      ],
      "metadata": {
        "id": "CNJKPetWJ4iq"
      }
    },
    {
      "cell_type": "code",
      "source": [
        "plt.figure(figsize=(7,7))\n",
        "ax = ploandata.groupby('loan_status').id.count().plot.bar()\n",
        "plt.show()"
      ],
      "metadata": {
        "colab": {
          "base_uri": "https://localhost:8080/",
          "height": 505
        },
        "id": "2G_LAtZ5J7zi",
        "outputId": "be6d1654-e403-4539-fb5f-f9303d07cfd0"
      },
      "execution_count": 94,
      "outputs": [
        {
          "output_type": "display_data",
          "data": {
            "image/png": "[encoded data removed]",
            "text/plain": [
              "<Figure size 504x504 with 1 Axes>"
            ]
          },
          "metadata": {}
        }
      ]
    },
    {
      "cell_type": "code",
      "source": [
        "print(\"%.2f\" % (ploandata.loc[ploandata['loan_status'] == 'Charged Off'].id.count() * 100/len(ploandata)))"
      ],
      "metadata": {
        "colab": {
          "base_uri": "https://localhost:8080/"
        },
        "id": "TsWcFolxLLEE",
        "outputId": "ff9b6e04-a268-47d4-d940-0ef0b8c9cf95"
      },
      "execution_count": 95,
      "outputs": [
        {
          "output_type": "stream",
          "name": "stdout",
          "text": [
            "14.17\n"
          ]
        }
      ]
    },
    {
      "cell_type": "markdown",
      "source": [
        "14.2% of loans are written off. These are defaulted loans where recoveries where no longer possible and had to be written off."
      ],
      "metadata": {
        "id": "Adv37VRgLmvn"
      }
    },
    {
      "cell_type": "code",
      "source": [
        "ploandata.describe()"
      ],
      "metadata": {
        "colab": {
          "base_uri": "https://localhost:8080/",
          "height": 361
        },
        "id": "rZ_-ry6FUzJA",
        "outputId": "bff8ec8c-ec67-4e1b-b6dd-067f2a90c46d"
      },
      "execution_count": 96,
      "outputs": [
        {
          "output_type": "execute_result",
          "data": {
            "text/html": [
              "\n",
              "  <div id=\"df-c80d241a-d1ed-4035-a560-5ef67c5588fb\">\n",
              "    <div class=\"colab-df-container\">\n",
              "      <div>\n",
              "<style scoped>\n",
              "    .dataframe tbody tr th:only-of-type {\n",
              "        vertical-align: middle;\n",
              "    }\n",
              "\n",
              "    .dataframe tbody tr th {\n",
              "        vertical-align: top;\n",
              "    }\n",
              "\n",
              "    .dataframe thead th {\n",
              "        text-align: right;\n",
              "    }\n",
              "</style>\n",
              "<table border=\"1\" class=\"dataframe\">\n",
              "  <thead>\n",
              "    <tr style=\"text-align: right;\">\n",
              "      <th></th>\n",
              "      <th>id</th>\n",
              "      <th>loan_amnt</th>\n",
              "      <th>funded_amnt</th>\n",
              "      <th>funded_amnt_inv</th>\n",
              "      <th>int_rate</th>\n",
              "      <th>installment</th>\n",
              "      <th>annual_inc</th>\n",
              "      <th>dti</th>\n",
              "      <th>delinq_2yrs</th>\n",
              "      <th>inq_last_6mths</th>\n",
              "      <th>open_acc</th>\n",
              "      <th>pub_rec</th>\n",
              "      <th>revol_bal</th>\n",
              "      <th>revol_util</th>\n",
              "      <th>total_acc</th>\n",
              "      <th>out_prncp</th>\n",
              "      <th>out_prncp_inv</th>\n",
              "      <th>total_pymnt</th>\n",
              "      <th>total_pymnt_inv</th>\n",
              "      <th>total_rec_prncp</th>\n",
              "      <th>total_rec_int</th>\n",
              "      <th>total_rec_late_fee</th>\n",
              "      <th>recoveries</th>\n",
              "      <th>collection_recovery_fee</th>\n",
              "      <th>last_pymnt_amnt</th>\n",
              "      <th>pub_rec_bankruptcies</th>\n",
              "      <th>issue_d_mon</th>\n",
              "      <th>issue_d_year</th>\n",
              "    </tr>\n",
              "  </thead>\n",
              "  <tbody>\n",
              "    <tr>\n",
              "      <th>count</th>\n",
              "      <td>3.672800e+04</td>\n",
              "      <td>36728.000000</td>\n",
              "      <td>36728.000000</td>\n",
              "      <td>36728.000000</td>\n",
              "      <td>36728.000000</td>\n",
              "      <td>36728.000000</td>\n",
              "      <td>3.672800e+04</td>\n",
              "      <td>36728.000000</td>\n",
              "      <td>36728.000000</td>\n",
              "      <td>36728.000000</td>\n",
              "      <td>36728.000000</td>\n",
              "      <td>36728.00000</td>\n",
              "      <td>36728.000000</td>\n",
              "      <td>36728.000000</td>\n",
              "      <td>36728.0000</td>\n",
              "      <td>36728.0</td>\n",
              "      <td>36728.0</td>\n",
              "      <td>36728.000000</td>\n",
              "      <td>36728.000000</td>\n",
              "      <td>36728.000000</td>\n",
              "      <td>36728.000000</td>\n",
              "      <td>36728.000000</td>\n",
              "      <td>36728.000000</td>\n",
              "      <td>36728.000000</td>\n",
              "      <td>36728.000000</td>\n",
              "      <td>36728.000000</td>\n",
              "      <td>36728.000000</td>\n",
              "      <td>36728.000000</td>\n",
              "    </tr>\n",
              "    <tr>\n",
              "      <th>mean</th>\n",
              "      <td>6.834082e+05</td>\n",
              "      <td>11153.604879</td>\n",
              "      <td>10884.571716</td>\n",
              "      <td>10444.823852</td>\n",
              "      <td>11.979958</td>\n",
              "      <td>325.010043</td>\n",
              "      <td>6.947266e+04</td>\n",
              "      <td>13.337304</td>\n",
              "      <td>0.145992</td>\n",
              "      <td>0.868901</td>\n",
              "      <td>9.305680</td>\n",
              "      <td>0.05410</td>\n",
              "      <td>13386.557749</td>\n",
              "      <td>48.993567</td>\n",
              "      <td>22.1632</td>\n",
              "      <td>0.0</td>\n",
              "      <td>0.0</td>\n",
              "      <td>12020.443951</td>\n",
              "      <td>11544.794033</td>\n",
              "      <td>9766.969162</td>\n",
              "      <td>2154.728227</td>\n",
              "      <td>1.341139</td>\n",
              "      <td>97.405499</td>\n",
              "      <td>12.498923</td>\n",
              "      <td>2800.488227</td>\n",
              "      <td>0.041739</td>\n",
              "      <td>7.157836</td>\n",
              "      <td>2010.349679</td>\n",
              "    </tr>\n",
              "    <tr>\n",
              "      <th>std</th>\n",
              "      <td>2.014251e+05</td>\n",
              "      <td>7368.341242</td>\n",
              "      <td>7107.504810</td>\n",
              "      <td>7008.380075</td>\n",
              "      <td>3.701000</td>\n",
              "      <td>208.851223</td>\n",
              "      <td>6.406891e+04</td>\n",
              "      <td>6.649362</td>\n",
              "      <td>0.491416</td>\n",
              "      <td>1.067644</td>\n",
              "      <td>4.375788</td>\n",
              "      <td>0.23542</td>\n",
              "      <td>15857.237794</td>\n",
              "      <td>28.311869</td>\n",
              "      <td>11.4071</td>\n",
              "      <td>0.0</td>\n",
              "      <td>0.0</td>\n",
              "      <td>8849.525607</td>\n",
              "      <td>8705.688533</td>\n",
              "      <td>7034.297487</td>\n",
              "      <td>2411.916629</td>\n",
              "      <td>7.204977</td>\n",
              "      <td>700.507017</td>\n",
              "      <td>150.309503</td>\n",
              "      <td>4538.055024</td>\n",
              "      <td>0.200675</td>\n",
              "      <td>3.380886</td>\n",
              "      <td>0.815653</td>\n",
              "    </tr>\n",
              "    <tr>\n",
              "      <th>min</th>\n",
              "      <td>5.473400e+04</td>\n",
              "      <td>500.000000</td>\n",
              "      <td>500.000000</td>\n",
              "      <td>0.000000</td>\n",
              "      <td>5.420000</td>\n",
              "      <td>16.080000</td>\n",
              "      <td>4.000000e+03</td>\n",
              "      <td>0.000000</td>\n",
              "      <td>0.000000</td>\n",
              "      <td>0.000000</td>\n",
              "      <td>2.000000</td>\n",
              "      <td>0.00000</td>\n",
              "      <td>0.000000</td>\n",
              "      <td>0.000000</td>\n",
              "      <td>2.0000</td>\n",
              "      <td>0.0</td>\n",
              "      <td>0.0</td>\n",
              "      <td>33.730000</td>\n",
              "      <td>0.000000</td>\n",
              "      <td>0.000000</td>\n",
              "      <td>6.220000</td>\n",
              "      <td>0.000000</td>\n",
              "      <td>0.000000</td>\n",
              "      <td>0.000000</td>\n",
              "      <td>0.010000</td>\n",
              "      <td>0.000000</td>\n",
              "      <td>1.000000</td>\n",
              "      <td>2007.000000</td>\n",
              "    </tr>\n",
              "    <tr>\n",
              "      <th>25%</th>\n",
              "      <td>5.173220e+05</td>\n",
              "      <td>5500.000000</td>\n",
              "      <td>5425.000000</td>\n",
              "      <td>5000.000000</td>\n",
              "      <td>8.940000</td>\n",
              "      <td>167.730000</td>\n",
              "      <td>4.120000e+04</td>\n",
              "      <td>8.220000</td>\n",
              "      <td>0.000000</td>\n",
              "      <td>0.000000</td>\n",
              "      <td>6.000000</td>\n",
              "      <td>0.00000</td>\n",
              "      <td>3735.000000</td>\n",
              "      <td>25.600000</td>\n",
              "      <td>14.0000</td>\n",
              "      <td>0.0</td>\n",
              "      <td>0.0</td>\n",
              "      <td>5590.347500</td>\n",
              "      <td>5292.522500</td>\n",
              "      <td>4639.832500</td>\n",
              "      <td>660.777500</td>\n",
              "      <td>0.000000</td>\n",
              "      <td>0.000000</td>\n",
              "      <td>0.000000</td>\n",
              "      <td>223.597500</td>\n",
              "      <td>0.000000</td>\n",
              "      <td>4.000000</td>\n",
              "      <td>2010.000000</td>\n",
              "    </tr>\n",
              "    <tr>\n",
              "      <th>50%</th>\n",
              "      <td>6.600525e+05</td>\n",
              "      <td>10000.000000</td>\n",
              "      <td>9600.000000</td>\n",
              "      <td>9000.000000</td>\n",
              "      <td>11.830000</td>\n",
              "      <td>280.345000</td>\n",
              "      <td>6.000000e+04</td>\n",
              "      <td>13.430000</td>\n",
              "      <td>0.000000</td>\n",
              "      <td>1.000000</td>\n",
              "      <td>9.000000</td>\n",
              "      <td>0.00000</td>\n",
              "      <td>8881.000000</td>\n",
              "      <td>49.500000</td>\n",
              "      <td>20.0000</td>\n",
              "      <td>0.0</td>\n",
              "      <td>0.0</td>\n",
              "      <td>9833.520000</td>\n",
              "      <td>9375.695000</td>\n",
              "      <td>8000.000000</td>\n",
              "      <td>1328.670000</td>\n",
              "      <td>0.000000</td>\n",
              "      <td>0.000000</td>\n",
              "      <td>0.000000</td>\n",
              "      <td>592.395000</td>\n",
              "      <td>0.000000</td>\n",
              "      <td>7.000000</td>\n",
              "      <td>2011.000000</td>\n",
              "    </tr>\n",
              "    <tr>\n",
              "      <th>75%</th>\n",
              "      <td>8.310992e+05</td>\n",
              "      <td>15000.000000</td>\n",
              "      <td>15000.000000</td>\n",
              "      <td>14355.332500</td>\n",
              "      <td>14.460000</td>\n",
              "      <td>429.450000</td>\n",
              "      <td>8.300000e+04</td>\n",
              "      <td>18.590000</td>\n",
              "      <td>0.000000</td>\n",
              "      <td>1.000000</td>\n",
              "      <td>12.000000</td>\n",
              "      <td>0.00000</td>\n",
              "      <td>17040.000000</td>\n",
              "      <td>72.500000</td>\n",
              "      <td>29.0000</td>\n",
              "      <td>0.0</td>\n",
              "      <td>0.0</td>\n",
              "      <td>16322.595000</td>\n",
              "      <td>15637.482500</td>\n",
              "      <td>13500.000000</td>\n",
              "      <td>2720.620000</td>\n",
              "      <td>0.000000</td>\n",
              "      <td>0.000000</td>\n",
              "      <td>0.000000</td>\n",
              "      <td>3554.677500</td>\n",
              "      <td>0.000000</td>\n",
              "      <td>10.000000</td>\n",
              "      <td>2011.000000</td>\n",
              "    </tr>\n",
              "    <tr>\n",
              "      <th>max</th>\n",
              "      <td>1.077501e+06</td>\n",
              "      <td>35000.000000</td>\n",
              "      <td>35000.000000</td>\n",
              "      <td>35000.000000</td>\n",
              "      <td>24.400000</td>\n",
              "      <td>1305.190000</td>\n",
              "      <td>6.000000e+06</td>\n",
              "      <td>29.990000</td>\n",
              "      <td>11.000000</td>\n",
              "      <td>8.000000</td>\n",
              "      <td>44.000000</td>\n",
              "      <td>4.00000</td>\n",
              "      <td>149588.000000</td>\n",
              "      <td>99.900000</td>\n",
              "      <td>90.0000</td>\n",
              "      <td>0.0</td>\n",
              "      <td>0.0</td>\n",
              "      <td>58563.680000</td>\n",
              "      <td>58563.680000</td>\n",
              "      <td>35000.020000</td>\n",
              "      <td>23563.680000</td>\n",
              "      <td>180.200000</td>\n",
              "      <td>29623.350000</td>\n",
              "      <td>7002.190000</td>\n",
              "      <td>36115.200000</td>\n",
              "      <td>2.000000</td>\n",
              "      <td>12.000000</td>\n",
              "      <td>2011.000000</td>\n",
              "    </tr>\n",
              "  </tbody>\n",
              "</table>\n",
              "</div>\n",
              "      <button class=\"colab-df-convert\" onclick=\"convertToInteractive('df-c80d241a-d1ed-4035-a560-5ef67c5588fb')\"\n",
              "              title=\"Convert this dataframe to an interactive table.\"\n",
              "              style=\"display:none;\">\n",
              "        \n",
              "  <svg xmlns=\"http://www.w3.org/2000/svg\" height=\"24px\"viewBox=\"0 0 24 24\"\n",
              "       width=\"24px\">\n",
              "    <path d=\"M0 0h24v24H0V0z\" fill=\"none\"/>\n",
              "    <path d=\"M18.56 5.44l.94 2.06.94-2.06 2.06-.94-2.06-.94-.94-2.06-.94 2.06-2.06.94zm-11 1L8.5 8.5l.94-2.06 2.06-.94-2.06-.94L8.5 2.5l-.94 2.06-2.06.94zm10 10l.94 2.06.94-2.06 2.06-.94-2.06-.94-.94-2.06-.94 2.06-2.06.94z\"/><path d=\"M17.41 7.96l-1.37-1.37c-.4-.4-.92-.59-1.43-.59-.52 0-1.04.2-1.43.59L10.3 9.45l-7.72 7.72c-.78.78-.78 2.05 0 2.83L4 21.41c.39.39.9.59 1.41.59.51 0 1.02-.2 1.41-.59l7.78-7.78 2.81-2.81c.8-.78.8-2.07 0-2.86zM5.41 20L4 18.59l7.72-7.72 1.47 1.35L5.41 20z\"/>\n",
              "  </svg>\n",
              "      </button>\n",
              "      \n",
              "  <style>\n",
              "    .colab-df-container {\n",
              "      display:flex;\n",
              "      flex-wrap:wrap;\n",
              "      gap: 12px;\n",
              "    }\n",
              "\n",
              "    .colab-df-convert {\n",
              "      background-color: #E8F0FE;\n",
              "      border: none;\n",
              "      border-radius: 50%;\n",
              "      cursor: pointer;\n",
              "      display: none;\n",
              "      fill: #1967D2;\n",
              "      height: 32px;\n",
              "      padding: 0 0 0 0;\n",
              "      width: 32px;\n",
              "    }\n",
              "\n",
              "    .colab-df-convert:hover {\n",
              "      background-color: #E2EBFA;\n",
              "      box-shadow: 0px 1px 2px rgba(60, 64, 67, 0.3), 0px 1px 3px 1px rgba(60, 64, 67, 0.15);\n",
              "      fill: #174EA6;\n",
              "    }\n",
              "\n",
              "    [theme=dark] .colab-df-convert {\n",
              "      background-color: #3B4455;\n",
              "      fill: #D2E3FC;\n",
              "    }\n",
              "\n",
              "    [theme=dark] .colab-df-convert:hover {\n",
              "      background-color: #434B5C;\n",
              "      box-shadow: 0px 1px 3px 1px rgba(0, 0, 0, 0.15);\n",
              "      filter: drop-shadow(0px 1px 2px rgba(0, 0, 0, 0.3));\n",
              "      fill: #FFFFFF;\n",
              "    }\n",
              "  </style>\n",
              "\n",
              "      <script>\n",
              "        const buttonEl =\n",
              "          document.querySelector('#df-c80d241a-d1ed-4035-a560-5ef67c5588fb button.colab-df-convert');\n",
              "        buttonEl.style.display =\n",
              "          google.colab.kernel.accessAllowed ? 'block' : 'none';\n",
              "\n",
              "        async function convertToInteractive(key) {\n",
              "          const element = document.querySelector('#df-c80d241a-d1ed-4035-a560-5ef67c5588fb');\n",
              "          const dataTable =\n",
              "            await google.colab.kernel.invokeFunction('convertToInteractive',\n",
              "                                                     [key], {});\n",
              "          if (!dataTable) return;\n",
              "\n",
              "          const docLinkHtml = 'Like what you see? Visit the ' +\n",
              "            '<a target=\"_blank\" href=https://colab.research.google.com/notebooks/data_table.ipynb>data table notebook</a>'\n",
              "            + ' to learn more about interactive tables.';\n",
              "          element.innerHTML = '';\n",
              "          dataTable['output_type'] = 'display_data';\n",
              "          await google.colab.output.renderOutput(dataTable, element);\n",
              "          const docLink = document.createElement('div');\n",
              "          docLink.innerHTML = docLinkHtml;\n",
              "          element.appendChild(docLink);\n",
              "        }\n",
              "      </script>\n",
              "    </div>\n",
              "  </div>\n",
              "  "
            ],
            "text/plain": [
              "                 id     loan_amnt   funded_amnt  funded_amnt_inv  \\\n",
              "count  3.672800e+04  36728.000000  36728.000000     36728.000000   \n",
              "mean   6.834082e+05  11153.604879  10884.571716     10444.823852   \n",
              "std    2.014251e+05   7368.341242   7107.504810      7008.380075   \n",
              "min    5.473400e+04    500.000000    500.000000         0.000000   \n",
              "25%    5.173220e+05   5500.000000   5425.000000      5000.000000   \n",
              "50%    6.600525e+05  10000.000000   9600.000000      9000.000000   \n",
              "75%    8.310992e+05  15000.000000  15000.000000     14355.332500   \n",
              "max    1.077501e+06  35000.000000  35000.000000     35000.000000   \n",
              "\n",
              "           int_rate   installment    annual_inc           dti   delinq_2yrs  \\\n",
              "count  36728.000000  36728.000000  3.672800e+04  36728.000000  36728.000000   \n",
              "mean      11.979958    325.010043  6.947266e+04     13.337304      0.145992   \n",
              "std        3.701000    208.851223  6.406891e+04      6.649362      0.491416   \n",
              "min        5.420000     16.080000  4.000000e+03      0.000000      0.000000   \n",
              "25%        8.940000    167.730000  4.120000e+04      8.220000      0.000000   \n",
              "50%       11.830000    280.345000  6.000000e+04     13.430000      0.000000   \n",
              "75%       14.460000    429.450000  8.300000e+04     18.590000      0.000000   \n",
              "max       24.400000   1305.190000  6.000000e+06     29.990000     11.000000   \n",
              "\n",
              "       inq_last_6mths      open_acc      pub_rec      revol_bal    revol_util  \\\n",
              "count    36728.000000  36728.000000  36728.00000   36728.000000  36728.000000   \n",
              "mean         0.868901      9.305680      0.05410   13386.557749     48.993567   \n",
              "std          1.067644      4.375788      0.23542   15857.237794     28.311869   \n",
              "min          0.000000      2.000000      0.00000       0.000000      0.000000   \n",
              "25%          0.000000      6.000000      0.00000    3735.000000     25.600000   \n",
              "50%          1.000000      9.000000      0.00000    8881.000000     49.500000   \n",
              "75%          1.000000     12.000000      0.00000   17040.000000     72.500000   \n",
              "max          8.000000     44.000000      4.00000  149588.000000     99.900000   \n",
              "\n",
              "        total_acc  out_prncp  out_prncp_inv   total_pymnt  total_pymnt_inv  \\\n",
              "count  36728.0000    36728.0        36728.0  36728.000000     36728.000000   \n",
              "mean      22.1632        0.0            0.0  12020.443951     11544.794033   \n",
              "std       11.4071        0.0            0.0   8849.525607      8705.688533   \n",
              "min        2.0000        0.0            0.0     33.730000         0.000000   \n",
              "25%       14.0000        0.0            0.0   5590.347500      5292.522500   \n",
              "50%       20.0000        0.0            0.0   9833.520000      9375.695000   \n",
              "75%       29.0000        0.0            0.0  16322.595000     15637.482500   \n",
              "max       90.0000        0.0            0.0  58563.680000     58563.680000   \n",
              "\n",
              "       total_rec_prncp  total_rec_int  total_rec_late_fee    recoveries  \\\n",
              "count     36728.000000   36728.000000        36728.000000  36728.000000   \n",
              "mean       9766.969162    2154.728227            1.341139     97.405499   \n",
              "std        7034.297487    2411.916629            7.204977    700.507017   \n",
              "min           0.000000       6.220000            0.000000      0.000000   \n",
              "25%        4639.832500     660.777500            0.000000      0.000000   \n",
              "50%        8000.000000    1328.670000            0.000000      0.000000   \n",
              "75%       13500.000000    2720.620000            0.000000      0.000000   \n",
              "max       35000.020000   23563.680000          180.200000  29623.350000   \n",
              "\n",
              "       collection_recovery_fee  last_pymnt_amnt  pub_rec_bankruptcies  \\\n",
              "count             36728.000000     36728.000000          36728.000000   \n",
              "mean                 12.498923      2800.488227              0.041739   \n",
              "std                 150.309503      4538.055024              0.200675   \n",
              "min                   0.000000         0.010000              0.000000   \n",
              "25%                   0.000000       223.597500              0.000000   \n",
              "50%                   0.000000       592.395000              0.000000   \n",
              "75%                   0.000000      3554.677500              0.000000   \n",
              "max                7002.190000     36115.200000              2.000000   \n",
              "\n",
              "        issue_d_mon  issue_d_year  \n",
              "count  36728.000000  36728.000000  \n",
              "mean       7.157836   2010.349679  \n",
              "std        3.380886      0.815653  \n",
              "min        1.000000   2007.000000  \n",
              "25%        4.000000   2010.000000  \n",
              "50%        7.000000   2011.000000  \n",
              "75%       10.000000   2011.000000  \n",
              "max       12.000000   2011.000000  "
            ]
          },
          "metadata": {},
          "execution_count": 96
        }
      ]
    },
    {
      "cell_type": "markdown",
      "source": [
        "Let's now look at the loan_amnt applied for. "
      ],
      "metadata": {
        "id": "TeEfVEbSVDPl"
      }
    },
    {
      "cell_type": "code",
      "source": [
        "plt.figure(figsize=[10,7])\n",
        "plt.boxplot(ploandata.loan_amnt)\n",
        "plt.show()"
      ],
      "metadata": {
        "colab": {
          "base_uri": "https://localhost:8080/",
          "height": 431
        },
        "id": "t3_6nhQLVNLh",
        "outputId": "6b611e23-9b71-41c4-aed3-35fd9e25c956"
      },
      "execution_count": 99,
      "outputs": [
        {
          "output_type": "display_data",
          "data": {
            "image/png": "[encoded data removed]",
            "text/plain": [
              "<Figure size 720x504 with 1 Axes>"
            ]
          },
          "metadata": {}
        }
      ]
    },
    {
      "cell_type": "code",
      "source": [
        "ploandata['loan_amnt'].quantile(0.95)"
      ],
      "metadata": {
        "colab": {
          "base_uri": "https://localhost:8080/"
        },
        "id": "CyGyJk_6Vp-e",
        "outputId": "1f6cf228-b02b-4e6a-9942-8a5a3f26e4da"
      },
      "execution_count": 101,
      "outputs": [
        {
          "output_type": "execute_result",
          "data": {
            "text/plain": [
              "25000.0"
            ]
          },
          "metadata": {},
          "execution_count": 101
        }
      ]
    },
    {
      "cell_type": "markdown",
      "source": [
        "95% of the loans are either 25000 or less. The overall range 5500 to 15000. This also clearly shows there are outliers in the data. However these are not to be excluded. Now let's try to see the distribution between loan status and the loan amounts."
      ],
      "metadata": {
        "id": "bgi69xSIL8Sp"
      }
    },
    {
      "cell_type": "code",
      "source": [
        "ploandata.groupby('loan_status')['loan_amnt'].describe()"
      ],
      "metadata": {
        "colab": {
          "base_uri": "https://localhost:8080/",
          "height": 142
        },
        "id": "hWA8_tg5Wc9i",
        "outputId": "32f37579-d2a1-41e0-a94f-49099f18ab5b"
      },
      "execution_count": 103,
      "outputs": [
        {
          "output_type": "execute_result",
          "data": {
            "text/html": [
              "\n",
              "  <div id=\"df-a4ce33b8-5cb4-479e-b8c4-5d61332cca08\">\n",
              "    <div class=\"colab-df-container\">\n",
              "      <div>\n",
              "<style scoped>\n",
              "    .dataframe tbody tr th:only-of-type {\n",
              "        vertical-align: middle;\n",
              "    }\n",
              "\n",
              "    .dataframe tbody tr th {\n",
              "        vertical-align: top;\n",
              "    }\n",
              "\n",
              "    .dataframe thead th {\n",
              "        text-align: right;\n",
              "    }\n",
              "</style>\n",
              "<table border=\"1\" class=\"dataframe\">\n",
              "  <thead>\n",
              "    <tr style=\"text-align: right;\">\n",
              "      <th></th>\n",
              "      <th>count</th>\n",
              "      <th>mean</th>\n",
              "      <th>std</th>\n",
              "      <th>min</th>\n",
              "      <th>25%</th>\n",
              "      <th>50%</th>\n",
              "      <th>75%</th>\n",
              "      <th>max</th>\n",
              "    </tr>\n",
              "    <tr>\n",
              "      <th>loan_status</th>\n",
              "      <th></th>\n",
              "      <th></th>\n",
              "      <th></th>\n",
              "      <th></th>\n",
              "      <th></th>\n",
              "      <th></th>\n",
              "      <th></th>\n",
              "      <th></th>\n",
              "    </tr>\n",
              "  </thead>\n",
              "  <tbody>\n",
              "    <tr>\n",
              "      <th>Charged Off</th>\n",
              "      <td>5203.0</td>\n",
              "      <td>12292.638862</td>\n",
              "      <td>8095.927677</td>\n",
              "      <td>1000.0</td>\n",
              "      <td>6000.0</td>\n",
              "      <td>10000.0</td>\n",
              "      <td>17000.0</td>\n",
              "      <td>35000.0</td>\n",
              "    </tr>\n",
              "    <tr>\n",
              "      <th>Fully Paid</th>\n",
              "      <td>31525.0</td>\n",
              "      <td>10965.614592</td>\n",
              "      <td>7224.125820</td>\n",
              "      <td>500.0</td>\n",
              "      <td>5500.0</td>\n",
              "      <td>9600.0</td>\n",
              "      <td>15000.0</td>\n",
              "      <td>35000.0</td>\n",
              "    </tr>\n",
              "  </tbody>\n",
              "</table>\n",
              "</div>\n",
              "      <button class=\"colab-df-convert\" onclick=\"convertToInteractive('df-a4ce33b8-5cb4-479e-b8c4-5d61332cca08')\"\n",
              "              title=\"Convert this dataframe to an interactive table.\"\n",
              "              style=\"display:none;\">\n",
              "        \n",
              "  <svg xmlns=\"http://www.w3.org/2000/svg\" height=\"24px\"viewBox=\"0 0 24 24\"\n",
              "       width=\"24px\">\n",
              "    <path d=\"M0 0h24v24H0V0z\" fill=\"none\"/>\n",
              "    <path d=\"M18.56 5.44l.94 2.06.94-2.06 2.06-.94-2.06-.94-.94-2.06-.94 2.06-2.06.94zm-11 1L8.5 8.5l.94-2.06 2.06-.94-2.06-.94L8.5 2.5l-.94 2.06-2.06.94zm10 10l.94 2.06.94-2.06 2.06-.94-2.06-.94-.94-2.06-.94 2.06-2.06.94z\"/><path d=\"M17.41 7.96l-1.37-1.37c-.4-.4-.92-.59-1.43-.59-.52 0-1.04.2-1.43.59L10.3 9.45l-7.72 7.72c-.78.78-.78 2.05 0 2.83L4 21.41c.39.39.9.59 1.41.59.51 0 1.02-.2 1.41-.59l7.78-7.78 2.81-2.81c.8-.78.8-2.07 0-2.86zM5.41 20L4 18.59l7.72-7.72 1.47 1.35L5.41 20z\"/>\n",
              "  </svg>\n",
              "      </button>\n",
              "      \n",
              "  <style>\n",
              "    .colab-df-container {\n",
              "      display:flex;\n",
              "      flex-wrap:wrap;\n",
              "      gap: 12px;\n",
              "    }\n",
              "\n",
              "    .colab-df-convert {\n",
              "      background-color: #E8F0FE;\n",
              "      border: none;\n",
              "      border-radius: 50%;\n",
              "      cursor: pointer;\n",
              "      display: none;\n",
              "      fill: #1967D2;\n",
              "      height: 32px;\n",
              "      padding: 0 0 0 0;\n",
              "      width: 32px;\n",
              "    }\n",
              "\n",
              "    .colab-df-convert:hover {\n",
              "      background-color: #E2EBFA;\n",
              "      box-shadow: 0px 1px 2px rgba(60, 64, 67, 0.3), 0px 1px 3px 1px rgba(60, 64, 67, 0.15);\n",
              "      fill: #174EA6;\n",
              "    }\n",
              "\n",
              "    [theme=dark] .colab-df-convert {\n",
              "      background-color: #3B4455;\n",
              "      fill: #D2E3FC;\n",
              "    }\n",
              "\n",
              "    [theme=dark] .colab-df-convert:hover {\n",
              "      background-color: #434B5C;\n",
              "      box-shadow: 0px 1px 3px 1px rgba(0, 0, 0, 0.15);\n",
              "      filter: drop-shadow(0px 1px 2px rgba(0, 0, 0, 0.3));\n",
              "      fill: #FFFFFF;\n",
              "    }\n",
              "  </style>\n",
              "\n",
              "      <script>\n",
              "        const buttonEl =\n",
              "          document.querySelector('#df-a4ce33b8-5cb4-479e-b8c4-5d61332cca08 button.colab-df-convert');\n",
              "        buttonEl.style.display =\n",
              "          google.colab.kernel.accessAllowed ? 'block' : 'none';\n",
              "\n",
              "        async function convertToInteractive(key) {\n",
              "          const element = document.querySelector('#df-a4ce33b8-5cb4-479e-b8c4-5d61332cca08');\n",
              "          const dataTable =\n",
              "            await google.colab.kernel.invokeFunction('convertToInteractive',\n",
              "                                                     [key], {});\n",
              "          if (!dataTable) return;\n",
              "\n",
              "          const docLinkHtml = 'Like what you see? Visit the ' +\n",
              "            '<a target=\"_blank\" href=https://colab.research.google.com/notebooks/data_table.ipynb>data table notebook</a>'\n",
              "            + ' to learn more about interactive tables.';\n",
              "          element.innerHTML = '';\n",
              "          dataTable['output_type'] = 'display_data';\n",
              "          await google.colab.output.renderOutput(dataTable, element);\n",
              "          const docLink = document.createElement('div');\n",
              "          docLink.innerHTML = docLinkHtml;\n",
              "          element.appendChild(docLink);\n",
              "        }\n",
              "      </script>\n",
              "    </div>\n",
              "  </div>\n",
              "  "
            ],
            "text/plain": [
              "               count          mean          std     min     25%      50%  \\\n",
              "loan_status                                                                \n",
              "Charged Off   5203.0  12292.638862  8095.927677  1000.0  6000.0  10000.0   \n",
              "Fully Paid   31525.0  10965.614592  7224.125820   500.0  5500.0   9600.0   \n",
              "\n",
              "                 75%      max  \n",
              "loan_status                    \n",
              "Charged Off  17000.0  35000.0  \n",
              "Fully Paid   15000.0  35000.0  "
            ]
          },
          "metadata": {},
          "execution_count": 103
        }
      ]
    },
    {
      "cell_type": "code",
      "source": [
        "plt.figure(figsize=[20,7])\n",
        "plt.subplot(1,2,1)\n",
        "ax = sns.distplot(ploandata['loan_amnt'])\n",
        "plt.show"
      ],
      "metadata": {
        "colab": {
          "base_uri": "https://localhost:8080/",
          "height": 519
        },
        "id": "1_o90pgfW0aM",
        "outputId": "6f4317c9-97a6-4202-b924-542697048129"
      },
      "execution_count": 105,
      "outputs": [
        {
          "output_type": "stream",
          "name": "stderr",
          "text": [
            "/usr/local/lib/python3.7/dist-packages/seaborn/distributions.py:2619: FutureWarning: `distplot` is a deprecated function and will be removed in a future version. Please adapt your code to use either `displot` (a figure-level function with similar flexibility) or `histplot` (an axes-level function for histograms).\n",
            "  warnings.warn(msg, FutureWarning)\n"
          ]
        },
        {
          "output_type": "execute_result",
          "data": {
            "text/plain": [
              "<function matplotlib.pyplot.show>"
            ]
          },
          "metadata": {},
          "execution_count": 105
        },
        {
          "output_type": "display_data",
          "data": {
            "image/png": "[encoded data removed]",
            "text/plain": [
              "<Figure size 1440x504 with 1 Axes>"
            ]
          },
          "metadata": {}
        }
      ]
    },
    {
      "cell_type": "markdown",
      "source": [
        "This clearly shows a higher volume of loans in the 5000-10000 category. \n",
        "Let's now proceed to look at some of the categorical variables available for us to analyze."
      ],
      "metadata": {
        "id": "xEfY3XGDXzil"
      }
    },
    {
      "cell_type": "code",
      "source": [
        "plt.figure(figsize=(7,7))\n",
        "ax = ploandata.groupby('term').id.count().plot.bar()\n",
        "plt.show()"
      ],
      "metadata": {
        "colab": {
          "base_uri": "https://localhost:8080/",
          "height": 452
        },
        "id": "G-sCS9dOeUDZ",
        "outputId": "d2886419-a705-409b-86e3-6f01f304c17b"
      },
      "execution_count": 106,
      "outputs": [
        {
          "output_type": "display_data",
          "data": {
            "image/png": "[encoded data removed]",
            "text/plain": [
              "<Figure size 504x504 with 1 Axes>"
            ]
          },
          "metadata": {}
        }
      ]
    },
    {
      "cell_type": "code",
      "source": [
        "plt.figure(figsize=(7,7))\n",
        "ax = ploandata.groupby('home_ownership').id.count().plot.bar()\n",
        "plt.show()"
      ],
      "metadata": {
        "colab": {
          "base_uri": "https://localhost:8080/",
          "height": 501
        },
        "id": "cMDMUFKweflc",
        "outputId": "d3aea156-eff9-4346-95f4-d858a73d23fc"
      },
      "execution_count": 107,
      "outputs": [
        {
          "output_type": "display_data",
          "data": {
            "image/png": "[encoded data removed]",
            "text/plain": [
              "<Figure size 504x504 with 1 Axes>"
            ]
          },
          "metadata": {}
        }
      ]
    },
    {
      "cell_type": "code",
      "source": [
        "plt.figure(figsize=(15,7))\n",
        "ax = ploandata.groupby('purpose').id.count().plot.bar()\n",
        "plt.show()"
      ],
      "metadata": {
        "colab": {
          "base_uri": "https://localhost:8080/",
          "height": 549
        },
        "id": "1JZj8RgHek_d",
        "outputId": "3cfac367-dc79-4d5b-ca43-72694c72bb48"
      },
      "execution_count": 110,
      "outputs": [
        {
          "output_type": "display_data",
          "data": {
            "image/png": "[encoded data removed]",
            "text/plain": [
              "<Figure size 1080x504 with 1 Axes>"
            ]
          },
          "metadata": {}
        }
      ]
    },
    {
      "cell_type": "code",
      "source": [
        "plt.figure(figsize=(7,7))\n",
        "ax = ploandata.groupby('grade').id.count().plot.bar()\n",
        "plt.show()"
      ],
      "metadata": {
        "colab": {
          "base_uri": "https://localhost:8080/",
          "height": 446
        },
        "id": "CWPmCsz2eu9u",
        "outputId": "06367d43-cef8-436d-cac6-3ff25f21c289"
      },
      "execution_count": 111,
      "outputs": [
        {
          "output_type": "display_data",
          "data": {
            "image/png": "[encoded data removed]",
            "text/plain": [
              "<Figure size 504x504 with 1 Axes>"
            ]
          },
          "metadata": {}
        }
      ]
    },
    {
      "cell_type": "markdown",
      "source": [
        "**Data Observations**\n",
        "\n",
        "1. Higher proportion of 36 months loan term. \n",
        "2. Higher proportion of loans with higher grades (A, B) \n",
        "3. Higher proportion of loans for debt-consolidation purpose. Which in itself might be less favorable. Loan borrowers with debt consolidation reason usually shop around for lower interest rates. (Domain based insight)."
      ],
      "metadata": {
        "id": "CQX66Y_ceym1"
      }
    },
    {
      "cell_type": "markdown",
      "source": [
        "Now let's look at the interest rates and how they trend."
      ],
      "metadata": {
        "id": "cPml8sY1gIxa"
      }
    },
    {
      "cell_type": "code",
      "source": [
        "plt.figure(figsize=[20,7])\n",
        "plt.subplot(1,2,1)\n",
        "ax = sns.distplot(ploandata['int_rate'])\n",
        "plt.show"
      ],
      "metadata": {
        "colab": {
          "base_uri": "https://localhost:8080/",
          "height": 519
        },
        "id": "Oz5mwc7Gf8rH",
        "outputId": "47781e31-e3a0-4248-e8f3-6d0b211a0edc"
      },
      "execution_count": 112,
      "outputs": [
        {
          "output_type": "stream",
          "name": "stderr",
          "text": [
            "/usr/local/lib/python3.7/dist-packages/seaborn/distributions.py:2619: FutureWarning: `distplot` is a deprecated function and will be removed in a future version. Please adapt your code to use either `displot` (a figure-level function with similar flexibility) or `histplot` (an axes-level function for histograms).\n",
            "  warnings.warn(msg, FutureWarning)\n"
          ]
        },
        {
          "output_type": "execute_result",
          "data": {
            "text/plain": [
              "<function matplotlib.pyplot.show>"
            ]
          },
          "metadata": {},
          "execution_count": 112
        },
        {
          "output_type": "display_data",
          "data": {
            "image/png": "[encoded data removed]",
            "text/plain": [
              "<Figure size 1440x504 with 1 Axes>"
            ]
          },
          "metadata": {}
        }
      ]
    },
    {
      "cell_type": "code",
      "source": [
        "ploandata.int_rate.describe()"
      ],
      "metadata": {
        "colab": {
          "base_uri": "https://localhost:8080/"
        },
        "id": "MBZasP8IgWuV",
        "outputId": "616adab8-3211-4fda-eb0f-10cd84938ab0"
      },
      "execution_count": 113,
      "outputs": [
        {
          "output_type": "execute_result",
          "data": {
            "text/plain": [
              "count    36728.000000\n",
              "mean        11.979958\n",
              "std          3.701000\n",
              "min          5.420000\n",
              "25%          8.940000\n",
              "50%         11.830000\n",
              "75%         14.460000\n",
              "max         24.400000\n",
              "Name: int_rate, dtype: float64"
            ]
          },
          "metadata": {},
          "execution_count": 113
        }
      ]
    },
    {
      "cell_type": "code",
      "source": [
        "ploandata['int_rate'].quantile(0.95)"
      ],
      "metadata": {
        "colab": {
          "base_uri": "https://localhost:8080/"
        },
        "id": "bM1Yd5P1gpOa",
        "outputId": "ca066107-c2b0-4512-a0f8-e93ff7a8dbab"
      },
      "execution_count": 114,
      "outputs": [
        {
          "output_type": "execute_result",
          "data": {
            "text/plain": [
              "18.39"
            ]
          },
          "metadata": {},
          "execution_count": 114
        }
      ]
    },
    {
      "cell_type": "markdown",
      "source": [
        "95% of the loans were issued with interest rate ~18.4% or below. Varied range between 9% to 14.5% given to most of the loans. "
      ],
      "metadata": {
        "id": "1_F4mdyYgeZe"
      }
    },
    {
      "cell_type": "code",
      "source": [
        "ploandata.groupby('loan_status')['int_rate'].describe()"
      ],
      "metadata": {
        "colab": {
          "base_uri": "https://localhost:8080/",
          "height": 142
        },
        "id": "jJ-W-pwuhIZk",
        "outputId": "5d611a5d-902c-4a17-84a7-abbd0d1a70d1"
      },
      "execution_count": 115,
      "outputs": [
        {
          "output_type": "execute_result",
          "data": {
            "text/html": [
              "\n",
              "  <div id=\"df-604ea91f-62eb-458e-a72a-e2fccfa7bba1\">\n",
              "    <div class=\"colab-df-container\">\n",
              "      <div>\n",
              "<style scoped>\n",
              "    .dataframe tbody tr th:only-of-type {\n",
              "        vertical-align: middle;\n",
              "    }\n",
              "\n",
              "    .dataframe tbody tr th {\n",
              "        vertical-align: top;\n",
              "    }\n",
              "\n",
              "    .dataframe thead th {\n",
              "        text-align: right;\n",
              "    }\n",
              "</style>\n",
              "<table border=\"1\" class=\"dataframe\">\n",
              "  <thead>\n",
              "    <tr style=\"text-align: right;\">\n",
              "      <th></th>\n",
              "      <th>count</th>\n",
              "      <th>mean</th>\n",
              "      <th>std</th>\n",
              "      <th>min</th>\n",
              "      <th>25%</th>\n",
              "      <th>50%</th>\n",
              "      <th>75%</th>\n",
              "      <th>max</th>\n",
              "    </tr>\n",
              "    <tr>\n",
              "      <th>loan_status</th>\n",
              "      <th></th>\n",
              "      <th></th>\n",
              "      <th></th>\n",
              "      <th></th>\n",
              "      <th></th>\n",
              "      <th></th>\n",
              "      <th></th>\n",
              "      <th></th>\n",
              "    </tr>\n",
              "  </thead>\n",
              "  <tbody>\n",
              "    <tr>\n",
              "      <th>Charged Off</th>\n",
              "      <td>5203.0</td>\n",
              "      <td>13.924515</td>\n",
              "      <td>3.656735</td>\n",
              "      <td>5.42</td>\n",
              "      <td>11.49</td>\n",
              "      <td>13.79</td>\n",
              "      <td>16.45</td>\n",
              "      <td>24.40</td>\n",
              "    </tr>\n",
              "    <tr>\n",
              "      <th>Fully Paid</th>\n",
              "      <td>31525.0</td>\n",
              "      <td>11.659022</td>\n",
              "      <td>3.608944</td>\n",
              "      <td>5.42</td>\n",
              "      <td>8.59</td>\n",
              "      <td>11.49</td>\n",
              "      <td>13.99</td>\n",
              "      <td>24.11</td>\n",
              "    </tr>\n",
              "  </tbody>\n",
              "</table>\n",
              "</div>\n",
              "      <button class=\"colab-df-convert\" onclick=\"convertToInteractive('df-604ea91f-62eb-458e-a72a-e2fccfa7bba1')\"\n",
              "              title=\"Convert this dataframe to an interactive table.\"\n",
              "              style=\"display:none;\">\n",
              "        \n",
              "  <svg xmlns=\"http://www.w3.org/2000/svg\" height=\"24px\"viewBox=\"0 0 24 24\"\n",
              "       width=\"24px\">\n",
              "    <path d=\"M0 0h24v24H0V0z\" fill=\"none\"/>\n",
              "    <path d=\"M18.56 5.44l.94 2.06.94-2.06 2.06-.94-2.06-.94-.94-2.06-.94 2.06-2.06.94zm-11 1L8.5 8.5l.94-2.06 2.06-.94-2.06-.94L8.5 2.5l-.94 2.06-2.06.94zm10 10l.94 2.06.94-2.06 2.06-.94-2.06-.94-.94-2.06-.94 2.06-2.06.94z\"/><path d=\"M17.41 7.96l-1.37-1.37c-.4-.4-.92-.59-1.43-.59-.52 0-1.04.2-1.43.59L10.3 9.45l-7.72 7.72c-.78.78-.78 2.05 0 2.83L4 21.41c.39.39.9.59 1.41.59.51 0 1.02-.2 1.41-.59l7.78-7.78 2.81-2.81c.8-.78.8-2.07 0-2.86zM5.41 20L4 18.59l7.72-7.72 1.47 1.35L5.41 20z\"/>\n",
              "  </svg>\n",
              "      </button>\n",
              "      \n",
              "  <style>\n",
              "    .colab-df-container {\n",
              "      display:flex;\n",
              "      flex-wrap:wrap;\n",
              "      gap: 12px;\n",
              "    }\n",
              "\n",
              "    .colab-df-convert {\n",
              "      background-color: #E8F0FE;\n",
              "      border: none;\n",
              "      border-radius: 50%;\n",
              "      cursor: pointer;\n",
              "      display: none;\n",
              "      fill: #1967D2;\n",
              "      height: 32px;\n",
              "      padding: 0 0 0 0;\n",
              "      width: 32px;\n",
              "    }\n",
              "\n",
              "    .colab-df-convert:hover {\n",
              "      background-color: #E2EBFA;\n",
              "      box-shadow: 0px 1px 2px rgba(60, 64, 67, 0.3), 0px 1px 3px 1px rgba(60, 64, 67, 0.15);\n",
              "      fill: #174EA6;\n",
              "    }\n",
              "\n",
              "    [theme=dark] .colab-df-convert {\n",
              "      background-color: #3B4455;\n",
              "      fill: #D2E3FC;\n",
              "    }\n",
              "\n",
              "    [theme=dark] .colab-df-convert:hover {\n",
              "      background-color: #434B5C;\n",
              "      box-shadow: 0px 1px 3px 1px rgba(0, 0, 0, 0.15);\n",
              "      filter: drop-shadow(0px 1px 2px rgba(0, 0, 0, 0.3));\n",
              "      fill: #FFFFFF;\n",
              "    }\n",
              "  </style>\n",
              "\n",
              "      <script>\n",
              "        const buttonEl =\n",
              "          document.querySelector('#df-604ea91f-62eb-458e-a72a-e2fccfa7bba1 button.colab-df-convert');\n",
              "        buttonEl.style.display =\n",
              "          google.colab.kernel.accessAllowed ? 'block' : 'none';\n",
              "\n",
              "        async function convertToInteractive(key) {\n",
              "          const element = document.querySelector('#df-604ea91f-62eb-458e-a72a-e2fccfa7bba1');\n",
              "          const dataTable =\n",
              "            await google.colab.kernel.invokeFunction('convertToInteractive',\n",
              "                                                     [key], {});\n",
              "          if (!dataTable) return;\n",
              "\n",
              "          const docLinkHtml = 'Like what you see? Visit the ' +\n",
              "            '<a target=\"_blank\" href=https://colab.research.google.com/notebooks/data_table.ipynb>data table notebook</a>'\n",
              "            + ' to learn more about interactive tables.';\n",
              "          element.innerHTML = '';\n",
              "          dataTable['output_type'] = 'display_data';\n",
              "          await google.colab.output.renderOutput(dataTable, element);\n",
              "          const docLink = document.createElement('div');\n",
              "          docLink.innerHTML = docLinkHtml;\n",
              "          element.appendChild(docLink);\n",
              "        }\n",
              "      </script>\n",
              "    </div>\n",
              "  </div>\n",
              "  "
            ],
            "text/plain": [
              "               count       mean       std   min    25%    50%    75%    max\n",
              "loan_status                                                                \n",
              "Charged Off   5203.0  13.924515  3.656735  5.42  11.49  13.79  16.45  24.40\n",
              "Fully Paid   31525.0  11.659022  3.608944  5.42   8.59  11.49  13.99  24.11"
            ]
          },
          "metadata": {},
          "execution_count": 115
        }
      ]
    },
    {
      "cell_type": "markdown",
      "source": [
        "In general, it's safe to say that written off loans were generally assigned higher interest rates than fully paid off loans. Now let's see if the installments had any influence across these two categories."
      ],
      "metadata": {
        "id": "5oCtqiMbhSjP"
      }
    },
    {
      "cell_type": "code",
      "source": [
        "ploandata.groupby('loan_status')['installment'].describe()"
      ],
      "metadata": {
        "colab": {
          "base_uri": "https://localhost:8080/",
          "height": 142
        },
        "id": "4DBCqgbHhfYM",
        "outputId": "0e1681ef-892c-4230-b562-ed8bee999317"
      },
      "execution_count": 116,
      "outputs": [
        {
          "output_type": "execute_result",
          "data": {
            "text/html": [
              "\n",
              "  <div id=\"df-decfe9d7-2eda-4461-8212-66bd48cb47f9\">\n",
              "    <div class=\"colab-df-container\">\n",
              "      <div>\n",
              "<style scoped>\n",
              "    .dataframe tbody tr th:only-of-type {\n",
              "        vertical-align: middle;\n",
              "    }\n",
              "\n",
              "    .dataframe tbody tr th {\n",
              "        vertical-align: top;\n",
              "    }\n",
              "\n",
              "    .dataframe thead th {\n",
              "        text-align: right;\n",
              "    }\n",
              "</style>\n",
              "<table border=\"1\" class=\"dataframe\">\n",
              "  <thead>\n",
              "    <tr style=\"text-align: right;\">\n",
              "      <th></th>\n",
              "      <th>count</th>\n",
              "      <th>mean</th>\n",
              "      <th>std</th>\n",
              "      <th>min</th>\n",
              "      <th>25%</th>\n",
              "      <th>50%</th>\n",
              "      <th>75%</th>\n",
              "      <th>max</th>\n",
              "    </tr>\n",
              "    <tr>\n",
              "      <th>loan_status</th>\n",
              "      <th></th>\n",
              "      <th></th>\n",
              "      <th></th>\n",
              "      <th></th>\n",
              "      <th></th>\n",
              "      <th></th>\n",
              "      <th></th>\n",
              "      <th></th>\n",
              "    </tr>\n",
              "  </thead>\n",
              "  <tbody>\n",
              "    <tr>\n",
              "      <th>Charged Off</th>\n",
              "      <td>5203.0</td>\n",
              "      <td>339.514809</td>\n",
              "      <td>215.843072</td>\n",
              "      <td>22.79</td>\n",
              "      <td>172.375</td>\n",
              "      <td>297.53</td>\n",
              "      <td>460.10</td>\n",
              "      <td>1305.19</td>\n",
              "    </tr>\n",
              "    <tr>\n",
              "      <th>Fully Paid</th>\n",
              "      <td>31525.0</td>\n",
              "      <td>322.616124</td>\n",
              "      <td>207.580732</td>\n",
              "      <td>16.08</td>\n",
              "      <td>167.080</td>\n",
              "      <td>278.17</td>\n",
              "      <td>424.56</td>\n",
              "      <td>1295.21</td>\n",
              "    </tr>\n",
              "  </tbody>\n",
              "</table>\n",
              "</div>\n",
              "      <button class=\"colab-df-convert\" onclick=\"convertToInteractive('df-decfe9d7-2eda-4461-8212-66bd48cb47f9')\"\n",
              "              title=\"Convert this dataframe to an interactive table.\"\n",
              "              style=\"display:none;\">\n",
              "        \n",
              "  <svg xmlns=\"http://www.w3.org/2000/svg\" height=\"24px\"viewBox=\"0 0 24 24\"\n",
              "       width=\"24px\">\n",
              "    <path d=\"M0 0h24v24H0V0z\" fill=\"none\"/>\n",
              "    <path d=\"M18.56 5.44l.94 2.06.94-2.06 2.06-.94-2.06-.94-.94-2.06-.94 2.06-2.06.94zm-11 1L8.5 8.5l.94-2.06 2.06-.94-2.06-.94L8.5 2.5l-.94 2.06-2.06.94zm10 10l.94 2.06.94-2.06 2.06-.94-2.06-.94-.94-2.06-.94 2.06-2.06.94z\"/><path d=\"M17.41 7.96l-1.37-1.37c-.4-.4-.92-.59-1.43-.59-.52 0-1.04.2-1.43.59L10.3 9.45l-7.72 7.72c-.78.78-.78 2.05 0 2.83L4 21.41c.39.39.9.59 1.41.59.51 0 1.02-.2 1.41-.59l7.78-7.78 2.81-2.81c.8-.78.8-2.07 0-2.86zM5.41 20L4 18.59l7.72-7.72 1.47 1.35L5.41 20z\"/>\n",
              "  </svg>\n",
              "      </button>\n",
              "      \n",
              "  <style>\n",
              "    .colab-df-container {\n",
              "      display:flex;\n",
              "      flex-wrap:wrap;\n",
              "      gap: 12px;\n",
              "    }\n",
              "\n",
              "    .colab-df-convert {\n",
              "      background-color: #E8F0FE;\n",
              "      border: none;\n",
              "      border-radius: 50%;\n",
              "      cursor: pointer;\n",
              "      display: none;\n",
              "      fill: #1967D2;\n",
              "      height: 32px;\n",
              "      padding: 0 0 0 0;\n",
              "      width: 32px;\n",
              "    }\n",
              "\n",
              "    .colab-df-convert:hover {\n",
              "      background-color: #E2EBFA;\n",
              "      box-shadow: 0px 1px 2px rgba(60, 64, 67, 0.3), 0px 1px 3px 1px rgba(60, 64, 67, 0.15);\n",
              "      fill: #174EA6;\n",
              "    }\n",
              "\n",
              "    [theme=dark] .colab-df-convert {\n",
              "      background-color: #3B4455;\n",
              "      fill: #D2E3FC;\n",
              "    }\n",
              "\n",
              "    [theme=dark] .colab-df-convert:hover {\n",
              "      background-color: #434B5C;\n",
              "      box-shadow: 0px 1px 3px 1px rgba(0, 0, 0, 0.15);\n",
              "      filter: drop-shadow(0px 1px 2px rgba(0, 0, 0, 0.3));\n",
              "      fill: #FFFFFF;\n",
              "    }\n",
              "  </style>\n",
              "\n",
              "      <script>\n",
              "        const buttonEl =\n",
              "          document.querySelector('#df-decfe9d7-2eda-4461-8212-66bd48cb47f9 button.colab-df-convert');\n",
              "        buttonEl.style.display =\n",
              "          google.colab.kernel.accessAllowed ? 'block' : 'none';\n",
              "\n",
              "        async function convertToInteractive(key) {\n",
              "          const element = document.querySelector('#df-decfe9d7-2eda-4461-8212-66bd48cb47f9');\n",
              "          const dataTable =\n",
              "            await google.colab.kernel.invokeFunction('convertToInteractive',\n",
              "                                                     [key], {});\n",
              "          if (!dataTable) return;\n",
              "\n",
              "          const docLinkHtml = 'Like what you see? Visit the ' +\n",
              "            '<a target=\"_blank\" href=https://colab.research.google.com/notebooks/data_table.ipynb>data table notebook</a>'\n",
              "            + ' to learn more about interactive tables.';\n",
              "          element.innerHTML = '';\n",
              "          dataTable['output_type'] = 'display_data';\n",
              "          await google.colab.output.renderOutput(dataTable, element);\n",
              "          const docLink = document.createElement('div');\n",
              "          docLink.innerHTML = docLinkHtml;\n",
              "          element.appendChild(docLink);\n",
              "        }\n",
              "      </script>\n",
              "    </div>\n",
              "  </div>\n",
              "  "
            ],
            "text/plain": [
              "               count        mean         std    min      25%     50%     75%  \\\n",
              "loan_status                                                                    \n",
              "Charged Off   5203.0  339.514809  215.843072  22.79  172.375  297.53  460.10   \n",
              "Fully Paid   31525.0  322.616124  207.580732  16.08  167.080  278.17  424.56   \n",
              "\n",
              "                 max  \n",
              "loan_status           \n",
              "Charged Off  1305.19  \n",
              "Fully Paid   1295.21  "
            ]
          },
          "metadata": {},
          "execution_count": 116
        }
      ]
    },
    {
      "cell_type": "markdown",
      "source": [
        "It's safe to say that the installment value generally had very limited influence on Charged Off or Fully Paid situation with the loan. The values appear close to draw a correlation from this data."
      ],
      "metadata": {
        "id": "rt8KWatvh47e"
      }
    },
    {
      "cell_type": "markdown",
      "source": [
        "Now let's look at the grading system at Lending Club."
      ],
      "metadata": {
        "id": "o-bptAyPidNE"
      }
    },
    {
      "cell_type": "code",
      "source": [
        "(ploandata.groupby('loan_status')['grade'].value_counts(normalize=True)*100).sort_index()"
      ],
      "metadata": {
        "colab": {
          "base_uri": "https://localhost:8080/"
        },
        "id": "Ks10AwNcicsD",
        "outputId": "b3ad84a3-616a-40c2-853f-e1dc4e046c9a"
      },
      "execution_count": 121,
      "outputs": [
        {
          "output_type": "execute_result",
          "data": {
            "text/plain": [
              "loan_status  grade\n",
              "Charged Off  A        10.493946\n",
              "             B        25.254661\n",
              "             C        23.620988\n",
              "             D        19.911589\n",
              "             E        13.030944\n",
              "             F         5.842783\n",
              "             G         1.845089\n",
              "Fully Paid   A        28.437748\n",
              "             B        31.149881\n",
              "             C        19.736717\n",
              "             D        12.053925\n",
              "             E         5.988898\n",
              "             F         2.011102\n",
              "             G         0.621729\n",
              "Name: grade, dtype: float64"
            ]
          },
          "metadata": {},
          "execution_count": 121
        }
      ]
    },
    {
      "cell_type": "markdown",
      "source": [
        "The grading system seems reasonably normal for the fully paid loans. However, looking at the Charged Off loans, we would normally expect a reverse trend. For a grading system to work properly it has to model both good and bad behavior. There is a bias for good behavior and hence it seems to hold true. Bad behavior modeling is poorly done - otherwise we wouldn't see a higher proportion of charged off loans in categories BCD relative to EAFG. "
      ],
      "metadata": {
        "id": "cSKQFN6hjqR9"
      }
    },
    {
      "cell_type": "markdown",
      "source": [
        "Last thing, let's look at bankruptcies. "
      ],
      "metadata": {
        "id": "tgeC7dJEknop"
      }
    },
    {
      "cell_type": "code",
      "source": [
        "ploandata.groupby('loan_status')['pub_rec_bankruptcies'].value_counts(normalize=True)*100"
      ],
      "metadata": {
        "colab": {
          "base_uri": "https://localhost:8080/"
        },
        "id": "k_emD6WvksjU",
        "outputId": "08387a7f-2a81-42c3-e2c2-6bee34f82cb6"
      },
      "execution_count": 124,
      "outputs": [
        {
          "output_type": "execute_result",
          "data": {
            "text/plain": [
              "loan_status  pub_rec_bankruptcies\n",
              "Charged Off  0.0                     93.638286\n",
              "             1.0                      6.323275\n",
              "             2.0                      0.038439\n",
              "Fully Paid   0.0                     96.203013\n",
              "             1.0                      3.787470\n",
              "             2.0                      0.009516\n",
              "Name: pub_rec_bankruptcies, dtype: float64"
            ]
          },
          "metadata": {},
          "execution_count": 124
        }
      ]
    },
    {
      "cell_type": "markdown",
      "source": [
        "93% of the Charged Off loans had no history of bankruptcy. Only under 7% of the Charged Off loans had any history. So as such they cannot be a sole factor. It can be said that when you have a history of bankruptcy, it's highly likely the loan will be charged off / written off because we see a higher relative proportion (6.3 vs 3.8 and 0.04 vs 0.01) in those cases."
      ],
      "metadata": {
        "id": "tqvpm8nelRV_"
      }
    },
    {
      "cell_type": "markdown",
      "source": [
        "Now let's check if there is seasonality in a year on loan issuance."
      ],
      "metadata": {
        "id": "fcvnu_somUKi"
      }
    },
    {
      "cell_type": "code",
      "source": [
        "plt.figure(figsize=(7,7))\n",
        "ax = ploandata.groupby('issue_d_mon').id.count().plot.bar()\n",
        "plt.show()"
      ],
      "metadata": {
        "colab": {
          "base_uri": "https://localhost:8080/",
          "height": 452
        },
        "id": "W03NACmemc9M",
        "outputId": "b036aeb3-3936-42f7-87b2-c7a6cca02dc4"
      },
      "execution_count": 125,
      "outputs": [
        {
          "output_type": "display_data",
          "data": {
            "image/png": "[encoded data removed]",
            "text/plain": [
              "<Figure size 504x504 with 1 Axes>"
            ]
          },
          "metadata": {}
        }
      ]
    },
    {
      "cell_type": "markdown",
      "source": [
        "This is a nearly linear trend from Jan to Dec. "
      ],
      "metadata": {
        "id": "toBtHlm4mhA4"
      }
    },
    {
      "cell_type": "code",
      "source": [
        "plt.figure(figsize=(25,7))\n",
        "ax = ploandata.groupby('addr_state').id.count().plot.bar()\n",
        "plt.show()"
      ],
      "metadata": {
        "colab": {
          "base_uri": "https://localhost:8080/",
          "height": 417
        },
        "id": "q3mvtQW0mxKj",
        "outputId": "e05d566a-e816-4087-8b2c-fee3283bca07"
      },
      "execution_count": 126,
      "outputs": [
        {
          "output_type": "display_data",
          "data": {
            "image/png": "[encoded data removed]",
            "text/plain": [
              "<Figure size 1800x504 with 1 Axes>"
            ]
          },
          "metadata": {}
        }
      ]
    },
    {
      "cell_type": "code",
      "source": [
        "ploandata.groupby('loan_status')['addr_state'].value_counts(normalize=True)*100"
      ],
      "metadata": {
        "colab": {
          "base_uri": "https://localhost:8080/"
        },
        "id": "NcUtfN3xm_NT",
        "outputId": "ca0773d1-0369-4fde-f5b1-c7e69fcd99e1"
      },
      "execution_count": 127,
      "outputs": [
        {
          "output_type": "execute_result",
          "data": {
            "text/plain": [
              "loan_status  addr_state\n",
              "Charged Off  CA            19.853930\n",
              "             FL             8.821834\n",
              "             NY             8.725735\n",
              "             TX             5.669806\n",
              "             NJ             5.112435\n",
              "             GA             3.843936\n",
              "             IL             3.632520\n",
              "             VA             3.209687\n",
              "             PA             3.190467\n",
              "             MD             2.844513\n",
              "             MA             2.825293\n",
              "             OH             2.729195\n",
              "             WA             2.229483\n",
              "             AZ             2.171824\n",
              "             MO             1.979627\n",
              "             NC             1.941188\n",
              "             NV             1.941188\n",
              "             MI             1.806650\n",
              "             CO             1.672112\n",
              "             CT             1.652893\n",
              "             MN             1.441476\n",
              "             OR             1.306938\n",
              "             SC             1.230060\n",
              "             WI             1.114741\n",
              "             LA             0.999423\n",
              "             AL             0.941764\n",
              "             KY             0.845666\n",
              "             OK             0.730348\n",
              "             UT             0.711128\n",
              "             NM             0.557371\n",
              "             HI             0.538151\n",
              "             AR             0.499712\n",
              "             KS             0.499712\n",
              "             RI             0.480492\n",
              "             NH             0.442053\n",
              "             WV             0.384394\n",
              "             AK             0.288295\n",
              "             DC             0.269076\n",
              "             DE             0.211416\n",
              "             SD             0.211416\n",
              "             MT             0.192197\n",
              "             VT             0.115318\n",
              "             WY             0.057659\n",
              "             MS             0.038439\n",
              "             TN             0.038439\n",
              "Fully Paid   CA            17.849326\n",
              "             NY             9.668517\n",
              "             TX             7.140365\n",
              "             FL             6.905630\n",
              "             NJ             4.634417\n",
              "             PA             3.987312\n",
              "             IL             3.927042\n",
              "             VA             3.603489\n",
              "             GA             3.463918\n",
              "             MA             3.432197\n",
              "             OH             3.114988\n",
              "             MD             2.623315\n",
              "             AZ             2.147502\n",
              "             WA             2.042823\n",
              "             CO             2.007930\n",
              "             CT             1.934972\n",
              "             NC             1.874703\n",
              "             MI             1.798573\n",
              "             MO             1.690722\n",
              "             MN             1.576527\n",
              "             SC             1.202220\n",
              "             AL             1.141951\n",
              "             NV             1.138779\n",
              "             LA             1.129262\n",
              "             WI             1.110230\n",
              "             OR             1.097542\n",
              "             KY             0.824742\n",
              "             OK             0.767645\n",
              "             KS             0.681998\n",
              "             UT             0.647105\n",
              "             AR             0.624901\n",
              "             DC             0.609040\n",
              "             RI             0.523394\n",
              "             NM             0.456780\n",
              "             WV             0.453608\n",
              "             HI             0.418715\n",
              "             NH             0.415543\n",
              "             DE             0.304520\n",
              "             WY             0.228390\n",
              "             MT             0.212530\n",
              "             AK             0.190325\n",
              "             SD             0.152260\n",
              "             VT             0.142744\n",
              "             MS             0.053925\n",
              "             TN             0.025377\n",
              "             ID             0.012688\n",
              "             IA             0.003172\n",
              "             IN             0.003172\n",
              "             NE             0.003172\n",
              "Name: addr_state, dtype: float64"
            ]
          },
          "metadata": {},
          "execution_count": 127
        }
      ]
    },
    {
      "cell_type": "markdown",
      "source": [
        "California, Florida, New York - were the top 3 states in Charged Off Loans\n",
        "California, New York, Texas - were the top 3 states in Fully Paid Loans"
      ],
      "metadata": {
        "id": "S9lGVNDbm4CU"
      }
    },
    {
      "cell_type": "markdown",
      "source": [
        "We completely missed out dti - Debt to income ratio. Let's create some categories for dti to analyze this further."
      ],
      "metadata": {
        "id": "wftZkjYOnizH"
      }
    },
    {
      "cell_type": "code",
      "source": [
        "ploandata['dti_category'] = pd.cut(ploandata['dti'],[0,5,10,15,20,25,30], labels=['0-5','5-10','10-15','15-20','20-25','25-30'])\n",
        "ploandata.groupby('dti_category')['loan_status'].value_counts(normalize=True)*100"
      ],
      "metadata": {
        "colab": {
          "base_uri": "https://localhost:8080/"
        },
        "id": "81N1DS5jnrI_",
        "outputId": "efe05ee8-6122-4b50-d7d9-c907e780091c"
      },
      "execution_count": 130,
      "outputs": [
        {
          "output_type": "execute_result",
          "data": {
            "text/plain": [
              "dti_category  loan_status\n",
              "0-5           Fully Paid     88.068556\n",
              "              Charged Off    11.931444\n",
              "5-10          Fully Paid     87.719298\n",
              "              Charged Off    12.280702\n",
              "10-15         Fully Paid     85.811910\n",
              "              Charged Off    14.188090\n",
              "15-20         Fully Paid     84.667378\n",
              "              Charged Off    15.332622\n",
              "20-25         Fully Paid     83.552319\n",
              "              Charged Off    16.447681\n",
              "25-30         Fully Paid     86.744966\n",
              "              Charged Off    13.255034\n",
              "Name: loan_status, dtype: float64"
            ]
          },
          "metadata": {},
          "execution_count": 130
        }
      ]
    },
    {
      "cell_type": "markdown",
      "source": [
        "Strangely - it's not a straightforward linear relationship. The 20-25 category has a higher % of charged off loans vs the 25-30 category. Overall though - subjectively it can be said the higher DTI - higher default probability."
      ],
      "metadata": {
        "id": "ZtY7r5Yzojkg"
      }
    },
    {
      "cell_type": "markdown",
      "source": [
        "Let's look at a bunch of these columns to see how they are correlated. "
      ],
      "metadata": {
        "id": "OR3Vuk8bpt3C"
      }
    },
    {
      "cell_type": "code",
      "source": [
        "plt.figure(figsize=(14,14))\n",
        "cont_var= ['loan_amnt', 'int_rate', 'installment','emp_length', 'annual_inc','dti', 'inq_last_6mths', 'revol_util']\n",
        "corr = ploandata[cont_var].corr()\n",
        "sns.heatmap(corr, annot=True, center=0.5)"
      ],
      "metadata": {
        "colab": {
          "base_uri": "https://localhost:8080/",
          "height": 833
        },
        "id": "sj6YP7VfpyTC",
        "outputId": "0950aad7-d276-4580-8515-430f581ca2a4"
      },
      "execution_count": 132,
      "outputs": [
        {
          "output_type": "execute_result",
          "data": {
            "text/plain": [
              "<matplotlib.axes._subplots.AxesSubplot at 0x7f5fd2188b90>"
            ]
          },
          "metadata": {},
          "execution_count": 132
        },
        {
          "output_type": "display_data",
          "data": {
            "image/png": "[encoded data removed]",
            "text/plain": [
              "<Figure size 1008x1008 with 2 Axes>"
            ]
          },
          "metadata": {}
        }
      ]
    },
    {
      "cell_type": "markdown",
      "source": [
        "Loan Amount is directly corelated to installment. Higher the loan, higher the installment. Straightforward. \n",
        "Higher the revolving utilization of credit - higher the interest rate as well as higher debt to income ratio."
      ],
      "metadata": {
        "id": "Fy19A7KWqc-C"
      }
    },
    {
      "cell_type": "markdown",
      "source": [
        "Now let's look at delinquencies and how they spread across the grade and corresponding loan amounts."
      ],
      "metadata": {
        "id": "6I21EeQhrtZ-"
      }
    },
    {
      "cell_type": "code",
      "source": [
        "plt.figure(figsize=(20,5))\n",
        "sns.barplot(x='delinq_2yrs', y='loan_amnt', hue='grade',data=ploandata, estimator=np.mean)\n",
        "plt.show()"
      ],
      "metadata": {
        "colab": {
          "base_uri": "https://localhost:8080/",
          "height": 339
        },
        "id": "PcXIEChPrXA6",
        "outputId": "d37efa56-f154-43df-85e1-6757b3eecb8f"
      },
      "execution_count": 133,
      "outputs": [
        {
          "output_type": "display_data",
          "data": {
            "image/png": "[encoded data removed]",
            "text/plain": [
              "<Figure size 1440x360 with 1 Axes>"
            ]
          },
          "metadata": {}
        }
      ]
    },
    {
      "cell_type": "markdown",
      "source": [
        "Delinquencies greater than 3 - still have issued loan amounts greater than 10000. This is a significant risk and is also an indicator that this is not properly feeding the grading system. "
      ],
      "metadata": {
        "id": "nAK2A9OrrqsQ"
      }
    },
    {
      "cell_type": "markdown",
      "source": [
        "Another perspective of a similar spread now from a DTI category standpoint as well as grade. This time we are looking at the loan amount instead of number of loans. "
      ],
      "metadata": {
        "id": "zhgPJSshsvPt"
      }
    },
    {
      "cell_type": "code",
      "source": [
        "plt.figure(figsize=(20,5))\n",
        "sns.barplot(x='dti_category', y='loan_amnt', hue='grade',data=ploandata, estimator=np.mean)\n",
        "plt.show()"
      ],
      "metadata": {
        "colab": {
          "base_uri": "https://localhost:8080/",
          "height": 339
        },
        "id": "fyP4PO6ZsQ_m",
        "outputId": "bc5b08c3-10f9-4569-f690-1db3b3e23675"
      },
      "execution_count": 134,
      "outputs": [
        {
          "output_type": "display_data",
          "data": {
            "image/png": "[encoded data removed]",
            "text/plain": [
              "<Figure size 1440x360 with 1 Axes>"
            ]
          },
          "metadata": {}
        }
      ]
    },
    {
      "cell_type": "markdown",
      "source": [
        "It's very evident that DTI is not being carefully evaluated before loan amounts are approved especially in the 15+ category. This needs to become an important variable. Let's look at this from another perspective: interest rates."
      ],
      "metadata": {
        "id": "zZiV4hl3sZxW"
      }
    },
    {
      "cell_type": "code",
      "source": [
        "plt.figure(figsize=(20,5))\n",
        "sns.barplot(x='dti_category', y='int_rate', hue='grade',data=ploandata, estimator=np.mean)\n",
        "plt.show()"
      ],
      "metadata": {
        "colab": {
          "base_uri": "https://localhost:8080/",
          "height": 339
        },
        "id": "humB5EQqte0_",
        "outputId": "1be65a6f-b884-4448-af32-07dd6020f2a4"
      },
      "execution_count": 135,
      "outputs": [
        {
          "output_type": "display_data",
          "data": {
            "image/png": "[encoded data removed]",
            "text/plain": [
              "<Figure size 1440x360 with 1 Axes>"
            ]
          },
          "metadata": {}
        }
      ]
    },
    {
      "cell_type": "markdown",
      "source": [
        "Grading system seems to influence the interest rates but the DTI category has no bearing on the interest rates or the grading system. It's safe to generalize that Grades A to G have lowest to highest interest rates regardless of DTI."
      ],
      "metadata": {
        "id": "2XeSawf0tucn"
      }
    },
    {
      "cell_type": "code",
      "source": [
        "ploandata['loan_amnt_category'] = pd.cut(ploandata['loan_amnt'],[0,5000,7500,10000,12500,15000,17500,20000,30000,40000], labels=['0-5K','5-7.5K','7.5-10K','10-12.5K','12.5-15K','15-17.5K','17.5-20K','20-30K','30-40K'])\n",
        "ploandata.groupby('loan_amnt_category')['loan_status'].value_counts(normalize=True)*100"
      ],
      "metadata": {
        "colab": {
          "base_uri": "https://localhost:8080/"
        },
        "id": "_zAZqLt-vclK",
        "outputId": "afb72341-613a-489c-9b6e-294585a79c14"
      },
      "execution_count": 139,
      "outputs": [
        {
          "output_type": "execute_result",
          "data": {
            "text/plain": [
              "loan_amnt_category  loan_status\n",
              "0-5K                Fully Paid     86.840309\n",
              "                    Charged Off    13.159691\n",
              "5-7.5K              Fully Paid     88.334530\n",
              "                    Charged Off    11.665470\n",
              "7.5-10K             Fully Paid     86.797029\n",
              "                    Charged Off    13.202971\n",
              "10-12.5K            Fully Paid     87.149918\n",
              "                    Charged Off    12.850082\n",
              "12.5-15K            Fully Paid     86.129458\n",
              "                    Charged Off    13.870542\n",
              "15-17.5K            Fully Paid     81.966187\n",
              "                    Charged Off    18.033813\n",
              "17.5-20K            Fully Paid     83.609718\n",
              "                    Charged Off    16.390282\n",
              "20-30K              Fully Paid     81.171670\n",
              "                    Charged Off    18.828330\n",
              "30-40K              Fully Paid     75.938804\n",
              "                    Charged Off    24.061196\n",
              "Name: loan_status, dtype: float64"
            ]
          },
          "metadata": {},
          "execution_count": 139
        }
      ]
    },
    {
      "cell_type": "code",
      "source": [
        "plt.figure(figsize=(20,5))\n",
        "sns.barplot(x='loan_amnt_category', y='revol_util', hue='grade',data=ploandata, estimator=np.mean)\n",
        "plt.show()"
      ],
      "metadata": {
        "colab": {
          "base_uri": "https://localhost:8080/",
          "height": 339
        },
        "id": "qlqunQ9-wUYl",
        "outputId": "df6caedd-5655-40ef-f9bd-1d2667117de2"
      },
      "execution_count": 140,
      "outputs": [
        {
          "output_type": "display_data",
          "data": {
            "image/png": "[encoded data removed]",
            "text/plain": [
              "<Figure size 1440x360 with 1 Axes>"
            ]
          },
          "metadata": {}
        }
      ]
    },
    {
      "cell_type": "markdown",
      "source": [
        "Across the plot as well as the table above, it is clear that when the revolving credit utilization is above 50% - higher loan amounts result in an increasing charged off situation."
      ],
      "metadata": {
        "id": "4KT54Meow3Af"
      }
    }
  ],
  "metadata": {
    "colab": {
      "name": "SantoshKumarRamarathnam.ipynb",
      "provenance": [],
      "collapsed_sections": []
    },
    "kernelspec": {
      "display_name": "Python 3",
      "name": "python3"
    },
    "language_info": {
      "codemirror_mode": {
        "name": "ipython",
        "version": 3
      },
      "file_extension": ".py",
      "mimetype": "text/x-python",
      "name": "python",
      "nbconvert_exporter": "python",
      "pygments_lexer": "ipython3",
      "version": "3.9.5"
    }
  },
  "nbformat": 4,
  "nbformat_minor": 0
}